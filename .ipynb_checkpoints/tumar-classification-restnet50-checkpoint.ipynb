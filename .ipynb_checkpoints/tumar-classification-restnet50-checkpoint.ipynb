{
 "cells": [
  {
   "cell_type": "code",
   "execution_count": 1,
   "metadata": {},
   "outputs": [],
   "source": [
    "import os\n",
    "import zipfile\n",
    "import numpy as np\n",
    "import pandas as pd\n",
    "import matplotlib.pyplot as plt\n",
    "import pickle\n",
    "import h5py\n",
    "import cv2"
   ]
  },
  {
   "cell_type": "code",
   "execution_count": 2,
   "metadata": {},
   "outputs": [],
   "source": [
    "import tensorflow as tf"
   ]
  },
  {
   "cell_type": "code",
   "execution_count": 3,
   "metadata": {},
   "outputs": [
    {
     "data": {
      "text/plain": [
       "'2.3.1'"
      ]
     },
     "execution_count": 3,
     "metadata": {},
     "output_type": "execute_result"
    }
   ],
   "source": [
    "tf.__version__"
   ]
  },
  {
   "cell_type": "code",
   "execution_count": 4,
   "metadata": {},
   "outputs": [],
   "source": [
    "from imutils import paths\n",
    "IMG_PATH = 'new dataset'\n",
    "images_path = list(paths.list_images(IMG_PATH))\n",
    "import os\n",
    "import cv2\n",
    "import numpy as np"
   ]
  },
  {
   "cell_type": "code",
   "execution_count": 5,
   "metadata": {},
   "outputs": [],
   "source": [
    "def load(path):\n",
    "    data = []\n",
    "    labels = []\n",
    "    # loop over the input image\n",
    "    for (i, imgpath) in enumerate(path):\n",
    "        gray_img = cv2.imread(imgpath)\n",
    "        image = cv2.cvtColor(gray_img, cv2.COLOR_BGR2RGB)\n",
    "        image = cv2.resize(image, (224, 224))\n",
    "        image = np.array(image)\n",
    "        label = imgpath.split(os.path.sep)[-2]\n",
    "        data.append(image)\n",
    "        labels.append(label)\n",
    "    # return a tuple of data and label\n",
    "    return data, labels"
   ]
  },
  {
   "cell_type": "code",
   "execution_count": 6,
   "metadata": {},
   "outputs": [],
   "source": [
    "image_list, label_list = load(images_path)"
   ]
  },
  {
   "cell_type": "code",
   "execution_count": 7,
   "metadata": {},
   "outputs": [
    {
     "data": {
      "text/plain": [
       "(224, 224, 3)"
      ]
     },
     "execution_count": 7,
     "metadata": {},
     "output_type": "execute_result"
    }
   ],
   "source": [
    "image_list[0].shape"
   ]
  },
  {
   "cell_type": "code",
   "execution_count": 8,
   "metadata": {},
   "outputs": [],
   "source": [
    "label_list_numerical = []\n",
    "for i in label_list:\n",
    "    if i == 'glioma':\n",
    "        label_list_numerical.append(2)\n",
    "    elif i == 'meningioma':\n",
    "        label_list_numerical.append(1)\n",
    "    elif i == 'pituitary':\n",
    "        label_list_numerical.append(3)"
   ]
  },
  {
   "cell_type": "code",
   "execution_count": 9,
   "metadata": {},
   "outputs": [],
   "source": [
    "from sklearn.preprocessing import LabelBinarizer\n",
    "lb = LabelBinarizer()\n",
    "label_list = lb.fit_transform(label_list)"
   ]
  },
  {
   "cell_type": "code",
   "execution_count": 10,
   "metadata": {},
   "outputs": [
    {
     "data": {
      "text/plain": [
       "array([1, 0, 0])"
      ]
     },
     "execution_count": 10,
     "metadata": {},
     "output_type": "execute_result"
    }
   ],
   "source": [
    "label_list[0]"
   ]
  },
  {
   "cell_type": "code",
   "execution_count": 11,
   "metadata": {},
   "outputs": [],
   "source": [
    "from sklearn.model_selection import train_test_split\n",
    "X_train, X_test, Y_train,Y_test = train_test_split(\n",
    "    image_list, \n",
    "    label_list,\n",
    "    test_size = 0.1,\n",
    "    random_state = 42)"
   ]
  },
  {
   "cell_type": "code",
   "execution_count": 12,
   "metadata": {},
   "outputs": [
    {
     "name": "stdout",
     "output_type": "stream",
     "text": [
      "2757\n",
      "2757\n"
     ]
    }
   ],
   "source": [
    "print(len(X_train))\n",
    "print(len(Y_train))"
   ]
  },
  {
   "cell_type": "code",
   "execution_count": null,
   "metadata": {},
   "outputs": [],
   "source": [
    "import tensorflow as tf\n",
    "#process and batch the test data\n",
    "test_batch = tf.data.Dataset.from_tensor_slices((X_test, Y_test)).batch(16)"
   ]
  },
  {
   "cell_type": "code",
   "execution_count": null,
   "metadata": {},
   "outputs": [],
   "source": [
    "tf.config.run_functions_eagerly(True)"
   ]
  },
  {
   "cell_type": "code",
   "execution_count": null,
   "metadata": {},
   "outputs": [],
   "source": [
    "#process and batch the train data\n",
    "train_batch = tf.data.Dataset.from_tensor_slices((X_train, Y_train)).batch(16)"
   ]
  },
  {
   "cell_type": "code",
   "execution_count": null,
   "metadata": {},
   "outputs": [],
   "source": [
    "#Use buffered prefetching to load images from disk without having I/O become blocking.\n",
    "AUTOTUNE = tf.data.experimental.AUTOTUNE\n",
    "\n",
    "train_dataset = train_batch.prefetch(buffer_size=AUTOTUNE)\n",
    "test_dataset = test_batch.prefetch(buffer_size=AUTOTUNE)"
   ]
  },
  {
   "cell_type": "code",
   "execution_count": null,
   "metadata": {},
   "outputs": [],
   "source": [
    "preprocess_input = tf.keras.applications.resnet50.preprocess_input"
   ]
  },
  {
   "cell_type": "code",
   "execution_count": null,
   "metadata": {},
   "outputs": [],
   "source": [
    "from tensorflow.keras.layers.experimental import preprocessing\n",
    "from tensorflow.keras.models import Sequential\n",
    "img_augmentation = Sequential(\n",
    "    [\n",
    "        preprocessing.RandomRotation(factor=0.15),\n",
    "        preprocessing.RandomTranslation(height_factor=0.1, width_factor=0.1),\n",
    "        preprocessing.RandomFlip(),\n",
    "        preprocessing.RandomContrast(factor=0.1),\n",
    "    ],\n",
    "    name=\"img_augmentation\",\n",
    ")"
   ]
  },
  {
   "cell_type": "code",
   "execution_count": null,
   "metadata": {},
   "outputs": [],
   "source": [
    "#IMG_SHAPE = image_list[0].shape\n",
    "base_model = tf.keras.applications.ResNet50(input_shape=(224,224,3),\n",
    "                                               include_top=False,\n",
    "                                               weights='imagenet')"
   ]
  },
  {
   "cell_type": "code",
   "execution_count": 21,
   "metadata": {},
   "outputs": [
    {
     "name": "stdout",
     "output_type": "stream",
     "text": [
      "Model: \"efficientnetb0\"\n",
      "__________________________________________________________________________________________________\n",
      "Layer (type)                    Output Shape         Param #     Connected to                     \n",
      "==================================================================================================\n",
      "input_1 (InputLayer)            [(None, 224, 224, 3) 0                                            \n",
      "__________________________________________________________________________________________________\n",
      "rescaling (Rescaling)           (None, 224, 224, 3)  0           input_1[0][0]                    \n",
      "__________________________________________________________________________________________________\n",
      "normalization (Normalization)   (None, 224, 224, 3)  7           rescaling[0][0]                  \n",
      "__________________________________________________________________________________________________\n",
      "stem_conv_pad (ZeroPadding2D)   (None, 225, 225, 3)  0           normalization[0][0]              \n",
      "__________________________________________________________________________________________________\n",
      "stem_conv (Conv2D)              (None, 112, 112, 32) 864         stem_conv_pad[0][0]              \n",
      "__________________________________________________________________________________________________\n",
      "stem_bn (BatchNormalization)    (None, 112, 112, 32) 128         stem_conv[0][0]                  \n",
      "__________________________________________________________________________________________________\n",
      "stem_activation (Activation)    (None, 112, 112, 32) 0           stem_bn[0][0]                    \n",
      "__________________________________________________________________________________________________\n",
      "block1a_dwconv (DepthwiseConv2D (None, 112, 112, 32) 288         stem_activation[0][0]            \n",
      "__________________________________________________________________________________________________\n",
      "block1a_bn (BatchNormalization) (None, 112, 112, 32) 128         block1a_dwconv[0][0]             \n",
      "__________________________________________________________________________________________________\n",
      "block1a_activation (Activation) (None, 112, 112, 32) 0           block1a_bn[0][0]                 \n",
      "__________________________________________________________________________________________________\n",
      "block1a_se_squeeze (GlobalAvera (None, 32)           0           block1a_activation[0][0]         \n",
      "__________________________________________________________________________________________________\n",
      "block1a_se_reshape (Reshape)    (None, 1, 1, 32)     0           block1a_se_squeeze[0][0]         \n",
      "__________________________________________________________________________________________________\n",
      "block1a_se_reduce (Conv2D)      (None, 1, 1, 8)      264         block1a_se_reshape[0][0]         \n",
      "__________________________________________________________________________________________________\n",
      "block1a_se_expand (Conv2D)      (None, 1, 1, 32)     288         block1a_se_reduce[0][0]          \n",
      "__________________________________________________________________________________________________\n",
      "block1a_se_excite (Multiply)    (None, 112, 112, 32) 0           block1a_activation[0][0]         \n",
      "                                                                 block1a_se_expand[0][0]          \n",
      "__________________________________________________________________________________________________\n",
      "block1a_project_conv (Conv2D)   (None, 112, 112, 16) 512         block1a_se_excite[0][0]          \n",
      "__________________________________________________________________________________________________\n",
      "block1a_project_bn (BatchNormal (None, 112, 112, 16) 64          block1a_project_conv[0][0]       \n",
      "__________________________________________________________________________________________________\n",
      "block2a_expand_conv (Conv2D)    (None, 112, 112, 96) 1536        block1a_project_bn[0][0]         \n",
      "__________________________________________________________________________________________________\n",
      "block2a_expand_bn (BatchNormali (None, 112, 112, 96) 384         block2a_expand_conv[0][0]        \n",
      "__________________________________________________________________________________________________\n",
      "block2a_expand_activation (Acti (None, 112, 112, 96) 0           block2a_expand_bn[0][0]          \n",
      "__________________________________________________________________________________________________\n",
      "block2a_dwconv_pad (ZeroPadding (None, 113, 113, 96) 0           block2a_expand_activation[0][0]  \n",
      "__________________________________________________________________________________________________\n",
      "block2a_dwconv (DepthwiseConv2D (None, 56, 56, 96)   864         block2a_dwconv_pad[0][0]         \n",
      "__________________________________________________________________________________________________\n",
      "block2a_bn (BatchNormalization) (None, 56, 56, 96)   384         block2a_dwconv[0][0]             \n",
      "__________________________________________________________________________________________________\n",
      "block2a_activation (Activation) (None, 56, 56, 96)   0           block2a_bn[0][0]                 \n",
      "__________________________________________________________________________________________________\n",
      "block2a_se_squeeze (GlobalAvera (None, 96)           0           block2a_activation[0][0]         \n",
      "__________________________________________________________________________________________________\n",
      "block2a_se_reshape (Reshape)    (None, 1, 1, 96)     0           block2a_se_squeeze[0][0]         \n",
      "__________________________________________________________________________________________________\n",
      "block2a_se_reduce (Conv2D)      (None, 1, 1, 4)      388         block2a_se_reshape[0][0]         \n",
      "__________________________________________________________________________________________________\n",
      "block2a_se_expand (Conv2D)      (None, 1, 1, 96)     480         block2a_se_reduce[0][0]          \n",
      "__________________________________________________________________________________________________\n",
      "block2a_se_excite (Multiply)    (None, 56, 56, 96)   0           block2a_activation[0][0]         \n",
      "                                                                 block2a_se_expand[0][0]          \n",
      "__________________________________________________________________________________________________\n",
      "block2a_project_conv (Conv2D)   (None, 56, 56, 24)   2304        block2a_se_excite[0][0]          \n",
      "__________________________________________________________________________________________________\n",
      "block2a_project_bn (BatchNormal (None, 56, 56, 24)   96          block2a_project_conv[0][0]       \n",
      "__________________________________________________________________________________________________\n",
      "block2b_expand_conv (Conv2D)    (None, 56, 56, 144)  3456        block2a_project_bn[0][0]         \n",
      "__________________________________________________________________________________________________\n",
      "block2b_expand_bn (BatchNormali (None, 56, 56, 144)  576         block2b_expand_conv[0][0]        \n",
      "__________________________________________________________________________________________________\n",
      "block2b_expand_activation (Acti (None, 56, 56, 144)  0           block2b_expand_bn[0][0]          \n",
      "__________________________________________________________________________________________________\n",
      "block2b_dwconv (DepthwiseConv2D (None, 56, 56, 144)  1296        block2b_expand_activation[0][0]  \n",
      "__________________________________________________________________________________________________\n",
      "block2b_bn (BatchNormalization) (None, 56, 56, 144)  576         block2b_dwconv[0][0]             \n",
      "__________________________________________________________________________________________________\n",
      "block2b_activation (Activation) (None, 56, 56, 144)  0           block2b_bn[0][0]                 \n",
      "__________________________________________________________________________________________________\n",
      "block2b_se_squeeze (GlobalAvera (None, 144)          0           block2b_activation[0][0]         \n",
      "__________________________________________________________________________________________________\n",
      "block2b_se_reshape (Reshape)    (None, 1, 1, 144)    0           block2b_se_squeeze[0][0]         \n",
      "__________________________________________________________________________________________________\n",
      "block2b_se_reduce (Conv2D)      (None, 1, 1, 6)      870         block2b_se_reshape[0][0]         \n",
      "__________________________________________________________________________________________________\n",
      "block2b_se_expand (Conv2D)      (None, 1, 1, 144)    1008        block2b_se_reduce[0][0]          \n",
      "__________________________________________________________________________________________________\n",
      "block2b_se_excite (Multiply)    (None, 56, 56, 144)  0           block2b_activation[0][0]         \n",
      "                                                                 block2b_se_expand[0][0]          \n",
      "__________________________________________________________________________________________________\n",
      "block2b_project_conv (Conv2D)   (None, 56, 56, 24)   3456        block2b_se_excite[0][0]          \n",
      "__________________________________________________________________________________________________\n",
      "block2b_project_bn (BatchNormal (None, 56, 56, 24)   96          block2b_project_conv[0][0]       \n",
      "__________________________________________________________________________________________________\n",
      "block2b_drop (Dropout)          (None, 56, 56, 24)   0           block2b_project_bn[0][0]         \n",
      "__________________________________________________________________________________________________\n",
      "block2b_add (Add)               (None, 56, 56, 24)   0           block2b_drop[0][0]               \n",
      "                                                                 block2a_project_bn[0][0]         \n",
      "__________________________________________________________________________________________________\n",
      "block3a_expand_conv (Conv2D)    (None, 56, 56, 144)  3456        block2b_add[0][0]                \n",
      "__________________________________________________________________________________________________\n",
      "block3a_expand_bn (BatchNormali (None, 56, 56, 144)  576         block3a_expand_conv[0][0]        \n",
      "__________________________________________________________________________________________________\n",
      "block3a_expand_activation (Acti (None, 56, 56, 144)  0           block3a_expand_bn[0][0]          \n",
      "__________________________________________________________________________________________________\n",
      "block3a_dwconv_pad (ZeroPadding (None, 59, 59, 144)  0           block3a_expand_activation[0][0]  \n",
      "__________________________________________________________________________________________________\n",
      "block3a_dwconv (DepthwiseConv2D (None, 28, 28, 144)  3600        block3a_dwconv_pad[0][0]         \n",
      "__________________________________________________________________________________________________\n",
      "block3a_bn (BatchNormalization) (None, 28, 28, 144)  576         block3a_dwconv[0][0]             \n",
      "__________________________________________________________________________________________________\n",
      "block3a_activation (Activation) (None, 28, 28, 144)  0           block3a_bn[0][0]                 \n",
      "__________________________________________________________________________________________________\n",
      "block3a_se_squeeze (GlobalAvera (None, 144)          0           block3a_activation[0][0]         \n",
      "__________________________________________________________________________________________________\n",
      "block3a_se_reshape (Reshape)    (None, 1, 1, 144)    0           block3a_se_squeeze[0][0]         \n",
      "__________________________________________________________________________________________________\n",
      "block3a_se_reduce (Conv2D)      (None, 1, 1, 6)      870         block3a_se_reshape[0][0]         \n",
      "__________________________________________________________________________________________________\n",
      "block3a_se_expand (Conv2D)      (None, 1, 1, 144)    1008        block3a_se_reduce[0][0]          \n",
      "__________________________________________________________________________________________________\n",
      "block3a_se_excite (Multiply)    (None, 28, 28, 144)  0           block3a_activation[0][0]         \n",
      "                                                                 block3a_se_expand[0][0]          \n",
      "__________________________________________________________________________________________________\n",
      "block3a_project_conv (Conv2D)   (None, 28, 28, 40)   5760        block3a_se_excite[0][0]          \n",
      "__________________________________________________________________________________________________\n",
      "block3a_project_bn (BatchNormal (None, 28, 28, 40)   160         block3a_project_conv[0][0]       \n",
      "__________________________________________________________________________________________________\n",
      "block3b_expand_conv (Conv2D)    (None, 28, 28, 240)  9600        block3a_project_bn[0][0]         \n",
      "__________________________________________________________________________________________________\n",
      "block3b_expand_bn (BatchNormali (None, 28, 28, 240)  960         block3b_expand_conv[0][0]        \n",
      "__________________________________________________________________________________________________\n",
      "block3b_expand_activation (Acti (None, 28, 28, 240)  0           block3b_expand_bn[0][0]          \n",
      "__________________________________________________________________________________________________\n",
      "block3b_dwconv (DepthwiseConv2D (None, 28, 28, 240)  6000        block3b_expand_activation[0][0]  \n",
      "__________________________________________________________________________________________________\n",
      "block3b_bn (BatchNormalization) (None, 28, 28, 240)  960         block3b_dwconv[0][0]             \n",
      "__________________________________________________________________________________________________\n",
      "block3b_activation (Activation) (None, 28, 28, 240)  0           block3b_bn[0][0]                 \n",
      "__________________________________________________________________________________________________\n",
      "block3b_se_squeeze (GlobalAvera (None, 240)          0           block3b_activation[0][0]         \n",
      "__________________________________________________________________________________________________\n",
      "block3b_se_reshape (Reshape)    (None, 1, 1, 240)    0           block3b_se_squeeze[0][0]         \n",
      "__________________________________________________________________________________________________\n",
      "block3b_se_reduce (Conv2D)      (None, 1, 1, 10)     2410        block3b_se_reshape[0][0]         \n",
      "__________________________________________________________________________________________________\n",
      "block3b_se_expand (Conv2D)      (None, 1, 1, 240)    2640        block3b_se_reduce[0][0]          \n",
      "__________________________________________________________________________________________________\n",
      "block3b_se_excite (Multiply)    (None, 28, 28, 240)  0           block3b_activation[0][0]         \n",
      "                                                                 block3b_se_expand[0][0]          \n",
      "__________________________________________________________________________________________________\n",
      "block3b_project_conv (Conv2D)   (None, 28, 28, 40)   9600        block3b_se_excite[0][0]          \n",
      "__________________________________________________________________________________________________\n",
      "block3b_project_bn (BatchNormal (None, 28, 28, 40)   160         block3b_project_conv[0][0]       \n",
      "__________________________________________________________________________________________________\n",
      "block3b_drop (Dropout)          (None, 28, 28, 40)   0           block3b_project_bn[0][0]         \n",
      "__________________________________________________________________________________________________\n",
      "block3b_add (Add)               (None, 28, 28, 40)   0           block3b_drop[0][0]               \n",
      "                                                                 block3a_project_bn[0][0]         \n",
      "__________________________________________________________________________________________________\n",
      "block4a_expand_conv (Conv2D)    (None, 28, 28, 240)  9600        block3b_add[0][0]                \n",
      "__________________________________________________________________________________________________\n",
      "block4a_expand_bn (BatchNormali (None, 28, 28, 240)  960         block4a_expand_conv[0][0]        \n",
      "__________________________________________________________________________________________________\n",
      "block4a_expand_activation (Acti (None, 28, 28, 240)  0           block4a_expand_bn[0][0]          \n",
      "__________________________________________________________________________________________________\n",
      "block4a_dwconv_pad (ZeroPadding (None, 29, 29, 240)  0           block4a_expand_activation[0][0]  \n",
      "__________________________________________________________________________________________________\n",
      "block4a_dwconv (DepthwiseConv2D (None, 14, 14, 240)  2160        block4a_dwconv_pad[0][0]         \n",
      "__________________________________________________________________________________________________\n",
      "block4a_bn (BatchNormalization) (None, 14, 14, 240)  960         block4a_dwconv[0][0]             \n",
      "__________________________________________________________________________________________________\n",
      "block4a_activation (Activation) (None, 14, 14, 240)  0           block4a_bn[0][0]                 \n",
      "__________________________________________________________________________________________________\n",
      "block4a_se_squeeze (GlobalAvera (None, 240)          0           block4a_activation[0][0]         \n",
      "__________________________________________________________________________________________________\n",
      "block4a_se_reshape (Reshape)    (None, 1, 1, 240)    0           block4a_se_squeeze[0][0]         \n",
      "__________________________________________________________________________________________________\n",
      "block4a_se_reduce (Conv2D)      (None, 1, 1, 10)     2410        block4a_se_reshape[0][0]         \n",
      "__________________________________________________________________________________________________\n",
      "block4a_se_expand (Conv2D)      (None, 1, 1, 240)    2640        block4a_se_reduce[0][0]          \n",
      "__________________________________________________________________________________________________\n",
      "block4a_se_excite (Multiply)    (None, 14, 14, 240)  0           block4a_activation[0][0]         \n",
      "                                                                 block4a_se_expand[0][0]          \n",
      "__________________________________________________________________________________________________\n",
      "block4a_project_conv (Conv2D)   (None, 14, 14, 80)   19200       block4a_se_excite[0][0]          \n",
      "__________________________________________________________________________________________________\n",
      "block4a_project_bn (BatchNormal (None, 14, 14, 80)   320         block4a_project_conv[0][0]       \n",
      "__________________________________________________________________________________________________\n",
      "block4b_expand_conv (Conv2D)    (None, 14, 14, 480)  38400       block4a_project_bn[0][0]         \n",
      "__________________________________________________________________________________________________\n",
      "block4b_expand_bn (BatchNormali (None, 14, 14, 480)  1920        block4b_expand_conv[0][0]        \n",
      "__________________________________________________________________________________________________\n",
      "block4b_expand_activation (Acti (None, 14, 14, 480)  0           block4b_expand_bn[0][0]          \n",
      "__________________________________________________________________________________________________\n",
      "block4b_dwconv (DepthwiseConv2D (None, 14, 14, 480)  4320        block4b_expand_activation[0][0]  \n",
      "__________________________________________________________________________________________________\n",
      "block4b_bn (BatchNormalization) (None, 14, 14, 480)  1920        block4b_dwconv[0][0]             \n",
      "__________________________________________________________________________________________________\n",
      "block4b_activation (Activation) (None, 14, 14, 480)  0           block4b_bn[0][0]                 \n",
      "__________________________________________________________________________________________________\n",
      "block4b_se_squeeze (GlobalAvera (None, 480)          0           block4b_activation[0][0]         \n",
      "__________________________________________________________________________________________________\n",
      "block4b_se_reshape (Reshape)    (None, 1, 1, 480)    0           block4b_se_squeeze[0][0]         \n",
      "__________________________________________________________________________________________________\n",
      "block4b_se_reduce (Conv2D)      (None, 1, 1, 20)     9620        block4b_se_reshape[0][0]         \n",
      "__________________________________________________________________________________________________\n",
      "block4b_se_expand (Conv2D)      (None, 1, 1, 480)    10080       block4b_se_reduce[0][0]          \n",
      "__________________________________________________________________________________________________\n",
      "block4b_se_excite (Multiply)    (None, 14, 14, 480)  0           block4b_activation[0][0]         \n",
      "                                                                 block4b_se_expand[0][0]          \n",
      "__________________________________________________________________________________________________\n",
      "block4b_project_conv (Conv2D)   (None, 14, 14, 80)   38400       block4b_se_excite[0][0]          \n",
      "__________________________________________________________________________________________________\n",
      "block4b_project_bn (BatchNormal (None, 14, 14, 80)   320         block4b_project_conv[0][0]       \n",
      "__________________________________________________________________________________________________\n",
      "block4b_drop (Dropout)          (None, 14, 14, 80)   0           block4b_project_bn[0][0]         \n",
      "__________________________________________________________________________________________________\n",
      "block4b_add (Add)               (None, 14, 14, 80)   0           block4b_drop[0][0]               \n",
      "                                                                 block4a_project_bn[0][0]         \n",
      "__________________________________________________________________________________________________\n",
      "block4c_expand_conv (Conv2D)    (None, 14, 14, 480)  38400       block4b_add[0][0]                \n",
      "__________________________________________________________________________________________________\n",
      "block4c_expand_bn (BatchNormali (None, 14, 14, 480)  1920        block4c_expand_conv[0][0]        \n",
      "__________________________________________________________________________________________________\n",
      "block4c_expand_activation (Acti (None, 14, 14, 480)  0           block4c_expand_bn[0][0]          \n",
      "__________________________________________________________________________________________________\n",
      "block4c_dwconv (DepthwiseConv2D (None, 14, 14, 480)  4320        block4c_expand_activation[0][0]  \n",
      "__________________________________________________________________________________________________\n",
      "block4c_bn (BatchNormalization) (None, 14, 14, 480)  1920        block4c_dwconv[0][0]             \n",
      "__________________________________________________________________________________________________\n",
      "block4c_activation (Activation) (None, 14, 14, 480)  0           block4c_bn[0][0]                 \n",
      "__________________________________________________________________________________________________\n",
      "block4c_se_squeeze (GlobalAvera (None, 480)          0           block4c_activation[0][0]         \n",
      "__________________________________________________________________________________________________\n",
      "block4c_se_reshape (Reshape)    (None, 1, 1, 480)    0           block4c_se_squeeze[0][0]         \n",
      "__________________________________________________________________________________________________\n",
      "block4c_se_reduce (Conv2D)      (None, 1, 1, 20)     9620        block4c_se_reshape[0][0]         \n",
      "__________________________________________________________________________________________________\n",
      "block4c_se_expand (Conv2D)      (None, 1, 1, 480)    10080       block4c_se_reduce[0][0]          \n",
      "__________________________________________________________________________________________________\n",
      "block4c_se_excite (Multiply)    (None, 14, 14, 480)  0           block4c_activation[0][0]         \n",
      "                                                                 block4c_se_expand[0][0]          \n",
      "__________________________________________________________________________________________________\n",
      "block4c_project_conv (Conv2D)   (None, 14, 14, 80)   38400       block4c_se_excite[0][0]          \n",
      "__________________________________________________________________________________________________\n",
      "block4c_project_bn (BatchNormal (None, 14, 14, 80)   320         block4c_project_conv[0][0]       \n",
      "__________________________________________________________________________________________________\n",
      "block4c_drop (Dropout)          (None, 14, 14, 80)   0           block4c_project_bn[0][0]         \n",
      "__________________________________________________________________________________________________\n",
      "block4c_add (Add)               (None, 14, 14, 80)   0           block4c_drop[0][0]               \n",
      "                                                                 block4b_add[0][0]                \n",
      "__________________________________________________________________________________________________\n",
      "block5a_expand_conv (Conv2D)    (None, 14, 14, 480)  38400       block4c_add[0][0]                \n",
      "__________________________________________________________________________________________________\n",
      "block5a_expand_bn (BatchNormali (None, 14, 14, 480)  1920        block5a_expand_conv[0][0]        \n",
      "__________________________________________________________________________________________________\n",
      "block5a_expand_activation (Acti (None, 14, 14, 480)  0           block5a_expand_bn[0][0]          \n",
      "__________________________________________________________________________________________________\n",
      "block5a_dwconv (DepthwiseConv2D (None, 14, 14, 480)  12000       block5a_expand_activation[0][0]  \n",
      "__________________________________________________________________________________________________\n",
      "block5a_bn (BatchNormalization) (None, 14, 14, 480)  1920        block5a_dwconv[0][0]             \n",
      "__________________________________________________________________________________________________\n",
      "block5a_activation (Activation) (None, 14, 14, 480)  0           block5a_bn[0][0]                 \n",
      "__________________________________________________________________________________________________\n",
      "block5a_se_squeeze (GlobalAvera (None, 480)          0           block5a_activation[0][0]         \n",
      "__________________________________________________________________________________________________\n",
      "block5a_se_reshape (Reshape)    (None, 1, 1, 480)    0           block5a_se_squeeze[0][0]         \n",
      "__________________________________________________________________________________________________\n",
      "block5a_se_reduce (Conv2D)      (None, 1, 1, 20)     9620        block5a_se_reshape[0][0]         \n",
      "__________________________________________________________________________________________________\n",
      "block5a_se_expand (Conv2D)      (None, 1, 1, 480)    10080       block5a_se_reduce[0][0]          \n",
      "__________________________________________________________________________________________________\n",
      "block5a_se_excite (Multiply)    (None, 14, 14, 480)  0           block5a_activation[0][0]         \n",
      "                                                                 block5a_se_expand[0][0]          \n",
      "__________________________________________________________________________________________________\n",
      "block5a_project_conv (Conv2D)   (None, 14, 14, 112)  53760       block5a_se_excite[0][0]          \n",
      "__________________________________________________________________________________________________\n",
      "block5a_project_bn (BatchNormal (None, 14, 14, 112)  448         block5a_project_conv[0][0]       \n",
      "__________________________________________________________________________________________________\n",
      "block5b_expand_conv (Conv2D)    (None, 14, 14, 672)  75264       block5a_project_bn[0][0]         \n",
      "__________________________________________________________________________________________________\n",
      "block5b_expand_bn (BatchNormali (None, 14, 14, 672)  2688        block5b_expand_conv[0][0]        \n",
      "__________________________________________________________________________________________________\n",
      "block5b_expand_activation (Acti (None, 14, 14, 672)  0           block5b_expand_bn[0][0]          \n",
      "__________________________________________________________________________________________________\n",
      "block5b_dwconv (DepthwiseConv2D (None, 14, 14, 672)  16800       block5b_expand_activation[0][0]  \n",
      "__________________________________________________________________________________________________\n",
      "block5b_bn (BatchNormalization) (None, 14, 14, 672)  2688        block5b_dwconv[0][0]             \n",
      "__________________________________________________________________________________________________\n",
      "block5b_activation (Activation) (None, 14, 14, 672)  0           block5b_bn[0][0]                 \n",
      "__________________________________________________________________________________________________\n",
      "block5b_se_squeeze (GlobalAvera (None, 672)          0           block5b_activation[0][0]         \n",
      "__________________________________________________________________________________________________\n",
      "block5b_se_reshape (Reshape)    (None, 1, 1, 672)    0           block5b_se_squeeze[0][0]         \n",
      "__________________________________________________________________________________________________\n",
      "block5b_se_reduce (Conv2D)      (None, 1, 1, 28)     18844       block5b_se_reshape[0][0]         \n",
      "__________________________________________________________________________________________________\n",
      "block5b_se_expand (Conv2D)      (None, 1, 1, 672)    19488       block5b_se_reduce[0][0]          \n",
      "__________________________________________________________________________________________________\n",
      "block5b_se_excite (Multiply)    (None, 14, 14, 672)  0           block5b_activation[0][0]         \n",
      "                                                                 block5b_se_expand[0][0]          \n",
      "__________________________________________________________________________________________________\n",
      "block5b_project_conv (Conv2D)   (None, 14, 14, 112)  75264       block5b_se_excite[0][0]          \n",
      "__________________________________________________________________________________________________\n",
      "block5b_project_bn (BatchNormal (None, 14, 14, 112)  448         block5b_project_conv[0][0]       \n",
      "__________________________________________________________________________________________________\n",
      "block5b_drop (Dropout)          (None, 14, 14, 112)  0           block5b_project_bn[0][0]         \n",
      "__________________________________________________________________________________________________\n",
      "block5b_add (Add)               (None, 14, 14, 112)  0           block5b_drop[0][0]               \n",
      "                                                                 block5a_project_bn[0][0]         \n",
      "__________________________________________________________________________________________________\n",
      "block5c_expand_conv (Conv2D)    (None, 14, 14, 672)  75264       block5b_add[0][0]                \n",
      "__________________________________________________________________________________________________\n",
      "block5c_expand_bn (BatchNormali (None, 14, 14, 672)  2688        block5c_expand_conv[0][0]        \n",
      "__________________________________________________________________________________________________\n",
      "block5c_expand_activation (Acti (None, 14, 14, 672)  0           block5c_expand_bn[0][0]          \n",
      "__________________________________________________________________________________________________\n",
      "block5c_dwconv (DepthwiseConv2D (None, 14, 14, 672)  16800       block5c_expand_activation[0][0]  \n",
      "__________________________________________________________________________________________________\n",
      "block5c_bn (BatchNormalization) (None, 14, 14, 672)  2688        block5c_dwconv[0][0]             \n",
      "__________________________________________________________________________________________________\n",
      "block5c_activation (Activation) (None, 14, 14, 672)  0           block5c_bn[0][0]                 \n",
      "__________________________________________________________________________________________________\n",
      "block5c_se_squeeze (GlobalAvera (None, 672)          0           block5c_activation[0][0]         \n",
      "__________________________________________________________________________________________________\n",
      "block5c_se_reshape (Reshape)    (None, 1, 1, 672)    0           block5c_se_squeeze[0][0]         \n",
      "__________________________________________________________________________________________________\n",
      "block5c_se_reduce (Conv2D)      (None, 1, 1, 28)     18844       block5c_se_reshape[0][0]         \n",
      "__________________________________________________________________________________________________\n",
      "block5c_se_expand (Conv2D)      (None, 1, 1, 672)    19488       block5c_se_reduce[0][0]          \n",
      "__________________________________________________________________________________________________\n",
      "block5c_se_excite (Multiply)    (None, 14, 14, 672)  0           block5c_activation[0][0]         \n",
      "                                                                 block5c_se_expand[0][0]          \n",
      "__________________________________________________________________________________________________\n",
      "block5c_project_conv (Conv2D)   (None, 14, 14, 112)  75264       block5c_se_excite[0][0]          \n",
      "__________________________________________________________________________________________________\n",
      "block5c_project_bn (BatchNormal (None, 14, 14, 112)  448         block5c_project_conv[0][0]       \n",
      "__________________________________________________________________________________________________\n",
      "block5c_drop (Dropout)          (None, 14, 14, 112)  0           block5c_project_bn[0][0]         \n",
      "__________________________________________________________________________________________________\n",
      "block5c_add (Add)               (None, 14, 14, 112)  0           block5c_drop[0][0]               \n",
      "                                                                 block5b_add[0][0]                \n",
      "__________________________________________________________________________________________________\n",
      "block6a_expand_conv (Conv2D)    (None, 14, 14, 672)  75264       block5c_add[0][0]                \n",
      "__________________________________________________________________________________________________\n",
      "block6a_expand_bn (BatchNormali (None, 14, 14, 672)  2688        block6a_expand_conv[0][0]        \n",
      "__________________________________________________________________________________________________\n",
      "block6a_expand_activation (Acti (None, 14, 14, 672)  0           block6a_expand_bn[0][0]          \n",
      "__________________________________________________________________________________________________\n",
      "block6a_dwconv_pad (ZeroPadding (None, 17, 17, 672)  0           block6a_expand_activation[0][0]  \n",
      "__________________________________________________________________________________________________\n",
      "block6a_dwconv (DepthwiseConv2D (None, 7, 7, 672)    16800       block6a_dwconv_pad[0][0]         \n",
      "__________________________________________________________________________________________________\n",
      "block6a_bn (BatchNormalization) (None, 7, 7, 672)    2688        block6a_dwconv[0][0]             \n",
      "__________________________________________________________________________________________________\n",
      "block6a_activation (Activation) (None, 7, 7, 672)    0           block6a_bn[0][0]                 \n",
      "__________________________________________________________________________________________________\n",
      "block6a_se_squeeze (GlobalAvera (None, 672)          0           block6a_activation[0][0]         \n",
      "__________________________________________________________________________________________________\n",
      "block6a_se_reshape (Reshape)    (None, 1, 1, 672)    0           block6a_se_squeeze[0][0]         \n",
      "__________________________________________________________________________________________________\n",
      "block6a_se_reduce (Conv2D)      (None, 1, 1, 28)     18844       block6a_se_reshape[0][0]         \n",
      "__________________________________________________________________________________________________\n",
      "block6a_se_expand (Conv2D)      (None, 1, 1, 672)    19488       block6a_se_reduce[0][0]          \n",
      "__________________________________________________________________________________________________\n",
      "block6a_se_excite (Multiply)    (None, 7, 7, 672)    0           block6a_activation[0][0]         \n",
      "                                                                 block6a_se_expand[0][0]          \n",
      "__________________________________________________________________________________________________\n",
      "block6a_project_conv (Conv2D)   (None, 7, 7, 192)    129024      block6a_se_excite[0][0]          \n",
      "__________________________________________________________________________________________________\n",
      "block6a_project_bn (BatchNormal (None, 7, 7, 192)    768         block6a_project_conv[0][0]       \n",
      "__________________________________________________________________________________________________\n",
      "block6b_expand_conv (Conv2D)    (None, 7, 7, 1152)   221184      block6a_project_bn[0][0]         \n",
      "__________________________________________________________________________________________________\n",
      "block6b_expand_bn (BatchNormali (None, 7, 7, 1152)   4608        block6b_expand_conv[0][0]        \n",
      "__________________________________________________________________________________________________\n",
      "block6b_expand_activation (Acti (None, 7, 7, 1152)   0           block6b_expand_bn[0][0]          \n",
      "__________________________________________________________________________________________________\n",
      "block6b_dwconv (DepthwiseConv2D (None, 7, 7, 1152)   28800       block6b_expand_activation[0][0]  \n",
      "__________________________________________________________________________________________________\n",
      "block6b_bn (BatchNormalization) (None, 7, 7, 1152)   4608        block6b_dwconv[0][0]             \n",
      "__________________________________________________________________________________________________\n",
      "block6b_activation (Activation) (None, 7, 7, 1152)   0           block6b_bn[0][0]                 \n",
      "__________________________________________________________________________________________________\n",
      "block6b_se_squeeze (GlobalAvera (None, 1152)         0           block6b_activation[0][0]         \n",
      "__________________________________________________________________________________________________\n",
      "block6b_se_reshape (Reshape)    (None, 1, 1, 1152)   0           block6b_se_squeeze[0][0]         \n",
      "__________________________________________________________________________________________________\n",
      "block6b_se_reduce (Conv2D)      (None, 1, 1, 48)     55344       block6b_se_reshape[0][0]         \n",
      "__________________________________________________________________________________________________\n",
      "block6b_se_expand (Conv2D)      (None, 1, 1, 1152)   56448       block6b_se_reduce[0][0]          \n",
      "__________________________________________________________________________________________________\n",
      "block6b_se_excite (Multiply)    (None, 7, 7, 1152)   0           block6b_activation[0][0]         \n",
      "                                                                 block6b_se_expand[0][0]          \n",
      "__________________________________________________________________________________________________\n",
      "block6b_project_conv (Conv2D)   (None, 7, 7, 192)    221184      block6b_se_excite[0][0]          \n",
      "__________________________________________________________________________________________________\n",
      "block6b_project_bn (BatchNormal (None, 7, 7, 192)    768         block6b_project_conv[0][0]       \n",
      "__________________________________________________________________________________________________\n",
      "block6b_drop (Dropout)          (None, 7, 7, 192)    0           block6b_project_bn[0][0]         \n",
      "__________________________________________________________________________________________________\n",
      "block6b_add (Add)               (None, 7, 7, 192)    0           block6b_drop[0][0]               \n",
      "                                                                 block6a_project_bn[0][0]         \n",
      "__________________________________________________________________________________________________\n",
      "block6c_expand_conv (Conv2D)    (None, 7, 7, 1152)   221184      block6b_add[0][0]                \n",
      "__________________________________________________________________________________________________\n",
      "block6c_expand_bn (BatchNormali (None, 7, 7, 1152)   4608        block6c_expand_conv[0][0]        \n",
      "__________________________________________________________________________________________________\n",
      "block6c_expand_activation (Acti (None, 7, 7, 1152)   0           block6c_expand_bn[0][0]          \n",
      "__________________________________________________________________________________________________\n",
      "block6c_dwconv (DepthwiseConv2D (None, 7, 7, 1152)   28800       block6c_expand_activation[0][0]  \n",
      "__________________________________________________________________________________________________\n",
      "block6c_bn (BatchNormalization) (None, 7, 7, 1152)   4608        block6c_dwconv[0][0]             \n",
      "__________________________________________________________________________________________________\n",
      "block6c_activation (Activation) (None, 7, 7, 1152)   0           block6c_bn[0][0]                 \n",
      "__________________________________________________________________________________________________\n",
      "block6c_se_squeeze (GlobalAvera (None, 1152)         0           block6c_activation[0][0]         \n",
      "__________________________________________________________________________________________________\n",
      "block6c_se_reshape (Reshape)    (None, 1, 1, 1152)   0           block6c_se_squeeze[0][0]         \n",
      "__________________________________________________________________________________________________\n",
      "block6c_se_reduce (Conv2D)      (None, 1, 1, 48)     55344       block6c_se_reshape[0][0]         \n",
      "__________________________________________________________________________________________________\n",
      "block6c_se_expand (Conv2D)      (None, 1, 1, 1152)   56448       block6c_se_reduce[0][0]          \n",
      "__________________________________________________________________________________________________\n",
      "block6c_se_excite (Multiply)    (None, 7, 7, 1152)   0           block6c_activation[0][0]         \n",
      "                                                                 block6c_se_expand[0][0]          \n",
      "__________________________________________________________________________________________________\n",
      "block6c_project_conv (Conv2D)   (None, 7, 7, 192)    221184      block6c_se_excite[0][0]          \n",
      "__________________________________________________________________________________________________\n",
      "block6c_project_bn (BatchNormal (None, 7, 7, 192)    768         block6c_project_conv[0][0]       \n",
      "__________________________________________________________________________________________________\n",
      "block6c_drop (Dropout)          (None, 7, 7, 192)    0           block6c_project_bn[0][0]         \n",
      "__________________________________________________________________________________________________\n",
      "block6c_add (Add)               (None, 7, 7, 192)    0           block6c_drop[0][0]               \n",
      "                                                                 block6b_add[0][0]                \n",
      "__________________________________________________________________________________________________\n",
      "block6d_expand_conv (Conv2D)    (None, 7, 7, 1152)   221184      block6c_add[0][0]                \n",
      "__________________________________________________________________________________________________\n",
      "block6d_expand_bn (BatchNormali (None, 7, 7, 1152)   4608        block6d_expand_conv[0][0]        \n",
      "__________________________________________________________________________________________________\n",
      "block6d_expand_activation (Acti (None, 7, 7, 1152)   0           block6d_expand_bn[0][0]          \n",
      "__________________________________________________________________________________________________\n",
      "block6d_dwconv (DepthwiseConv2D (None, 7, 7, 1152)   28800       block6d_expand_activation[0][0]  \n",
      "__________________________________________________________________________________________________\n",
      "block6d_bn (BatchNormalization) (None, 7, 7, 1152)   4608        block6d_dwconv[0][0]             \n",
      "__________________________________________________________________________________________________\n",
      "block6d_activation (Activation) (None, 7, 7, 1152)   0           block6d_bn[0][0]                 \n",
      "__________________________________________________________________________________________________\n",
      "block6d_se_squeeze (GlobalAvera (None, 1152)         0           block6d_activation[0][0]         \n",
      "__________________________________________________________________________________________________\n",
      "block6d_se_reshape (Reshape)    (None, 1, 1, 1152)   0           block6d_se_squeeze[0][0]         \n",
      "__________________________________________________________________________________________________\n",
      "block6d_se_reduce (Conv2D)      (None, 1, 1, 48)     55344       block6d_se_reshape[0][0]         \n",
      "__________________________________________________________________________________________________\n",
      "block6d_se_expand (Conv2D)      (None, 1, 1, 1152)   56448       block6d_se_reduce[0][0]          \n",
      "__________________________________________________________________________________________________\n",
      "block6d_se_excite (Multiply)    (None, 7, 7, 1152)   0           block6d_activation[0][0]         \n",
      "                                                                 block6d_se_expand[0][0]          \n",
      "__________________________________________________________________________________________________\n",
      "block6d_project_conv (Conv2D)   (None, 7, 7, 192)    221184      block6d_se_excite[0][0]          \n",
      "__________________________________________________________________________________________________\n",
      "block6d_project_bn (BatchNormal (None, 7, 7, 192)    768         block6d_project_conv[0][0]       \n",
      "__________________________________________________________________________________________________\n",
      "block6d_drop (Dropout)          (None, 7, 7, 192)    0           block6d_project_bn[0][0]         \n",
      "__________________________________________________________________________________________________\n",
      "block6d_add (Add)               (None, 7, 7, 192)    0           block6d_drop[0][0]               \n",
      "                                                                 block6c_add[0][0]                \n",
      "__________________________________________________________________________________________________\n",
      "block7a_expand_conv (Conv2D)    (None, 7, 7, 1152)   221184      block6d_add[0][0]                \n",
      "__________________________________________________________________________________________________\n",
      "block7a_expand_bn (BatchNormali (None, 7, 7, 1152)   4608        block7a_expand_conv[0][0]        \n",
      "__________________________________________________________________________________________________\n",
      "block7a_expand_activation (Acti (None, 7, 7, 1152)   0           block7a_expand_bn[0][0]          \n",
      "__________________________________________________________________________________________________\n",
      "block7a_dwconv (DepthwiseConv2D (None, 7, 7, 1152)   10368       block7a_expand_activation[0][0]  \n",
      "__________________________________________________________________________________________________\n",
      "block7a_bn (BatchNormalization) (None, 7, 7, 1152)   4608        block7a_dwconv[0][0]             \n",
      "__________________________________________________________________________________________________\n",
      "block7a_activation (Activation) (None, 7, 7, 1152)   0           block7a_bn[0][0]                 \n",
      "__________________________________________________________________________________________________\n",
      "block7a_se_squeeze (GlobalAvera (None, 1152)         0           block7a_activation[0][0]         \n",
      "__________________________________________________________________________________________________\n",
      "block7a_se_reshape (Reshape)    (None, 1, 1, 1152)   0           block7a_se_squeeze[0][0]         \n",
      "__________________________________________________________________________________________________\n",
      "block7a_se_reduce (Conv2D)      (None, 1, 1, 48)     55344       block7a_se_reshape[0][0]         \n",
      "__________________________________________________________________________________________________\n",
      "block7a_se_expand (Conv2D)      (None, 1, 1, 1152)   56448       block7a_se_reduce[0][0]          \n",
      "__________________________________________________________________________________________________\n",
      "block7a_se_excite (Multiply)    (None, 7, 7, 1152)   0           block7a_activation[0][0]         \n",
      "                                                                 block7a_se_expand[0][0]          \n",
      "__________________________________________________________________________________________________\n",
      "block7a_project_conv (Conv2D)   (None, 7, 7, 320)    368640      block7a_se_excite[0][0]          \n",
      "__________________________________________________________________________________________________\n",
      "block7a_project_bn (BatchNormal (None, 7, 7, 320)    1280        block7a_project_conv[0][0]       \n",
      "__________________________________________________________________________________________________\n",
      "top_conv (Conv2D)               (None, 7, 7, 1280)   409600      block7a_project_bn[0][0]         \n",
      "__________________________________________________________________________________________________\n",
      "top_bn (BatchNormalization)     (None, 7, 7, 1280)   5120        top_conv[0][0]                   \n",
      "__________________________________________________________________________________________________\n",
      "top_activation (Activation)     (None, 7, 7, 1280)   0           top_bn[0][0]                     \n",
      "==================================================================================================\n"
     ]
    },
    {
     "name": "stdout",
     "output_type": "stream",
     "text": [
      "Total params: 4,049,571\n",
      "Trainable params: 0\n",
      "Non-trainable params: 4,049,571\n",
      "__________________________________________________________________________________________________\n"
     ]
    }
   ],
   "source": [
    "base_model.trainable = False\n",
    "base_model.summary()"
   ]
  },
  {
   "cell_type": "code",
   "execution_count": 22,
   "metadata": {},
   "outputs": [],
   "source": [
    "global_average_layer = tf.keras.layers.GlobalAveragePooling2D()"
   ]
  },
  {
   "cell_type": "code",
   "execution_count": 23,
   "metadata": {},
   "outputs": [],
   "source": [
    "prediction_layer = tf.keras.layers.Dense(3, activation='softmax')"
   ]
  },
  {
   "cell_type": "code",
   "execution_count": 24,
   "metadata": {},
   "outputs": [
    {
     "data": {
      "text/plain": [
       "{'name': 'dense',\n",
       " 'trainable': True,\n",
       " 'dtype': 'float32',\n",
       " 'units': 3,\n",
       " 'activation': 'softmax',\n",
       " 'use_bias': True,\n",
       " 'kernel_initializer': {'class_name': 'GlorotUniform',\n",
       "  'config': {'seed': None}},\n",
       " 'bias_initializer': {'class_name': 'Zeros', 'config': {}},\n",
       " 'kernel_regularizer': None,\n",
       " 'bias_regularizer': None,\n",
       " 'activity_regularizer': None,\n",
       " 'kernel_constraint': None,\n",
       " 'bias_constraint': None}"
      ]
     },
     "execution_count": 24,
     "metadata": {},
     "output_type": "execute_result"
    }
   ],
   "source": [
    "prediction_layer.get_config()"
   ]
  },
  {
   "cell_type": "code",
   "execution_count": 25,
   "metadata": {},
   "outputs": [],
   "source": [
    "inputs = tf.keras.Input(shape=(224,224, 3))\n",
    "x = preprocess_input(inputs)\n",
    "x = img_augmentation(x)\n",
    "x = base_model(x, training=False)\n",
    "x = global_average_layer(x)\n",
    "x = tf.keras.layers.BatchNormalization()(x)\n",
    "x = tf.keras.layers.Dropout(0.2)(x)\n",
    "outputs = prediction_layer(x)\n",
    "model = tf.keras.Model(inputs, outputs)"
   ]
  },
  {
   "cell_type": "code",
   "execution_count": 26,
   "metadata": {},
   "outputs": [],
   "source": [
    "base_learning_rate = 0.0001\n",
    "model.compile(optimizer=tf.keras.optimizers.Adam(lr=base_learning_rate),\n",
    "              loss=tf.keras.losses.categorical_crossentropy,\n",
    "              metrics=['accuracy'])"
   ]
  },
  {
   "cell_type": "code",
   "execution_count": 27,
   "metadata": {},
   "outputs": [
    {
     "name": "stdout",
     "output_type": "stream",
     "text": [
      "Model: \"functional_1\"\n",
      "_________________________________________________________________\n",
      "Layer (type)                 Output Shape              Param #   \n",
      "=================================================================\n",
      "input_2 (InputLayer)         [(None, 224, 224, 3)]     0         \n",
      "_________________________________________________________________\n",
      "img_augmentation (Sequential (None, 224, 224, 3)       0         \n",
      "_________________________________________________________________\n",
      "efficientnetb0 (Functional)  (None, 7, 7, 1280)        4049571   \n",
      "_________________________________________________________________\n",
      "global_average_pooling2d (Gl (None, 1280)              0         \n",
      "_________________________________________________________________\n",
      "batch_normalization (BatchNo (None, 1280)              5120      \n",
      "_________________________________________________________________\n",
      "dropout (Dropout)            (None, 1280)              0         \n",
      "_________________________________________________________________\n",
      "dense (Dense)                (None, 3)                 3843      \n",
      "=================================================================\n",
      "Total params: 4,058,534\n",
      "Trainable params: 6,403\n",
      "Non-trainable params: 4,052,131\n",
      "_________________________________________________________________\n"
     ]
    }
   ],
   "source": [
    "model.summary()"
   ]
  },
  {
   "cell_type": "code",
   "execution_count": 28,
   "metadata": {},
   "outputs": [],
   "source": [
    "initial_epochs = 30"
   ]
  },
  {
   "cell_type": "code",
   "execution_count": 29,
   "metadata": {},
   "outputs": [
    {
     "name": "stdout",
     "output_type": "stream",
     "text": [
      "[name: \"/device:CPU:0\"\n",
      "device_type: \"CPU\"\n",
      "memory_limit: 268435456\n",
      "locality {\n",
      "}\n",
      "incarnation: 813299735096813340\n",
      ", name: \"/device:XLA_CPU:0\"\n",
      "device_type: \"XLA_CPU\"\n",
      "memory_limit: 17179869184\n",
      "locality {\n",
      "}\n",
      "incarnation: 10432578544682392016\n",
      "physical_device_desc: \"device: XLA_CPU device\"\n",
      ", name: \"/device:XLA_GPU:0\"\n",
      "device_type: \"XLA_GPU\"\n",
      "memory_limit: 17179869184\n",
      "locality {\n",
      "}\n",
      "incarnation: 2139425563070642749\n",
      "physical_device_desc: \"device: XLA_GPU device\"\n",
      "]\n"
     ]
    }
   ],
   "source": [
    "from tensorflow.python.client import device_lib\n",
    "print(device_lib.list_local_devices())"
   ]
  },
  {
   "cell_type": "code",
   "execution_count": null,
   "metadata": {},
   "outputs": [
    {
     "name": "stdout",
     "output_type": "stream",
     "text": [
      "Epoch 1/2\n",
      "173/173 [==============================] - 711s 4s/step - loss: 1.1715 - accuracy: 0.5118 - val_loss: 0.8884 - val_accuracy: 0.6287\n",
      "Epoch 2/2\n",
      " 14/173 [=>............................] - ETA: 10:46 - loss: 0.9636 - accuracy: 0.6250"
     ]
    }
   ],
   "source": [
    "history = model.fit(train_dataset, epochs=initial_epochs,validation_data=test_dataset)"
   ]
  },
  {
   "cell_type": "code",
   "execution_count": 98,
   "metadata": {},
   "outputs": [
    {
     "data": {
      "text/plain": [
       "<tensorflow.python.keras.callbacks.History at 0x208d0485148>"
      ]
     },
     "execution_count": 98,
     "metadata": {},
     "output_type": "execute_result"
    }
   ],
   "source": [
    "history"
   ]
  },
  {
   "cell_type": "code",
   "execution_count": 42,
   "metadata": {},
   "outputs": [
    {
     "name": "stdout",
     "output_type": "stream",
     "text": [
      "[0.7823721170425415, 0.8128400444984436, 0.8219078779220581, 0.8168298602104187, 0.8258976936340332, 0.8258976936340332, 0.837867259979248, 0.8393180966377258, 0.8342401385307312, 0.8407689332962036, 0.8440333604812622, 0.8494740724563599, 0.8498367667198181, 0.847660481929779, 0.8516503572463989, 0.8523757457733154, 0.8480232357978821, 0.8628944754600525, 0.8603554368019104, 0.8614435791969299]\n"
     ]
    }
   ],
   "source": [
    "acc = history.history['accuracy']\n",
    "print(acc)"
   ]
  },
  {
   "cell_type": "code",
   "execution_count": 43,
   "metadata": {},
   "outputs": [
    {
     "data": {
      "image/png": "[encoded data removed]",
      "text/plain": [
       "<Figure size 576x576 with 2 Axes>"
      ]
     },
     "metadata": {
      "needs_background": "light"
     },
     "output_type": "display_data"
    }
   ],
   "source": [
    "acc = history.history['accuracy']\n",
    "val_acc = history.history['val_accuracy']\n",
    "loss = history.history['loss']\n",
    "val_loss = history.history['val_loss']\n",
    "\n",
    "\n",
    "plt.figure(figsize=(8, 8))\n",
    "plt.subplot(2, 1, 1)\n",
    "plt.plot(acc, label='Training Accuracy')\n",
    "plt.plot()\n",
    "#plt.plot(val_acc, label='Validation Accuracy')\n",
    "plt.legend(loc='lower right')\n",
    "plt.ylabel('Accuracy')\n",
    "plt.ylim([min(plt.ylim()),1])\n",
    "plt.title('Training and Validation Accuracy')\n",
    "\n",
    "plt.subplot(2, 1, 2)\n",
    "plt.plot(loss, label='Training Loss')\n",
    "#plt.plot(val_loss, label='Validation Loss')\n",
    "plt.legend(loc='upper right')\n",
    "plt.ylabel('Cross Entropy')\n",
    "plt.ylim([0,1.0])\n",
    "plt.title('Training and Validation Loss')\n",
    "plt.xlabel('epoch')\n",
    "plt.show()\n",
    "plt.savefig('accuracy-loss-restnet.png')"
   ]
  },
  {
   "cell_type": "code",
   "execution_count": null,
   "metadata": {},
   "outputs": [],
   "source": [
    "import keras\n",
    "from matplotlib import pyplot as plt\n",
    "#plot training and validation accuracy\n",
    "plt.plot(history.history['accuracy'])\n",
    "plt.plot(history.history['val_accuracy'])\n",
    "plt.title('model accuracy')\n",
    "plt.ylabel('accuracy')\n",
    "plt.xlabel('epoch')\n",
    "plt.legend(['train', 'val'], loc='upper left')\n",
    "plt.show()\n",
    "plt.savefig('accuracy_curve_restnet.png')"
   ]
  },
  {
   "cell_type": "code",
   "execution_count": null,
   "metadata": {},
   "outputs": [],
   "source": [
    "#plot training and validation loss\n",
    "plt.plot(history.history['loss'])\n",
    "plt.plot(history.history['val_loss'])\n",
    "plt.title('model loss')\n",
    "plt.ylabel('loss')\n",
    "plt.xlabel('epoch')\n",
    "plt.legend(['train', 'val'], loc='upper left')\n",
    "plt.show()\n",
    "plt.savefig('loss_curve_restnet.png')"
   ]
  },
  {
   "cell_type": "code",
   "execution_count": 44,
   "metadata": {},
   "outputs": [],
   "source": [
    "#test_batch = tf.data.Dataset.from_tensor_slices((X_test, Y_test)).batch(4)"
   ]
  },
  {
   "cell_type": "code",
   "execution_count": 45,
   "metadata": {},
   "outputs": [
    {
     "name": "stdout",
     "output_type": "stream",
     "text": [
      "77/77 [==============================] - 26s 337ms/step - loss: 0.4075 - accuracy: 0.8762\n",
      "Test accuracy : 0.8762214779853821\n"
     ]
    }
   ],
   "source": [
    "#loss, accuracy = model.evaluate(test_dataset)\n",
    "#print('Test accuracy :', accuracy)"
   ]
  },
  {
   "cell_type": "code",
   "execution_count": 108,
   "metadata": {},
   "outputs": [],
   "source": [
    "#test_dataset = test_batch.prefetch(buffer_size=AUTOTUNE)"
   ]
  },
  {
   "cell_type": "code",
   "execution_count": 110,
   "metadata": {},
   "outputs": [
    {
     "data": {
      "text/plain": [
       "0.28440072420718415"
      ]
     },
     "execution_count": 110,
     "metadata": {},
     "output_type": "execute_result"
    }
   ],
   "source": [
    "#loss"
   ]
  },
  {
   "cell_type": "code",
   "execution_count": 16,
   "metadata": {},
   "outputs": [],
   "source": [
    "#import tensorflow as tf"
   ]
  },
  {
   "cell_type": "code",
   "execution_count": 46,
   "metadata": {},
   "outputs": [],
   "source": [
    "#model.save(\"model-efficientnet-image-size-224-with-augmentation.h5\")"
   ]
  },
  {
   "cell_type": "code",
   "execution_count": 18,
   "metadata": {},
   "outputs": [
    {
     "name": "stdout",
     "output_type": "stream",
     "text": [
      "WARNING:tensorflow:Model was constructed with shape (None, 32, 32, 3) for input Tensor(\"input_1:0\", shape=(None, 32, 32, 3), dtype=float32), but it was called on an input with incompatible shape (None, 160, 160, 3).\n",
      "Model: \"functional_1\"\n",
      "_________________________________________________________________\n",
      "Layer (type)                 Output Shape              Param #   \n",
      "=================================================================\n",
      "input_2 (InputLayer)         [(None, 160, 160, 3)]     0         \n",
      "_________________________________________________________________\n",
      "efficientnetb0 (Functional)  (None, 1, 1, 1280)        4049571   \n",
      "_________________________________________________________________\n",
      "global_average_pooling2d (Gl (None, 1280)              0         \n",
      "_________________________________________________________________\n",
      "dropout (Dropout)            (None, 1280)              0         \n",
      "_________________________________________________________________\n",
      "dense (Dense)                (None, 3)                 3843      \n",
      "=================================================================\n",
      "Total params: 4,053,414\n",
      "Trainable params: 3,843\n",
      "Non-trainable params: 4,049,571\n",
      "_________________________________________________________________\n"
     ]
    }
   ],
   "source": [
    "# load model\n",
    "#model = load_model('model-efficient-net.h5')\n",
    "# summarize model.\n",
    "#model.summary()"
   ]
  },
  {
   "cell_type": "code",
   "execution_count": 29,
   "metadata": {},
   "outputs": [],
   "source": [
    "#from tensorflow.keras.models import load_model"
   ]
  },
  {
   "cell_type": "code",
   "execution_count": 31,
   "metadata": {},
   "outputs": [
    {
     "name": "stdout",
     "output_type": "stream",
     "text": [
      "Model: \"functional_3\"\n",
      "_________________________________________________________________\n",
      "Layer (type)                 Output Shape              Param #   \n",
      "=================================================================\n",
      "input_3 (InputLayer)         [(None, 224, 224, 3)]     0         \n",
      "_________________________________________________________________\n",
      "img_augmentation (Sequential (None, 224, 224, 3)       0         \n",
      "_________________________________________________________________\n",
      "efficientnetb0 (Functional)  (None, 7, 7, 1280)        4049571   \n",
      "_________________________________________________________________\n",
      "global_average_pooling2d (Gl (None, 1280)              0         \n",
      "_________________________________________________________________\n",
      "batch_normalization_1 (Batch (None, 1280)              5120      \n",
      "_________________________________________________________________\n",
      "dropout_1 (Dropout)          (None, 1280)              0         \n",
      "_________________________________________________________________\n",
      "dense (Dense)                (None, 3)                 3843      \n",
      "=================================================================\n",
      "Total params: 4,058,534\n",
      "Trainable params: 6,403\n",
      "Non-trainable params: 4,052,131\n",
      "_________________________________________________________________\n"
     ]
    }
   ],
   "source": [
    "# load model\n",
    "#model = load_model('model-efficientnet-image-size-224-with-augmentation.h5')\n",
    "# summarize model.\n",
    "#model.summary()"
   ]
  },
  {
   "cell_type": "code",
   "execution_count": 32,
   "metadata": {},
   "outputs": [
    {
     "name": "stdout",
     "output_type": "stream",
     "text": [
      "20/20 [==============================] - 17s 860ms/step - loss: 0.4075 - accuracy: 0.8762\n",
      "Test accuracy : 0.8762214779853821\n"
     ]
    }
   ],
   "source": [
    "#loss, accuracy = model.evaluate(test_dataset)\n",
    "#print('Test accuracy :', accuracy)"
   ]
  },
  {
   "cell_type": "code",
   "execution_count": 33,
   "metadata": {},
   "outputs": [],
   "source": [
    "pred_prob = model.predict(test_dataset)"
   ]
  },
  {
   "cell_type": "code",
   "execution_count": 39,
   "metadata": {},
   "outputs": [
    {
     "data": {
      "text/plain": [
       "array([[6.29868388e-01, 3.50171983e-01, 1.99596640e-02],\n",
       "       [1.80244520e-01, 8.19752038e-01, 3.39924532e-06],\n",
       "       [9.20559466e-02, 8.82101417e-01, 2.58426070e-02],\n",
       "       [4.84858863e-02, 9.18890178e-01, 3.26239690e-02],\n",
       "       [1.30120693e-02, 9.68443692e-01, 1.85441896e-02],\n",
       "       [9.89242733e-01, 3.91835021e-03, 6.83894614e-03],\n",
       "       [1.24496393e-04, 3.97992000e-04, 9.99477565e-01],\n",
       "       [1.12727277e-01, 8.83354306e-01, 3.91849456e-03],\n",
       "       [7.18175054e-01, 8.69932468e-04, 2.80955017e-01],\n",
       "       [4.52381037e-02, 9.54147816e-01, 6.14135584e-04],\n",
       "       [5.80376744e-01, 3.48945260e-01, 7.06779957e-02],\n",
       "       [9.23556276e-03, 6.92303339e-03, 9.83841419e-01],\n",
       "       [8.65301371e-01, 1.57017466e-02, 1.18996821e-01],\n",
       "       [3.22146877e-03, 9.96618748e-01, 1.59737741e-04],\n",
       "       [2.38673179e-03, 3.85984255e-04, 9.97227252e-01],\n",
       "       [1.06790094e-05, 1.08651380e-04, 9.99880672e-01],\n",
       "       [1.11485831e-03, 3.74801178e-03, 9.95137155e-01],\n",
       "       [4.82990145e-04, 8.33772763e-04, 9.98683274e-01],\n",
       "       [1.31973103e-02, 9.86106396e-01, 6.96299132e-04],\n",
       "       [4.84377779e-05, 4.49451909e-04, 9.99502063e-01],\n",
       "       [9.95512426e-01, 3.36106098e-03, 1.12644862e-03],\n",
       "       [8.33271258e-03, 6.81219099e-04, 9.90986109e-01],\n",
       "       [5.72493533e-04, 3.77542980e-04, 9.99049962e-01],\n",
       "       [2.37357020e-02, 6.55897439e-01, 3.20366889e-01],\n",
       "       [4.29741740e-02, 9.55700099e-01, 1.32568739e-03],\n",
       "       [6.43043742e-02, 9.35371101e-01, 3.24625231e-04],\n",
       "       [5.66670239e-01, 3.46903801e-01, 8.64260271e-02],\n",
       "       [4.68073013e-05, 1.42497546e-03, 9.98528242e-01],\n",
       "       [1.88523671e-04, 1.79237759e-04, 9.99632239e-01],\n",
       "       [9.99150753e-01, 7.26070721e-04, 1.23175821e-04],\n",
       "       [8.57599429e-04, 3.83412465e-02, 9.60801184e-01],\n",
       "       [8.63496140e-02, 7.40285277e-01, 1.73365086e-01],\n",
       "       [9.75038230e-01, 6.53738109e-03, 1.84244234e-02],\n",
       "       [7.70766437e-01, 1.17370754e-01, 1.11862868e-01],\n",
       "       [3.97958159e-02, 9.59806144e-01, 3.98073520e-04],\n",
       "       [2.33809456e-01, 7.65598476e-01, 5.92001132e-04],\n",
       "       [9.78129387e-01, 2.17034239e-02, 1.67241917e-04],\n",
       "       [9.98996794e-01, 8.48190510e-04, 1.55035596e-04],\n",
       "       [9.97365057e-01, 1.73959043e-03, 8.95437086e-04],\n",
       "       [9.97137904e-01, 1.45143934e-03, 1.41065440e-03],\n",
       "       [1.55021712e-01, 6.75765932e-01, 1.69212401e-01],\n",
       "       [4.52347845e-03, 9.87363875e-01, 8.11263733e-03],\n",
       "       [9.80941117e-01, 1.13178585e-02, 7.74100469e-03],\n",
       "       [7.11366814e-03, 4.52277064e-02, 9.47658658e-01],\n",
       "       [1.18140460e-05, 1.06314292e-05, 9.99977589e-01],\n",
       "       [9.84328747e-01, 6.37151301e-03, 9.29970481e-03],\n",
       "       [9.98900533e-01, 1.04638806e-03, 5.31578589e-05],\n",
       "       [1.19203061e-01, 7.68381476e-01, 1.12415440e-01],\n",
       "       [9.97198105e-01, 3.54764052e-04, 2.44717184e-03],\n",
       "       [1.94787001e-03, 3.20473015e-02, 9.66004789e-01],\n",
       "       [2.96399415e-01, 8.02804828e-02, 6.23320103e-01],\n",
       "       [1.13520910e-04, 5.12657687e-04, 9.99373853e-01],\n",
       "       [1.89067438e-01, 7.09210217e-01, 1.01722367e-01],\n",
       "       [9.91143703e-01, 6.11709722e-04, 8.24465696e-03],\n",
       "       [9.98798966e-01, 2.39271933e-04, 9.61714715e-04],\n",
       "       [9.73115146e-01, 2.52957572e-03, 2.43552122e-02],\n",
       "       [8.47225606e-01, 1.52753398e-01, 2.09688606e-05],\n",
       "       [6.03474630e-03, 4.36963805e-04, 9.93528306e-01],\n",
       "       [9.86616731e-01, 1.84848486e-03, 1.15347235e-02],\n",
       "       [3.85053776e-04, 3.37889092e-03, 9.96236026e-01],\n",
       "       [2.19053045e-01, 3.36691439e-01, 4.44255471e-01],\n",
       "       [9.79384243e-01, 3.05734621e-03, 1.75583698e-02],\n",
       "       [9.37922299e-01, 6.13249727e-02, 7.52746710e-04],\n",
       "       [9.99068320e-01, 4.13517002e-04, 5.18242770e-04],\n",
       "       [6.33264959e-01, 3.66356790e-01, 3.78308905e-04],\n",
       "       [9.96996164e-01, 9.66941647e-04, 2.03681923e-03],\n",
       "       [9.98833716e-01, 1.08688849e-03, 7.94350781e-05],\n",
       "       [7.74457380e-02, 7.86332309e-01, 1.36221945e-01],\n",
       "       [1.05833600e-03, 3.40755191e-03, 9.95534062e-01],\n",
       "       [9.78045046e-01, 7.10752793e-03, 1.48474025e-02],\n",
       "       [9.83924698e-03, 9.70983148e-01, 1.91776063e-02],\n",
       "       [2.39687306e-05, 3.54900158e-06, 9.99972463e-01],\n",
       "       [9.45133070e-05, 1.74885590e-05, 9.99887943e-01],\n",
       "       [7.99314857e-01, 1.44627735e-01, 5.60573377e-02],\n",
       "       [9.92546856e-01, 2.71803816e-03, 4.73504700e-03],\n",
       "       [2.04339717e-03, 2.62536593e-02, 9.71702874e-01],\n",
       "       [6.56321049e-01, 2.74042457e-01, 6.96365163e-02],\n",
       "       [9.99013662e-01, 1.71920110e-04, 8.14356201e-04],\n",
       "       [7.87299991e-01, 2.11272284e-01, 1.42781681e-03],\n",
       "       [5.41553557e-01, 2.46045798e-01, 2.12400660e-01],\n",
       "       [8.53840720e-06, 2.67445343e-04, 9.99723971e-01],\n",
       "       [9.65658545e-01, 7.76463561e-03, 2.65768413e-02],\n",
       "       [9.74216709e-06, 4.25096077e-05, 9.99947786e-01],\n",
       "       [6.63094534e-06, 4.22359299e-04, 9.99571025e-01],\n",
       "       [9.93843794e-01, 2.99251126e-03, 3.16381594e-03],\n",
       "       [3.85500759e-01, 5.93473494e-01, 2.10258272e-02],\n",
       "       [9.56735909e-01, 4.11505401e-02, 2.11345986e-03],\n",
       "       [2.73491169e-04, 1.12695911e-03, 9.98599589e-01],\n",
       "       [9.89615440e-01, 1.50204054e-03, 8.88253655e-03],\n",
       "       [9.75392342e-01, 1.50266406e-03, 2.31050178e-02],\n",
       "       [2.33764913e-05, 2.88908050e-04, 9.99687791e-01],\n",
       "       [1.83390066e-01, 2.18110174e-01, 5.98499775e-01],\n",
       "       [7.90130580e-05, 2.95098114e-04, 9.99625921e-01],\n",
       "       [2.09336522e-05, 1.42869583e-04, 9.99836206e-01],\n",
       "       [3.48645335e-05, 1.32388659e-05, 9.99951839e-01],\n",
       "       [9.99270022e-01, 6.99674303e-04, 3.02180870e-05],\n",
       "       [9.47268069e-01, 5.00990897e-02, 2.63295043e-03],\n",
       "       [9.95064318e-01, 3.02322384e-04, 4.63334704e-03],\n",
       "       [9.77733910e-01, 3.88247147e-03, 1.83836501e-02],\n",
       "       [9.07875001e-01, 7.53656728e-03, 8.45883414e-02],\n",
       "       [1.35603979e-01, 8.62000704e-01, 2.39531533e-03],\n",
       "       [7.71267772e-01, 1.57601595e-01, 7.11306706e-02],\n",
       "       [8.60003233e-01, 6.43228069e-02, 7.56740049e-02],\n",
       "       [1.17393945e-04, 2.00711191e-02, 9.79811490e-01],\n",
       "       [4.31567278e-05, 1.27190520e-04, 9.99829650e-01],\n",
       "       [3.59033912e-01, 2.34608591e-01, 4.06357527e-01],\n",
       "       [1.02986050e-04, 2.62426416e-04, 9.99634624e-01],\n",
       "       [4.70286432e-05, 5.27440570e-04, 9.99425530e-01],\n",
       "       [7.90583491e-01, 2.07831949e-01, 1.58450135e-03],\n",
       "       [9.48582709e-01, 5.08165620e-02, 6.00824831e-04],\n",
       "       [9.28920686e-01, 6.90011904e-02, 2.07821256e-03],\n",
       "       [8.68247390e-01, 2.77479403e-02, 1.04004636e-01],\n",
       "       [8.49699974e-01, 1.12686418e-01, 3.76135707e-02],\n",
       "       [8.24991548e-06, 2.66902425e-05, 9.99965072e-01],\n",
       "       [2.52045870e-01, 3.16959351e-01, 4.30994809e-01],\n",
       "       [8.28047276e-01, 1.58795223e-01, 1.31575987e-02],\n",
       "       [3.28938440e-05, 5.91719436e-05, 9.99907970e-01],\n",
       "       [2.62500602e-04, 3.21282505e-06, 9.99734223e-01],\n",
       "       [9.82027888e-01, 8.25993530e-03, 9.71223880e-03],\n",
       "       [7.66232624e-05, 6.42019295e-05, 9.99859214e-01],\n",
       "       [7.12617040e-01, 2.86807239e-01, 5.75706537e-04],\n",
       "       [3.74566652e-02, 9.00648534e-01, 6.18948080e-02],\n",
       "       [9.07148361e-01, 7.27374107e-02, 2.01142896e-02],\n",
       "       [9.07739222e-01, 3.03420890e-02, 6.19186684e-02],\n",
       "       [1.42408384e-03, 9.87045884e-01, 1.15299877e-02],\n",
       "       [9.78075445e-01, 2.15006433e-02, 4.23989346e-04],\n",
       "       [9.71113324e-01, 2.82508079e-02, 6.35880220e-04],\n",
       "       [2.09599573e-08, 3.75086020e-05, 9.99962449e-01],\n",
       "       [6.40029132e-01, 5.48240058e-02, 3.05146843e-01],\n",
       "       [9.92710114e-01, 4.60617593e-04, 6.82933535e-03],\n",
       "       [8.13356116e-02, 6.16866583e-03, 9.12495732e-01],\n",
       "       [9.51319396e-01, 2.49802209e-02, 2.37003863e-02],\n",
       "       [9.97953057e-01, 4.40622447e-04, 1.60621526e-03],\n",
       "       [9.78473186e-01, 9.89687513e-04, 2.05371473e-02],\n",
       "       [3.27945477e-03, 9.77302203e-04, 9.95743215e-01],\n",
       "       [3.71824443e-01, 6.27734005e-01, 4.41487675e-04],\n",
       "       [8.12034530e-04, 9.10677481e-04, 9.98277307e-01],\n",
       "       [7.11973846e-01, 2.25064591e-01, 6.29615411e-02],\n",
       "       [8.62900138e-01, 3.40504153e-03, 1.33694753e-01],\n",
       "       [9.50838566e-01, 1.08733047e-02, 3.82880531e-02],\n",
       "       [7.90487320e-05, 3.54043659e-05, 9.99885559e-01],\n",
       "       [4.64056462e-01, 5.14833510e-01, 2.11099330e-02],\n",
       "       [2.28507215e-05, 1.39836939e-05, 9.99963164e-01],\n",
       "       [9.97197509e-01, 2.54267873e-03, 2.59875727e-04],\n",
       "       [1.37262838e-03, 1.70840463e-03, 9.96919036e-01],\n",
       "       [3.29763770e-01, 4.32072401e-01, 2.38163829e-01],\n",
       "       [4.63953984e-06, 8.22512302e-05, 9.99913096e-01],\n",
       "       [1.04552746e-01, 2.78255604e-02, 8.67621660e-01],\n",
       "       [2.26886034e-01, 7.62238860e-01, 1.08751329e-02],\n",
       "       [9.63675559e-01, 4.88523953e-03, 3.14391777e-02],\n",
       "       [2.99756718e-03, 3.11256852e-02, 9.65876758e-01],\n",
       "       [3.86714861e-02, 1.80822894e-01, 7.80505598e-01],\n",
       "       [1.06657087e-03, 6.46994013e-05, 9.98868644e-01],\n",
       "       [6.84648082e-02, 9.29492235e-01, 2.04303395e-03],\n",
       "       [5.82167327e-01, 4.17620778e-01, 2.11860577e-04],\n",
       "       [8.01394641e-01, 5.71222091e-03, 1.92893147e-01],\n",
       "       [1.35293100e-02, 9.09191966e-01, 7.72787109e-02],\n",
       "       [8.95839095e-01, 1.02903776e-01, 1.25709735e-03],\n",
       "       [9.94454801e-01, 4.98650316e-03, 5.58697036e-04],\n",
       "       [9.97847199e-01, 2.05131015e-03, 1.01506892e-04],\n",
       "       [9.71928179e-01, 1.06882788e-02, 1.73836015e-02],\n",
       "       [1.89662132e-05, 1.04523997e-06, 9.99979973e-01],\n",
       "       [9.59054828e-01, 1.95241254e-02, 2.14209668e-02],\n",
       "       [3.03427465e-02, 9.66578722e-01, 3.07854754e-03],\n",
       "       [2.26083514e-03, 1.05041087e-01, 8.92698109e-01],\n",
       "       [7.79740870e-01, 2.20199138e-01, 6.00445564e-05],\n",
       "       [4.70832107e-04, 2.69342307e-03, 9.96835768e-01],\n",
       "       [5.74166770e-05, 9.30988390e-05, 9.99849439e-01],\n",
       "       [3.74984771e-01, 6.11965418e-01, 1.30498838e-02],\n",
       "       [3.89150798e-01, 5.71586728e-01, 3.92624624e-02],\n",
       "       [7.26149040e-07, 2.26959355e-06, 9.99997020e-01],\n",
       "       [7.72338092e-01, 2.19850942e-01, 7.81099033e-03],\n",
       "       [8.95388246e-01, 9.92586613e-02, 5.35304053e-03],\n",
       "       [4.92407307e-02, 9.49742556e-01, 1.01668132e-03],\n",
       "       [9.27128971e-01, 7.28660151e-02, 5.08850235e-06],\n",
       "       [4.92664874e-01, 1.01285674e-01, 4.06049371e-01],\n",
       "       [1.93242878e-01, 7.70531118e-01, 3.62260528e-02],\n",
       "       [9.62094229e-04, 1.04516093e-03, 9.97992754e-01],\n",
       "       [9.92964149e-01, 2.01633456e-03, 5.01956092e-03],\n",
       "       [5.28904229e-06, 5.81716995e-06, 9.99988914e-01],\n",
       "       [9.66700554e-01, 3.03015299e-02, 2.99784169e-03],\n",
       "       [9.97934222e-01, 1.62697583e-03, 4.38869145e-04],\n",
       "       [9.20291126e-01, 1.21010132e-02, 6.76078200e-02],\n",
       "       [5.03868759e-01, 4.93757337e-01, 2.37390748e-03],\n",
       "       [1.21551921e-05, 3.42469616e-06, 9.99984384e-01],\n",
       "       [1.82144836e-01, 3.36582214e-01, 4.81272906e-01],\n",
       "       [9.68351087e-05, 3.44413929e-05, 9.99868751e-01],\n",
       "       [7.97624171e-01, 1.99655086e-01, 2.72076065e-03],\n",
       "       [4.71101899e-04, 8.71039665e-05, 9.99441803e-01],\n",
       "       [2.66813382e-04, 3.38595768e-04, 9.99394536e-01],\n",
       "       [9.39230740e-01, 1.23138353e-02, 4.84554209e-02],\n",
       "       [9.94097352e-01, 6.59720448e-04, 5.24295308e-03],\n",
       "       [9.61664259e-01, 6.39414415e-03, 3.19416001e-02],\n",
       "       [1.80386601e-03, 2.07103621e-02, 9.77485776e-01],\n",
       "       [9.91321981e-01, 6.35386631e-03, 2.32409243e-03],\n",
       "       [7.35657697e-04, 2.50838488e-01, 7.48425841e-01],\n",
       "       [6.92570070e-03, 3.06379865e-03, 9.90010440e-01],\n",
       "       [9.70978439e-01, 1.51050845e-02, 1.39164776e-02],\n",
       "       [1.37463459e-04, 6.44181127e-05, 9.99798119e-01],\n",
       "       [9.53588128e-01, 4.73095756e-03, 4.16808762e-02],\n",
       "       [9.73939836e-01, 6.24290248e-03, 1.98172014e-02],\n",
       "       [1.26360193e-01, 5.62998116e-01, 3.10641676e-01],\n",
       "       [6.89134896e-02, 9.26175654e-01, 4.91087558e-03],\n",
       "       [8.92775297e-01, 2.28454228e-02, 8.43792334e-02],\n",
       "       [9.00219560e-01, 8.95149261e-02, 1.02654481e-02],\n",
       "       [7.72661679e-06, 4.54822330e-05, 9.99946833e-01],\n",
       "       [9.57123101e-01, 3.97464894e-02, 3.13042570e-03],\n",
       "       [7.81299877e-06, 1.88318136e-05, 9.99973297e-01],\n",
       "       [9.68274474e-01, 1.65042293e-03, 3.00751142e-02],\n",
       "       [1.62238521e-05, 1.26878513e-04, 9.99856830e-01],\n",
       "       [9.28013980e-01, 7.18840957e-02, 1.01855047e-04],\n",
       "       [3.15392681e-04, 1.18348934e-03, 9.98501182e-01],\n",
       "       [9.68317807e-01, 2.59291865e-02, 5.75300353e-03],\n",
       "       [3.08538578e-03, 5.00391703e-04, 9.96414185e-01],\n",
       "       [7.82970190e-02, 9.07007754e-01, 1.46952271e-02],\n",
       "       [6.71598971e-01, 3.28254998e-01, 1.46001359e-04],\n",
       "       [9.61458266e-01, 8.68496578e-03, 2.98568141e-02],\n",
       "       [9.08558130e-01, 1.17574362e-02, 7.96844289e-02],\n",
       "       [5.57941273e-02, 9.44083989e-01, 1.21838893e-04],\n",
       "       [9.66118038e-01, 1.01712057e-02, 2.37107165e-02],\n",
       "       [2.20393253e-04, 2.31382879e-03, 9.97465730e-01],\n",
       "       [9.96337056e-01, 3.47028067e-03, 1.92639622e-04],\n",
       "       [9.17491838e-02, 8.66950274e-01, 4.13005017e-02],\n",
       "       [4.81808274e-05, 2.75728053e-05, 9.99924183e-01],\n",
       "       [1.03979115e-03, 9.27681103e-04, 9.98032510e-01],\n",
       "       [9.97552454e-01, 2.44544214e-03, 2.09538575e-06],\n",
       "       [8.10528755e-01, 1.88304305e-01, 1.16695766e-03],\n",
       "       [2.36064512e-02, 3.44709873e-01, 6.31683707e-01],\n",
       "       [9.98488665e-01, 1.70882937e-04, 1.34038483e-03],\n",
       "       [9.99835014e-01, 1.34364644e-04, 3.05807262e-05],\n",
       "       [4.48137325e-05, 5.13120205e-04, 9.99442041e-01],\n",
       "       [9.89391029e-01, 4.94829239e-03, 5.66072855e-03],\n",
       "       [9.97505963e-01, 5.61554509e-04, 1.93250342e-03],\n",
       "       [4.97764131e-06, 1.53533663e-04, 9.99841452e-01],\n",
       "       [2.54192419e-05, 6.78457262e-04, 9.99296069e-01],\n",
       "       [6.17201076e-05, 5.18700035e-05, 9.99886394e-01],\n",
       "       [8.75319600e-01, 1.20831691e-01, 3.84871289e-03],\n",
       "       [9.89962995e-01, 7.54821766e-03, 2.48874631e-03],\n",
       "       [1.06618769e-04, 4.61542404e-05, 9.99847174e-01],\n",
       "       [6.68417811e-01, 3.30465972e-01, 1.11622561e-03],\n",
       "       [1.46206876e-03, 5.16525761e-04, 9.98021364e-01],\n",
       "       [5.08619487e-01, 4.89839524e-01, 1.54102989e-03],\n",
       "       [9.75827217e-01, 2.49147438e-03, 2.16813050e-02],\n",
       "       [3.76515882e-03, 2.67000124e-02, 9.69534814e-01],\n",
       "       [2.19121650e-02, 9.73801553e-01, 4.28626547e-03],\n",
       "       [8.68198514e-01, 1.24036551e-01, 7.76489917e-03],\n",
       "       [7.17469156e-02, 9.27401781e-01, 8.51260149e-04],\n",
       "       [4.71513749e-06, 2.97824608e-05, 9.99965549e-01],\n",
       "       [4.38292734e-02, 9.52992976e-01, 3.17781395e-03],\n",
       "       [1.03739887e-01, 8.94585907e-01, 1.67423440e-03],\n",
       "       [2.54765450e-06, 3.05768808e-05, 9.99966860e-01],\n",
       "       [1.29078326e-04, 2.98714353e-04, 9.99572217e-01],\n",
       "       [9.06823575e-01, 7.52119869e-02, 1.79643258e-02],\n",
       "       [1.67090024e-04, 4.71855630e-04, 9.99361098e-01],\n",
       "       [2.55306929e-01, 7.39400923e-01, 5.29214740e-03],\n",
       "       [8.11355591e-01, 1.16680581e-02, 1.76976338e-01],\n",
       "       [6.47803068e-01, 1.23298004e-01, 2.28898928e-01],\n",
       "       [9.78991389e-01, 8.27460922e-03, 1.27340220e-02],\n",
       "       [9.98251617e-01, 7.29818013e-04, 1.01849134e-03],\n",
       "       [4.01476949e-01, 5.88312030e-01, 1.02110570e-02],\n",
       "       [8.75532389e-01, 1.07660331e-01, 1.68072954e-02],\n",
       "       [6.22815103e-04, 2.24113712e-04, 9.99153018e-01],\n",
       "       [9.98595893e-01, 1.00870233e-03, 3.95328767e-04],\n",
       "       [9.23941493e-01, 4.73537343e-03, 7.13232011e-02],\n",
       "       [2.20184214e-03, 2.41618152e-04, 9.97556567e-01],\n",
       "       [1.04446225e-01, 8.91921461e-01, 3.63224000e-03],\n",
       "       [9.87462997e-01, 9.43763554e-03, 3.09928809e-03],\n",
       "       [4.28742580e-02, 1.24514461e-01, 8.32611322e-01],\n",
       "       [9.94880199e-01, 1.71112083e-03, 3.40863457e-03],\n",
       "       [7.11468577e-01, 2.87913412e-01, 6.17997488e-04],\n",
       "       [2.01491959e-04, 1.57006830e-03, 9.98228490e-01],\n",
       "       [8.58586356e-02, 9.01585162e-01, 1.25561263e-02],\n",
       "       [9.63427901e-01, 3.20681296e-02, 4.50391136e-03],\n",
       "       [4.38500255e-01, 5.60283244e-01, 1.21647876e-03],\n",
       "       [7.55152881e-01, 1.13085015e-02, 2.33538672e-01],\n",
       "       [9.33788419e-01, 5.49374409e-02, 1.12741105e-02],\n",
       "       [1.03600863e-02, 6.94457849e-04, 9.88945425e-01],\n",
       "       [3.06608476e-04, 4.78752627e-04, 9.99214649e-01],\n",
       "       [3.69565338e-02, 9.54375207e-01, 8.66823085e-03],\n",
       "       [2.77201380e-05, 5.85727103e-05, 9.99913692e-01],\n",
       "       [2.68668924e-02, 9.43729877e-01, 2.94032916e-02],\n",
       "       [1.37215286e-01, 8.61576319e-01, 1.20837113e-03],\n",
       "       [5.26679493e-02, 5.95813751e-01, 3.51518273e-01],\n",
       "       [4.64529963e-04, 1.08328566e-03, 9.98452187e-01],\n",
       "       [7.49824345e-01, 1.80756226e-01, 6.94194064e-02],\n",
       "       [5.31841278e-01, 2.13662423e-02, 4.46792483e-01],\n",
       "       [7.37043396e-02, 9.26037908e-01, 2.57794367e-04],\n",
       "       [3.03166133e-04, 5.54088503e-03, 9.94155884e-01],\n",
       "       [8.76406789e-01, 1.22491263e-01, 1.10201084e-03],\n",
       "       [3.93577099e-01, 6.04817808e-01, 1.60515273e-03],\n",
       "       [9.92617428e-01, 2.68237968e-03, 4.70021321e-03],\n",
       "       [7.72206932e-02, 1.51167996e-03, 9.21267629e-01],\n",
       "       [1.09678600e-03, 2.36617434e-05, 9.98879492e-01],\n",
       "       [7.68463314e-01, 2.28585735e-01, 2.95099593e-03],\n",
       "       [8.81988406e-02, 9.11741793e-01, 5.93124932e-05],\n",
       "       [9.04093862e-01, 3.90803628e-02, 5.68256937e-02],\n",
       "       [4.76223577e-05, 7.49857500e-05, 9.99877334e-01],\n",
       "       [8.07715774e-01, 2.12909095e-02, 1.70993298e-01],\n",
       "       [9.88583922e-01, 1.11828353e-02, 2.33190789e-04],\n",
       "       [9.91991222e-01, 2.97982572e-03, 5.02903666e-03],\n",
       "       [9.99280274e-01, 5.98577957e-04, 1.21154837e-04],\n",
       "       [9.23756003e-01, 5.38673736e-02, 2.23766398e-02],\n",
       "       [9.74880636e-01, 1.41444504e-02, 1.09749148e-02],\n",
       "       [6.27190173e-01, 5.70099056e-02, 3.15799922e-01],\n",
       "       [4.76763636e-01, 5.05549192e-01, 1.76871642e-02],\n",
       "       [1.71890616e-01, 7.27447048e-02, 7.55364656e-01],\n",
       "       [3.61047682e-07, 5.06048809e-06, 9.99994636e-01]], dtype=float32)"
      ]
     },
     "execution_count": 39,
     "metadata": {},
     "output_type": "execute_result"
    }
   ],
   "source": [
    "pred_prob"
   ]
  },
  {
   "cell_type": "code",
   "execution_count": 42,
   "metadata": {},
   "outputs": [],
   "source": [
    "n_classes = 3"
   ]
  },
  {
   "cell_type": "code",
   "execution_count": 34,
   "metadata": {},
   "outputs": [],
   "source": [
    "#Multiclass ROC curve\n",
    "from scipy import interp\n",
    "from sklearn.metrics import roc_auc_score"
   ]
  },
  {
   "cell_type": "code",
   "execution_count": 36,
   "metadata": {},
   "outputs": [],
   "source": [
    "from sklearn.metrics import roc_curve, auc"
   ]
  },
  {
   "cell_type": "code",
   "execution_count": 37,
   "metadata": {},
   "outputs": [],
   "source": [
    "# Compute ROC curve and ROC area for each class\n",
    "fpr = dict()\n",
    "tpr = dict()\n",
    "roc_auc = dict()\n",
    "for i in range(3):\n",
    "    fpr[i], tpr[i], _ = roc_curve(Y_test[:, i], pred_prob[:, i])\n",
    "    roc_auc[i] = auc(fpr[i], tpr[i])"
   ]
  },
  {
   "cell_type": "code",
   "execution_count": 38,
   "metadata": {},
   "outputs": [
    {
     "data": {
      "text/plain": [
       "{0: 0.9752660706683696, 1: 0.9035569348293148, 2: 0.9872303622303622}"
      ]
     },
     "execution_count": 38,
     "metadata": {},
     "output_type": "execute_result"
    }
   ],
   "source": [
    "roc_auc"
   ]
  },
  {
   "cell_type": "code",
   "execution_count": 40,
   "metadata": {},
   "outputs": [],
   "source": [
    "# Compute micro-average ROC curve and ROC area\n",
    "fpr[\"micro\"], tpr[\"micro\"], _ = roc_curve(Y_test.ravel(), pred_prob.ravel())\n",
    "roc_auc[\"micro\"] = auc(fpr[\"micro\"], tpr[\"micro\"])"
   ]
  },
  {
   "cell_type": "code",
   "execution_count": 41,
   "metadata": {},
   "outputs": [
    {
     "data": {
      "text/plain": [
       "{0: 0.9752660706683696,\n",
       " 1: 0.9035569348293148,\n",
       " 2: 0.9872303622303622,\n",
       " 'micro': 0.9588218442635996}"
      ]
     },
     "execution_count": 41,
     "metadata": {},
     "output_type": "execute_result"
    }
   ],
   "source": [
    "roc_auc"
   ]
  },
  {
   "cell_type": "code",
   "execution_count": 44,
   "metadata": {},
   "outputs": [],
   "source": [
    "#compute macro-average ROC curve and ROC area\n",
    "# First aggregate all false positive rates\n",
    "all_fpr = np.unique(np.concatenate([fpr[i] for i in range(n_classes)]))\n",
    "\n",
    "# Then interpolate all ROC curves at this points\n",
    "mean_tpr = np.zeros_like(all_fpr)\n",
    "for i in range(n_classes):\n",
    "    mean_tpr += np.interp(all_fpr, fpr[i], tpr[i])\n",
    "\n",
    "# Finally average it and compute AUC\n",
    "mean_tpr /= n_classes\n",
    "\n",
    "fpr[\"macro\"] = all_fpr\n",
    "tpr[\"macro\"] = mean_tpr\n",
    "roc_auc[\"macro\"] = auc(fpr[\"macro\"], tpr[\"macro\"])"
   ]
  },
  {
   "cell_type": "code",
   "execution_count": 45,
   "metadata": {},
   "outputs": [
    {
     "data": {
      "text/plain": [
       "{0: 0.9752660706683696,\n",
       " 1: 0.9035569348293148,\n",
       " 2: 0.9872303622303622,\n",
       " 'micro': 0.9588218442635996,\n",
       " 'macro': 0.9577065068201771}"
      ]
     },
     "execution_count": 45,
     "metadata": {},
     "output_type": "execute_result"
    }
   ],
   "source": [
    "roc_auc"
   ]
  },
  {
   "cell_type": "code",
   "execution_count": 48,
   "metadata": {},
   "outputs": [
    {
     "data": {
      "image/png": "[encoded data removed]",
      "text/plain": [
       "<Figure size 432x288 with 1 Axes>"
      ]
     },
     "metadata": {
      "needs_background": "light"
     },
     "output_type": "display_data"
    },
    {
     "data": {
      "text/plain": [
       "<Figure size 432x288 with 0 Axes>"
      ]
     },
     "metadata": {},
     "output_type": "display_data"
    }
   ],
   "source": [
    "from itertools import cycle\n",
    "# Plot all ROC curves\n",
    "lw = 2\n",
    "plt.figure()\n",
    "plt.plot(fpr[\"micro\"], tpr[\"micro\"],\n",
    "         label='micro-average ROC curve (area = {0:0.2f})'\n",
    "               ''.format(roc_auc[\"micro\"]),\n",
    "         color='deeppink', linestyle=':', linewidth=4)\n",
    "\n",
    "plt.plot(fpr[\"macro\"], tpr[\"macro\"],\n",
    "         label='macro-average ROC curve (area = {0:0.2f})'\n",
    "               ''.format(roc_auc[\"macro\"]),\n",
    "         color='navy', linestyle=':', linewidth=4)\n",
    "\n",
    "colors = cycle(['aqua', 'darkorange', 'cornflowerblue'])\n",
    "for i, color in zip(range(n_classes), colors):\n",
    "    plt.plot(fpr[i], tpr[i], color=color, lw=lw,\n",
    "             label='ROC curve of class {0} (area = {1:0.2f})'\n",
    "             ''.format(i, roc_auc[i]))\n",
    "\n",
    "plt.plot([0, 1], [0, 1], 'k--', lw=lw)\n",
    "plt.xlim([0.0, 1.0])\n",
    "plt.ylim([0.0, 1.05])\n",
    "plt.xlabel('False Positive Rate')\n",
    "plt.ylabel('True Positive Rate')\n",
    "plt.title('Some extension of Receiver operating characteristic to multi-class')\n",
    "plt.legend(loc=\"lower right\")\n",
    "plt.show()\n",
    "plt.savefig('roc-restnet.png')"
   ]
  },
  {
   "cell_type": "code",
   "execution_count": 23,
   "metadata": {},
   "outputs": [],
   "source": [
    "y_pred= np.argmax(pred_prob,axis=1)"
   ]
  },
  {
   "cell_type": "code",
   "execution_count": 24,
   "metadata": {},
   "outputs": [
    {
     "data": {
      "text/plain": [
       "array([0, 1, 1, 1, 1, 0, 2, 1, 0, 1, 0, 2, 0, 1, 2, 2, 2, 2, 1, 2, 0, 2,\n",
       "       2, 1, 1, 1, 1, 2, 2, 0, 2, 1, 0, 1, 1, 1, 0, 0, 0, 0, 1, 1, 0, 2,\n",
       "       2, 0, 0, 1, 0, 2, 2, 2, 0, 0, 0, 0, 1, 2, 0, 2, 0, 0, 1, 0, 0, 0,\n",
       "       0, 1, 2, 0, 1, 2, 2, 0, 0, 2, 0, 0, 0, 0, 2, 0, 2, 2, 0, 0, 0, 2,\n",
       "       0, 0, 2, 0, 2, 2, 2, 0, 0, 0, 0, 0, 1, 0, 0, 1, 2, 0, 2, 2, 0, 1,\n",
       "       0, 0, 0, 2, 0, 0, 2, 2, 0, 2, 1, 1, 0, 0, 1, 0, 0, 2, 0, 0, 2, 0,\n",
       "       0, 0, 2, 1, 2, 0, 0, 0, 2, 1, 2, 0, 2, 1, 2, 0, 1, 0, 2, 1, 2, 1,\n",
       "       0, 0, 1, 1, 0, 0, 0, 2, 0, 1, 2, 0, 2, 2, 1, 0, 2, 0, 0, 1, 0, 2,\n",
       "       1, 2, 0, 2, 0, 0, 0, 1, 2, 1, 2, 1, 2, 2, 0, 0, 0, 2, 0, 1, 2, 0,\n",
       "       2, 0, 0, 1, 1, 0, 0, 2, 0, 2, 0, 2, 1, 2, 0, 2, 1, 1, 0, 0, 1, 0,\n",
       "       2, 0, 1, 2, 2, 0, 1, 1, 0, 0, 2, 0, 0, 2, 2, 2, 0, 0, 2, 0, 2, 0,\n",
       "       0, 2, 1, 1, 1, 2, 1, 1, 2, 2, 1, 2, 1, 0, 0, 0, 0, 1, 0, 2, 0, 0,\n",
       "       2, 1, 0, 0, 0, 0, 2, 1, 0, 1, 0, 0, 2, 2, 1, 2, 1, 1, 1, 2, 1, 0,\n",
       "       1, 2, 0, 1, 0, 2, 2, 1, 1, 0, 2, 0, 0, 0, 0, 0, 0, 1, 1, 1, 2],\n",
       "      dtype=int64)"
      ]
     },
     "execution_count": 24,
     "metadata": {},
     "output_type": "execute_result"
    }
   ],
   "source": [
    "y_pred"
   ]
  },
  {
   "cell_type": "code",
   "execution_count": 26,
   "metadata": {},
   "outputs": [],
   "source": [
    "y_test = np.argmax(Y_test, axis=1)"
   ]
  },
  {
   "cell_type": "code",
   "execution_count": 27,
   "metadata": {},
   "outputs": [
    {
     "data": {
      "text/plain": [
       "array([0, 0, 0, 1, 1, 0, 2, 1, 0, 1, 1, 2, 0, 1, 2, 2, 2, 2, 0, 2, 0, 2,\n",
       "       2, 1, 1, 1, 0, 2, 2, 0, 1, 1, 0, 1, 1, 1, 0, 0, 0, 0, 1, 1, 0, 2,\n",
       "       2, 0, 0, 0, 0, 2, 0, 2, 1, 0, 0, 0, 0, 2, 0, 2, 1, 0, 0, 0, 0, 0,\n",
       "       0, 1, 2, 0, 1, 2, 2, 0, 0, 2, 0, 0, 0, 1, 2, 0, 2, 2, 0, 1, 0, 2,\n",
       "       0, 0, 2, 1, 2, 2, 2, 0, 0, 0, 0, 0, 1, 0, 0, 2, 2, 0, 2, 2, 0, 0,\n",
       "       1, 0, 0, 2, 1, 0, 2, 2, 0, 2, 1, 1, 0, 0, 1, 0, 0, 2, 0, 0, 2, 0,\n",
       "       0, 0, 2, 1, 2, 0, 0, 0, 2, 1, 2, 0, 2, 1, 2, 2, 0, 0, 1, 1, 1, 1,\n",
       "       0, 0, 1, 0, 0, 0, 0, 2, 0, 1, 2, 1, 2, 2, 1, 1, 2, 1, 0, 1, 0, 0,\n",
       "       1, 2, 0, 2, 0, 0, 0, 1, 2, 2, 2, 0, 2, 2, 0, 0, 0, 1, 0, 1, 2, 0,\n",
       "       2, 0, 0, 1, 1, 0, 0, 2, 0, 2, 0, 2, 0, 2, 1, 1, 1, 0, 0, 0, 1, 0,\n",
       "       2, 0, 1, 2, 2, 0, 0, 1, 0, 0, 2, 0, 0, 2, 1, 2, 0, 0, 2, 0, 2, 0,\n",
       "       0, 1, 1, 0, 0, 2, 1, 1, 2, 2, 0, 2, 1, 0, 0, 0, 0, 0, 0, 2, 0, 0,\n",
       "       2, 1, 0, 2, 0, 0, 1, 1, 0, 0, 0, 0, 2, 2, 0, 2, 2, 1, 2, 2, 1, 0,\n",
       "       1, 2, 0, 1, 0, 2, 2, 1, 1, 0, 2, 0, 0, 0, 0, 0, 0, 0, 1, 2, 2],\n",
       "      dtype=int64)"
      ]
     },
     "execution_count": 27,
     "metadata": {},
     "output_type": "execute_result"
    }
   ],
   "source": [
    "y_test "
   ]
  },
  {
   "cell_type": "code",
   "execution_count": 28,
   "metadata": {},
   "outputs": [],
   "source": [
    "from sklearn.metrics import accuracy_score\n",
    "from sklearn.metrics import precision_score\n",
    "from sklearn.metrics import recall_score\n",
    "from sklearn.metrics import f1_score\n",
    "from sklearn.metrics import cohen_kappa_score\n",
    "from sklearn.metrics import roc_auc_score\n",
    "from sklearn.metrics import confusion_matrix"
   ]
  },
  {
   "cell_type": "code",
   "execution_count": 29,
   "metadata": {},
   "outputs": [
    {
     "name": "stdout",
     "output_type": "stream",
     "text": [
      "Accuracy: 0.837134\n"
     ]
    }
   ],
   "source": [
    "# accuracy: (tp + tn) / (p + n)\n",
    "accuracy = accuracy_score(y_test, y_pred)\n",
    "print('Accuracy: %f' % accuracy)\n",
    "# precision tp / (tp + fp)"
   ]
  },
  {
   "cell_type": "code",
   "execution_count": 32,
   "metadata": {},
   "outputs": [],
   "source": [
    "# precision tp / (tp + fp)\n",
    "precision = precision_score(y_test, y_pred,average=None)\n",
    "#print('Precision: %f' % precision)"
   ]
  },
  {
   "cell_type": "code",
   "execution_count": 33,
   "metadata": {},
   "outputs": [
    {
     "data": {
      "text/plain": [
       "array([0.89705882, 0.66233766, 0.89361702])"
      ]
     },
     "execution_count": 33,
     "metadata": {},
     "output_type": "execute_result"
    }
   ],
   "source": [
    "precision"
   ]
  },
  {
   "cell_type": "code",
   "execution_count": 35,
   "metadata": {},
   "outputs": [],
   "source": [
    "# recall: tp / (tp + fn)\n",
    "recall = recall_score(y_test, y_pred, average = None)\n",
    "#print('Recall: %f' % recall)"
   ]
  },
  {
   "cell_type": "code",
   "execution_count": 36,
   "metadata": {},
   "outputs": [
    {
     "data": {
      "text/plain": [
       "array([0.84137931, 0.71830986, 0.92307692])"
      ]
     },
     "execution_count": 36,
     "metadata": {},
     "output_type": "execute_result"
    }
   ],
   "source": [
    "recall"
   ]
  },
  {
   "cell_type": "code",
   "execution_count": 38,
   "metadata": {},
   "outputs": [],
   "source": [
    "# f1: 2 tp / (2 tp + fp + fn)\n",
    "f1 = f1_score(y_test, y_pred, average = None)\n",
    "#print('F1 score: %f' % f1)"
   ]
  },
  {
   "cell_type": "code",
   "execution_count": 39,
   "metadata": {},
   "outputs": [
    {
     "data": {
      "text/plain": [
       "array([0.8683274 , 0.68918919, 0.90810811])"
      ]
     },
     "execution_count": 39,
     "metadata": {},
     "output_type": "execute_result"
    }
   ],
   "source": [
    "f1"
   ]
  },
  {
   "cell_type": "code",
   "execution_count": 40,
   "metadata": {},
   "outputs": [
    {
     "name": "stdout",
     "output_type": "stream",
     "text": [
      "[[122  21   2]\n",
      " [ 12  51   8]\n",
      " [  2   5  84]]\n"
     ]
    }
   ],
   "source": [
    "# confusion matrix\n",
    "matrix = confusion_matrix(y_test, y_pred)\n",
    "print(matrix)"
   ]
  },
  {
   "cell_type": "code",
   "execution_count": 48,
   "metadata": {},
   "outputs": [],
   "source": [
    "import pickle"
   ]
  },
  {
   "cell_type": "code",
   "execution_count": 49,
   "metadata": {},
   "outputs": [],
   "source": [
    "# save:\n",
    "#f = open('history-efficientnet-image-size-224-with-augmentation.pckl', 'wb')\n",
    "#pickle.dump(history.history, f)\n",
    "#f.close()"
   ]
  },
  {
   "cell_type": "code",
   "execution_count": 43,
   "metadata": {},
   "outputs": [],
   "source": [
    "# retrieve:    \n",
    "#f = open('history.pckl', 'rb')\n",
    "#history2 = pickle.load(f)\n",
    "#f.close()"
   ]
  },
  {
   "cell_type": "code",
   "execution_count": 44,
   "metadata": {},
   "outputs": [
    {
     "data": {
      "text/plain": [
       "False"
      ]
     },
     "execution_count": 44,
     "metadata": {},
     "output_type": "execute_result"
    }
   ],
   "source": [
    "#history == history2"
   ]
  },
  {
   "cell_type": "code",
   "execution_count": 45,
   "metadata": {},
   "outputs": [
    {
     "data": {
      "text/plain": [
       "True"
      ]
     },
     "execution_count": 45,
     "metadata": {},
     "output_type": "execute_result"
    }
   ],
   "source": [
    "#history.history == history2"
   ]
  },
  {
   "cell_type": "code",
   "execution_count": 46,
   "metadata": {},
   "outputs": [
    {
     "data": {
      "text/plain": [
       "[0.45955750346183777,\n",
       " 0.6238664984703064,\n",
       " 0.6851650476455688,\n",
       " 0.7319550514221191,\n",
       " 0.7461008429527283,\n",
       " 0.7627856135368347,\n",
       " 0.7733043432235718,\n",
       " 0.7947043776512146,\n",
       " 0.8012332320213318,\n",
       " 0.807399332523346,\n",
       " 0.8113892078399658,\n",
       " 0.815741777420044,\n",
       " 0.8258976936340332,\n",
       " 0.8233587145805359,\n",
       " 0.8251723051071167,\n",
       " 0.8371418118476868,\n",
       " 0.8338773846626282,\n",
       " 0.8349655270576477,\n",
       " 0.8487486243247986,\n",
       " 0.8472977876663208]"
      ]
     },
     "execution_count": 46,
     "metadata": {},
     "output_type": "execute_result"
    }
   ],
   "source": [
    "#history2['accuracy']"
   ]
  },
  {
   "cell_type": "code",
   "execution_count": null,
   "metadata": {},
   "outputs": [],
   "source": []
  }
 ],
 "metadata": {
  "kernelspec": {
   "display_name": "Python 3",
   "language": "python",
   "name": "python3"
  },
  "language_info": {
   "codemirror_mode": {
    "name": "ipython",
    "version": 3
   },
   "file_extension": ".py",
   "mimetype": "text/x-python",
   "name": "python",
   "nbconvert_exporter": "python",
   "pygments_lexer": "ipython3",
   "version": "3.8.3"
  }
 },
 "nbformat": 4,
 "nbformat_minor": 4
}
