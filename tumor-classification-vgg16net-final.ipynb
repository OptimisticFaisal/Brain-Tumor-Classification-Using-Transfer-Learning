{
 "cells": [
  {
   "cell_type": "code",
   "execution_count": 1,
   "metadata": {},
   "outputs": [],
   "source": [
    "import os\n",
    "import zipfile\n",
    "import numpy as np\n",
    "import pandas as pd\n",
    "import matplotlib.pyplot as plt\n",
    "import pickle\n",
    "import h5py\n",
    "import cv2"
   ]
  },
  {
   "cell_type": "code",
   "execution_count": 2,
   "metadata": {},
   "outputs": [],
   "source": [
    "import tensorflow as tf"
   ]
  },
  {
   "cell_type": "code",
   "execution_count": 3,
   "metadata": {},
   "outputs": [
    {
     "data": {
      "text/plain": [
       "'2.3.1'"
      ]
     },
     "execution_count": 3,
     "metadata": {},
     "output_type": "execute_result"
    }
   ],
   "source": [
    "tf.__version__"
   ]
  },
  {
   "cell_type": "code",
   "execution_count": 4,
   "metadata": {},
   "outputs": [],
   "source": [
    "from imutils import paths\n",
    "IMG_PATH = 'new dataset'\n",
    "images_path = list(paths.list_images(IMG_PATH))\n",
    "import os\n",
    "import cv2\n",
    "import numpy as np"
   ]
  },
  {
   "cell_type": "code",
   "execution_count": 5,
   "metadata": {},
   "outputs": [],
   "source": [
    "def load(path):\n",
    "    data = []\n",
    "    labels = []\n",
    "    # loop over the input image\n",
    "    for (i, imgpath) in enumerate(path):\n",
    "        gray_img = cv2.imread(imgpath)\n",
    "        image = cv2.cvtColor(gray_img, cv2.COLOR_BGR2RGB)\n",
    "        image = cv2.resize(image, (160, 160))\n",
    "        image = np.array(image)\n",
    "        label = imgpath.split(os.path.sep)[-2]\n",
    "        data.append(image)\n",
    "        labels.append(label)\n",
    "    # return a tuple of data and label\n",
    "    return data, labels"
   ]
  },
  {
   "cell_type": "code",
   "execution_count": 6,
   "metadata": {},
   "outputs": [],
   "source": [
    "image_list, label_list = load(images_path)"
   ]
  },
  {
   "cell_type": "code",
   "execution_count": 7,
   "metadata": {},
   "outputs": [
    {
     "data": {
      "text/plain": [
       "(160, 160, 3)"
      ]
     },
     "execution_count": 7,
     "metadata": {},
     "output_type": "execute_result"
    }
   ],
   "source": [
    "image_list[0].shape"
   ]
  },
  {
   "cell_type": "code",
   "execution_count": 8,
   "metadata": {},
   "outputs": [],
   "source": [
    "label_list_numerical = []\n",
    "for i in label_list:\n",
    "    if i == 'glioma':\n",
    "        label_list_numerical.append(2)\n",
    "    elif i == 'meningioma':\n",
    "        label_list_numerical.append(1)\n",
    "    elif i == 'pituitary':\n",
    "        label_list_numerical.append(3)"
   ]
  },
  {
   "cell_type": "code",
   "execution_count": 9,
   "metadata": {},
   "outputs": [],
   "source": [
    "from sklearn.preprocessing import LabelBinarizer\n",
    "lb = LabelBinarizer()\n",
    "label_list = lb.fit_transform(label_list)"
   ]
  },
  {
   "cell_type": "code",
   "execution_count": 10,
   "metadata": {},
   "outputs": [
    {
     "data": {
      "text/plain": [
       "array([1, 0, 0])"
      ]
     },
     "execution_count": 10,
     "metadata": {},
     "output_type": "execute_result"
    }
   ],
   "source": [
    "label_list[0]"
   ]
  },
  {
   "cell_type": "code",
   "execution_count": 11,
   "metadata": {},
   "outputs": [],
   "source": [
    "from sklearn.model_selection import train_test_split\n",
    "X_train, X_test, Y_train,Y_test = train_test_split(\n",
    "    image_list, \n",
    "    label_list,\n",
    "    test_size = 0.1,\n",
    "    random_state = 42)"
   ]
  },
  {
   "cell_type": "code",
   "execution_count": 12,
   "metadata": {},
   "outputs": [
    {
     "name": "stdout",
     "output_type": "stream",
     "text": [
      "2757\n",
      "2757\n"
     ]
    }
   ],
   "source": [
    "print(len(X_train))\n",
    "print(len(Y_train))"
   ]
  },
  {
   "cell_type": "code",
   "execution_count": 13,
   "metadata": {},
   "outputs": [],
   "source": [
    "import tensorflow as tf\n",
    "#process and batch the test data\n",
    "test_batch = tf.data.Dataset.from_tensor_slices((X_test, Y_test)).batch(16)"
   ]
  },
  {
   "cell_type": "code",
   "execution_count": 14,
   "metadata": {},
   "outputs": [],
   "source": [
    "tf.config.run_functions_eagerly(True)"
   ]
  },
  {
   "cell_type": "code",
   "execution_count": 15,
   "metadata": {},
   "outputs": [],
   "source": [
    "#process and batch the train data\n",
    "train_batch = tf.data.Dataset.from_tensor_slices((X_train, Y_train)).batch(16)"
   ]
  },
  {
   "cell_type": "code",
   "execution_count": 16,
   "metadata": {},
   "outputs": [],
   "source": [
    "#Use buffered prefetching to load images from disk without having I/O become blocking.\n",
    "AUTOTUNE = tf.data.experimental.AUTOTUNE\n",
    "\n",
    "train_dataset = train_batch.prefetch(buffer_size=AUTOTUNE)\n",
    "test_dataset = test_batch.prefetch(buffer_size=AUTOTUNE)"
   ]
  },
  {
   "cell_type": "code",
   "execution_count": 17,
   "metadata": {},
   "outputs": [],
   "source": [
    "preprocess_input = tf.keras.applications.vgg16.preprocess_input"
   ]
  },
  {
   "cell_type": "code",
   "execution_count": 18,
   "metadata": {},
   "outputs": [],
   "source": [
    "from tensorflow.keras.layers.experimental import preprocessing\n",
    "from tensorflow.keras.models import Sequential\n",
    "img_augmentation = Sequential(\n",
    "    [\n",
    "        preprocessing.RandomRotation(factor=0.15),\n",
    "        preprocessing.RandomTranslation(height_factor=0.1, width_factor=0.1),\n",
    "        preprocessing.RandomFlip(),\n",
    "        preprocessing.RandomContrast(factor=0.1),\n",
    "    ],\n",
    "    name=\"img_augmentation\",\n",
    ")"
   ]
  },
  {
   "cell_type": "code",
   "execution_count": 19,
   "metadata": {},
   "outputs": [],
   "source": [
    "#IMG_SHAPE = image_list[0].shape\n",
    "base_model = tf.keras.applications.VGG16(input_shape=(160,160,3),\n",
    "                                               include_top=False,\n",
    "                                               weights='imagenet')"
   ]
  },
  {
   "cell_type": "code",
   "execution_count": 20,
   "metadata": {},
   "outputs": [
    {
     "name": "stdout",
     "output_type": "stream",
     "text": [
      "Model: \"vgg16\"\n",
      "_________________________________________________________________\n",
      "Layer (type)                 Output Shape              Param #   \n",
      "=================================================================\n",
      "input_1 (InputLayer)         [(None, 160, 160, 3)]     0         \n",
      "_________________________________________________________________\n",
      "block1_conv1 (Conv2D)        (None, 160, 160, 64)      1792      \n",
      "_________________________________________________________________\n",
      "block1_conv2 (Conv2D)        (None, 160, 160, 64)      36928     \n",
      "_________________________________________________________________\n",
      "block1_pool (MaxPooling2D)   (None, 80, 80, 64)        0         \n",
      "_________________________________________________________________\n",
      "block2_conv1 (Conv2D)        (None, 80, 80, 128)       73856     \n",
      "_________________________________________________________________\n",
      "block2_conv2 (Conv2D)        (None, 80, 80, 128)       147584    \n",
      "_________________________________________________________________\n",
      "block2_pool (MaxPooling2D)   (None, 40, 40, 128)       0         \n",
      "_________________________________________________________________\n",
      "block3_conv1 (Conv2D)        (None, 40, 40, 256)       295168    \n",
      "_________________________________________________________________\n",
      "block3_conv2 (Conv2D)        (None, 40, 40, 256)       590080    \n",
      "_________________________________________________________________\n",
      "block3_conv3 (Conv2D)        (None, 40, 40, 256)       590080    \n",
      "_________________________________________________________________\n",
      "block3_pool (MaxPooling2D)   (None, 20, 20, 256)       0         \n",
      "_________________________________________________________________\n",
      "block4_conv1 (Conv2D)        (None, 20, 20, 512)       1180160   \n",
      "_________________________________________________________________\n",
      "block4_conv2 (Conv2D)        (None, 20, 20, 512)       2359808   \n",
      "_________________________________________________________________\n",
      "block4_conv3 (Conv2D)        (None, 20, 20, 512)       2359808   \n",
      "_________________________________________________________________\n",
      "block4_pool (MaxPooling2D)   (None, 10, 10, 512)       0         \n",
      "_________________________________________________________________\n",
      "block5_conv1 (Conv2D)        (None, 10, 10, 512)       2359808   \n",
      "_________________________________________________________________\n",
      "block5_conv2 (Conv2D)        (None, 10, 10, 512)       2359808   \n",
      "_________________________________________________________________\n",
      "block5_conv3 (Conv2D)        (None, 10, 10, 512)       2359808   \n",
      "_________________________________________________________________\n",
      "block5_pool (MaxPooling2D)   (None, 5, 5, 512)         0         \n",
      "=================================================================\n",
      "Total params: 14,714,688\n",
      "Trainable params: 0\n",
      "Non-trainable params: 14,714,688\n",
      "_________________________________________________________________\n"
     ]
    }
   ],
   "source": [
    "base_model.trainable = False\n",
    "base_model.summary()"
   ]
  },
  {
   "cell_type": "code",
   "execution_count": 21,
   "metadata": {},
   "outputs": [],
   "source": [
    "global_average_layer = tf.keras.layers.GlobalAveragePooling2D()"
   ]
  },
  {
   "cell_type": "code",
   "execution_count": 22,
   "metadata": {},
   "outputs": [],
   "source": [
    "prediction_layer = tf.keras.layers.Dense(3, activation='softmax')"
   ]
  },
  {
   "cell_type": "code",
   "execution_count": 23,
   "metadata": {},
   "outputs": [
    {
     "data": {
      "text/plain": [
       "{'name': 'dense',\n",
       " 'trainable': True,\n",
       " 'dtype': 'float32',\n",
       " 'units': 3,\n",
       " 'activation': 'softmax',\n",
       " 'use_bias': True,\n",
       " 'kernel_initializer': {'class_name': 'GlorotUniform',\n",
       "  'config': {'seed': None}},\n",
       " 'bias_initializer': {'class_name': 'Zeros', 'config': {}},\n",
       " 'kernel_regularizer': None,\n",
       " 'bias_regularizer': None,\n",
       " 'activity_regularizer': None,\n",
       " 'kernel_constraint': None,\n",
       " 'bias_constraint': None}"
      ]
     },
     "execution_count": 23,
     "metadata": {},
     "output_type": "execute_result"
    }
   ],
   "source": [
    "prediction_layer.get_config()"
   ]
  },
  {
   "cell_type": "code",
   "execution_count": 24,
   "metadata": {},
   "outputs": [],
   "source": [
    "inputs = tf.keras.Input(shape=(160,160, 3))\n",
    "x = preprocess_input(inputs)\n",
    "x = img_augmentation(x)\n",
    "x = base_model(x, training=False)\n",
    "x = global_average_layer(x)\n",
    "x = tf.keras.layers.BatchNormalization()(x)\n",
    "x = tf.keras.layers.Dropout(0.2)(x)\n",
    "outputs = prediction_layer(x)\n",
    "model = tf.keras.Model(inputs, outputs)"
   ]
  },
  {
   "cell_type": "code",
   "execution_count": 25,
   "metadata": {},
   "outputs": [],
   "source": [
    "base_learning_rate = 0.0001\n",
    "model.compile(optimizer=tf.keras.optimizers.Adam(lr=base_learning_rate),\n",
    "              loss=tf.keras.losses.categorical_crossentropy,\n",
    "              metrics=['accuracy'])"
   ]
  },
  {
   "cell_type": "code",
   "execution_count": 26,
   "metadata": {},
   "outputs": [
    {
     "name": "stdout",
     "output_type": "stream",
     "text": [
      "Model: \"functional_1\"\n",
      "_________________________________________________________________\n",
      "Layer (type)                 Output Shape              Param #   \n",
      "=================================================================\n",
      "input_2 (InputLayer)         [(None, 160, 160, 3)]     0         \n",
      "_________________________________________________________________\n",
      "tf_op_layer_strided_slice (T [(None, 160, 160, 3)]     0         \n",
      "_________________________________________________________________\n",
      "tf_op_layer_BiasAdd (TensorF [(None, 160, 160, 3)]     0         \n",
      "_________________________________________________________________\n",
      "img_augmentation (Sequential (None, 160, 160, 3)       0         \n",
      "_________________________________________________________________\n",
      "vgg16 (Functional)           (None, 5, 5, 512)         14714688  \n",
      "_________________________________________________________________\n",
      "global_average_pooling2d (Gl (None, 512)               0         \n",
      "_________________________________________________________________\n",
      "batch_normalization (BatchNo (None, 512)               2048      \n",
      "_________________________________________________________________\n",
      "dropout (Dropout)            (None, 512)               0         \n",
      "_________________________________________________________________\n",
      "dense (Dense)                (None, 3)                 1539      \n",
      "=================================================================\n",
      "Total params: 14,718,275\n",
      "Trainable params: 2,563\n",
      "Non-trainable params: 14,715,712\n",
      "_________________________________________________________________\n"
     ]
    }
   ],
   "source": [
    "model.summary()"
   ]
  },
  {
   "cell_type": "code",
   "execution_count": 27,
   "metadata": {},
   "outputs": [],
   "source": [
    "initial_epochs = 20"
   ]
  },
  {
   "cell_type": "code",
   "execution_count": 28,
   "metadata": {},
   "outputs": [
    {
     "name": "stdout",
     "output_type": "stream",
     "text": [
      "[name: \"/device:CPU:0\"\n",
      "device_type: \"CPU\"\n",
      "memory_limit: 268435456\n",
      "locality {\n",
      "}\n",
      "incarnation: 18353882064421980344\n",
      ", name: \"/device:XLA_CPU:0\"\n",
      "device_type: \"XLA_CPU\"\n",
      "memory_limit: 17179869184\n",
      "locality {\n",
      "}\n",
      "incarnation: 14433212219009039292\n",
      "physical_device_desc: \"device: XLA_CPU device\"\n",
      ", name: \"/device:XLA_GPU:0\"\n",
      "device_type: \"XLA_GPU\"\n",
      "memory_limit: 17179869184\n",
      "locality {\n",
      "}\n",
      "incarnation: 4677514815891421567\n",
      "physical_device_desc: \"device: XLA_GPU device\"\n",
      "]\n"
     ]
    }
   ],
   "source": [
    "from tensorflow.python.client import device_lib\n",
    "print(device_lib.list_local_devices())"
   ]
  },
  {
   "cell_type": "code",
   "execution_count": 29,
   "metadata": {},
   "outputs": [
    {
     "name": "stdout",
     "output_type": "stream",
     "text": [
      "Epoch 1/20\n",
      "173/173 [==============================] - 1478s 9s/step - loss: 1.3419 - accuracy: 0.4621 - val_loss: 1.3274 - val_accuracy: 0.4625\n",
      "Epoch 2/20\n",
      "173/173 [==============================] - 1489s 9s/step - loss: 1.0677 - accuracy: 0.5600 - val_loss: 1.0084 - val_accuracy: 0.5472\n",
      "Epoch 3/20\n",
      "173/173 [==============================] - 1471s 9s/step - loss: 0.9939 - accuracy: 0.5948 - val_loss: 0.8995 - val_accuracy: 0.5961\n",
      "Epoch 4/20\n",
      "173/173 [==============================] - 1460s 8s/step - loss: 0.8727 - accuracy: 0.6496 - val_loss: 0.8380 - val_accuracy: 0.6547\n",
      "Epoch 5/20\n",
      "173/173 [==============================] - 1473s 9s/step - loss: 0.7913 - accuracy: 0.6783 - val_loss: 0.8094 - val_accuracy: 0.6515\n",
      "Epoch 6/20\n",
      "173/173 [==============================] - 1460s 8s/step - loss: 0.7627 - accuracy: 0.6855 - val_loss: 0.7764 - val_accuracy: 0.6645\n",
      "Epoch 7/20\n",
      "173/173 [==============================] - 1454s 8s/step - loss: 0.7381 - accuracy: 0.6979 - val_loss: 0.7680 - val_accuracy: 0.6645\n",
      "Epoch 8/20\n",
      "173/173 [==============================] - 1454s 8s/step - loss: 0.6888 - accuracy: 0.7080 - val_loss: 0.7464 - val_accuracy: 0.6710\n",
      "Epoch 9/20\n",
      "173/173 [==============================] - 1462s 8s/step - loss: 0.6944 - accuracy: 0.7291 - val_loss: 0.7280 - val_accuracy: 0.6775\n",
      "Epoch 10/20\n",
      "173/173 [==============================] - 1466s 8s/step - loss: 0.6606 - accuracy: 0.7232 - val_loss: 0.7276 - val_accuracy: 0.6873\n",
      "Epoch 11/20\n",
      "173/173 [==============================] - 1510s 9s/step - loss: 0.6308 - accuracy: 0.7363 - val_loss: 0.7275 - val_accuracy: 0.6873\n",
      "Epoch 12/20\n",
      "173/173 [==============================] - 1470s 8s/step - loss: 0.6556 - accuracy: 0.7305 - val_loss: 0.7034 - val_accuracy: 0.6938\n",
      "Epoch 13/20\n",
      "173/173 [==============================] - 1474s 9s/step - loss: 0.6157 - accuracy: 0.7421 - val_loss: 0.6983 - val_accuracy: 0.7036\n",
      "Epoch 14/20\n",
      "173/173 [==============================] - 1504s 9s/step - loss: 0.5803 - accuracy: 0.7577 - val_loss: 0.6972 - val_accuracy: 0.7101\n",
      "Epoch 15/20\n",
      "173/173 [==============================] - 1521s 9s/step - loss: 0.5782 - accuracy: 0.7602 - val_loss: 0.6992 - val_accuracy: 0.7036\n",
      "Epoch 16/20\n",
      "173/173 [==============================] - 1482s 9s/step - loss: 0.5856 - accuracy: 0.7592 - val_loss: 0.6908 - val_accuracy: 0.7068\n",
      "Epoch 17/20\n",
      "173/173 [==============================] - 1482s 9s/step - loss: 0.5444 - accuracy: 0.7726 - val_loss: 0.6796 - val_accuracy: 0.7101\n",
      "Epoch 18/20\n",
      "173/173 [==============================] - 1483s 9s/step - loss: 0.5640 - accuracy: 0.7715 - val_loss: 0.6971 - val_accuracy: 0.7003\n",
      "Epoch 19/20\n",
      "173/173 [==============================] - 1487s 9s/step - loss: 0.5352 - accuracy: 0.7748 - val_loss: 0.6694 - val_accuracy: 0.7199\n",
      "Epoch 20/20\n",
      "173/173 [==============================] - 1535s 9s/step - loss: 0.5377 - accuracy: 0.7798 - val_loss: 0.6717 - val_accuracy: 0.7134\n"
     ]
    }
   ],
   "source": [
    "history = model.fit(train_dataset, epochs=initial_epochs,validation_data=test_dataset)"
   ]
  },
  {
   "cell_type": "code",
   "execution_count": 30,
   "metadata": {},
   "outputs": [
    {
     "name": "stdout",
     "output_type": "stream",
     "text": [
      "[0.4620964825153351, 0.5600290298461914, 0.5948494672775269, 0.6496191620826721, 0.6782734990119934, 0.6855277419090271, 0.6978600025177002, 0.7080159783363342, 0.7290533185005188, 0.7232499122619629, 0.7363075613975525, 0.7305041551589966, 0.7421109676361084, 0.7577076554298401, 0.7602466344833374, 0.7591584920883179, 0.7725788950920105, 0.771490752696991, 0.7747551798820496, 0.7798331379890442]\n"
     ]
    }
   ],
   "source": [
    "acc = history.history['accuracy']\n",
    "print(acc)"
   ]
  },
  {
   "cell_type": "code",
   "execution_count": 31,
   "metadata": {},
   "outputs": [
    {
     "data": {
      "image/png": "[encoded data removed]",
      "text/plain": [
       "<Figure size 576x576 with 2 Axes>"
      ]
     },
     "metadata": {
      "needs_background": "light"
     },
     "output_type": "display_data"
    },
    {
     "data": {
      "text/plain": [
       "<Figure size 432x288 with 0 Axes>"
      ]
     },
     "metadata": {},
     "output_type": "display_data"
    }
   ],
   "source": [
    "acc = history.history['accuracy']\n",
    "val_acc = history.history['val_accuracy']\n",
    "loss = history.history['loss']\n",
    "val_loss = history.history['val_loss']\n",
    "\n",
    "\n",
    "plt.figure(figsize=(8, 8))\n",
    "plt.subplot(2, 1, 1)\n",
    "plt.plot(acc, label='Training Accuracy')\n",
    "plt.plot(val_acc, label = 'Validation Accuracy')\n",
    "#plt.plot(val_acc, label='Validation Accuracy')\n",
    "plt.legend(loc='lower right')\n",
    "plt.ylabel('Accuracy')\n",
    "plt.ylim([min(plt.ylim()),1])\n",
    "plt.title('Training and Validation Accuracy')\n",
    "\n",
    "plt.subplot(2, 1, 2)\n",
    "plt.plot(loss, label='Training Loss')\n",
    "plt.plot(val_loss, label='Validation Loss')\n",
    "plt.legend(loc='upper right')\n",
    "plt.ylabel('Cross Entropy')\n",
    "plt.ylim([0,1.0])\n",
    "plt.title('Training and Validation Loss')\n",
    "plt.xlabel('epoch')\n",
    "plt.show()\n",
    "plt.savefig('accuracy-loss-vgg16.png')"
   ]
  },
  {
   "cell_type": "code",
   "execution_count": 32,
   "metadata": {},
   "outputs": [
    {
     "data": {
      "image/png": "[encoded data removed]",
      "text/plain": [
       "<Figure size 432x288 with 1 Axes>"
      ]
     },
     "metadata": {
      "needs_background": "light"
     },
     "output_type": "display_data"
    },
    {
     "data": {
      "text/plain": [
       "<Figure size 432x288 with 0 Axes>"
      ]
     },
     "metadata": {},
     "output_type": "display_data"
    }
   ],
   "source": [
    "from matplotlib import pyplot as plt\n",
    "#plot training and validation accuracy\n",
    "plt.plot(history.history['accuracy'])\n",
    "plt.plot(history.history['val_accuracy'])\n",
    "plt.title('model accuracy')\n",
    "plt.ylabel('accuracy')\n",
    "plt.xlabel('epoch')\n",
    "plt.legend(['train', 'val'], loc='upper left')\n",
    "plt.show()\n",
    "plt.savefig('accuracy_curve_vgg16.png')"
   ]
  },
  {
   "cell_type": "code",
   "execution_count": 33,
   "metadata": {},
   "outputs": [
    {
     "data": {
      "image/png": "[encoded data removed]",
      "text/plain": [
       "<Figure size 432x288 with 1 Axes>"
      ]
     },
     "metadata": {
      "needs_background": "light"
     },
     "output_type": "display_data"
    },
    {
     "data": {
      "text/plain": [
       "<Figure size 432x288 with 0 Axes>"
      ]
     },
     "metadata": {},
     "output_type": "display_data"
    }
   ],
   "source": [
    "#plot training and validation loss\n",
    "plt.plot(history.history['loss'])\n",
    "plt.plot(history.history['val_loss'])\n",
    "plt.title('model loss')\n",
    "plt.ylabel('loss')\n",
    "plt.xlabel('epoch')\n",
    "plt.legend(['train', 'val'], loc='upper left')\n",
    "plt.show()\n",
    "plt.savefig('loss_curve_vgg16.png')"
   ]
  },
  {
   "cell_type": "code",
   "execution_count": 44,
   "metadata": {},
   "outputs": [],
   "source": [
    "#test_batch = tf.data.Dataset.from_tensor_slices((X_test, Y_test)).batch(4)"
   ]
  },
  {
   "cell_type": "code",
   "execution_count": 45,
   "metadata": {},
   "outputs": [
    {
     "name": "stdout",
     "output_type": "stream",
     "text": [
      "77/77 [==============================] - 26s 337ms/step - loss: 0.4075 - accuracy: 0.8762\n",
      "Test accuracy : 0.8762214779853821\n"
     ]
    }
   ],
   "source": [
    "#loss, accuracy = model.evaluate(test_dataset)\n",
    "#print('Test accuracy :', accuracy)"
   ]
  },
  {
   "cell_type": "code",
   "execution_count": 108,
   "metadata": {},
   "outputs": [],
   "source": [
    "#test_dataset = test_batch.prefetch(buffer_size=AUTOTUNE)"
   ]
  },
  {
   "cell_type": "code",
   "execution_count": 110,
   "metadata": {},
   "outputs": [
    {
     "data": {
      "text/plain": [
       "0.28440072420718415"
      ]
     },
     "execution_count": 110,
     "metadata": {},
     "output_type": "execute_result"
    }
   ],
   "source": [
    "#loss"
   ]
  },
  {
   "cell_type": "code",
   "execution_count": 34,
   "metadata": {},
   "outputs": [],
   "source": [
    "import tensorflow as tf"
   ]
  },
  {
   "cell_type": "code",
   "execution_count": 46,
   "metadata": {},
   "outputs": [],
   "source": [
    "#model.save(\"model-efficientnet-image-size-224-with-augmentation.h5\")"
   ]
  },
  {
   "cell_type": "code",
   "execution_count": 18,
   "metadata": {},
   "outputs": [
    {
     "name": "stdout",
     "output_type": "stream",
     "text": [
      "WARNING:tensorflow:Model was constructed with shape (None, 32, 32, 3) for input Tensor(\"input_1:0\", shape=(None, 32, 32, 3), dtype=float32), but it was called on an input with incompatible shape (None, 160, 160, 3).\n",
      "Model: \"functional_1\"\n",
      "_________________________________________________________________\n",
      "Layer (type)                 Output Shape              Param #   \n",
      "=================================================================\n",
      "input_2 (InputLayer)         [(None, 160, 160, 3)]     0         \n",
      "_________________________________________________________________\n",
      "efficientnetb0 (Functional)  (None, 1, 1, 1280)        4049571   \n",
      "_________________________________________________________________\n",
      "global_average_pooling2d (Gl (None, 1280)              0         \n",
      "_________________________________________________________________\n",
      "dropout (Dropout)            (None, 1280)              0         \n",
      "_________________________________________________________________\n",
      "dense (Dense)                (None, 3)                 3843      \n",
      "=================================================================\n",
      "Total params: 4,053,414\n",
      "Trainable params: 3,843\n",
      "Non-trainable params: 4,049,571\n",
      "_________________________________________________________________\n"
     ]
    }
   ],
   "source": [
    "# load model\n",
    "#model = load_model('model-efficient-net.h5')\n",
    "# summarize model.\n",
    "#model.summary()"
   ]
  },
  {
   "cell_type": "code",
   "execution_count": 29,
   "metadata": {},
   "outputs": [],
   "source": [
    "#from tensorflow.keras.models import load_model"
   ]
  },
  {
   "cell_type": "code",
   "execution_count": 31,
   "metadata": {},
   "outputs": [
    {
     "name": "stdout",
     "output_type": "stream",
     "text": [
      "Model: \"functional_3\"\n",
      "_________________________________________________________________\n",
      "Layer (type)                 Output Shape              Param #   \n",
      "=================================================================\n",
      "input_3 (InputLayer)         [(None, 224, 224, 3)]     0         \n",
      "_________________________________________________________________\n",
      "img_augmentation (Sequential (None, 224, 224, 3)       0         \n",
      "_________________________________________________________________\n",
      "efficientnetb0 (Functional)  (None, 7, 7, 1280)        4049571   \n",
      "_________________________________________________________________\n",
      "global_average_pooling2d (Gl (None, 1280)              0         \n",
      "_________________________________________________________________\n",
      "batch_normalization_1 (Batch (None, 1280)              5120      \n",
      "_________________________________________________________________\n",
      "dropout_1 (Dropout)          (None, 1280)              0         \n",
      "_________________________________________________________________\n",
      "dense (Dense)                (None, 3)                 3843      \n",
      "=================================================================\n",
      "Total params: 4,058,534\n",
      "Trainable params: 6,403\n",
      "Non-trainable params: 4,052,131\n",
      "_________________________________________________________________\n"
     ]
    }
   ],
   "source": [
    "# load model\n",
    "#model = load_model('model-efficientnet-image-size-224-with-augmentation.h5')\n",
    "# summarize model.\n",
    "#model.summary()"
   ]
  },
  {
   "cell_type": "code",
   "execution_count": 32,
   "metadata": {},
   "outputs": [
    {
     "name": "stdout",
     "output_type": "stream",
     "text": [
      "20/20 [==============================] - 17s 860ms/step - loss: 0.4075 - accuracy: 0.8762\n",
      "Test accuracy : 0.8762214779853821\n"
     ]
    }
   ],
   "source": [
    "#loss, accuracy = model.evaluate(test_dataset)\n",
    "#print('Test accuracy :', accuracy)"
   ]
  },
  {
   "cell_type": "code",
   "execution_count": 35,
   "metadata": {},
   "outputs": [],
   "source": [
    "pred_prob = model.predict(test_dataset)"
   ]
  },
  {
   "cell_type": "code",
   "execution_count": 36,
   "metadata": {},
   "outputs": [
    {
     "data": {
      "text/plain": [
       "array([[4.44787472e-01, 3.88683617e-01, 1.66528881e-01],\n",
       "       [7.25938261e-01, 2.61408955e-01, 1.26526924e-02],\n",
       "       [1.19513953e-02, 9.17613387e-01, 7.04351440e-02],\n",
       "       [9.95026454e-02, 6.09582305e-01, 2.90914983e-01],\n",
       "       [1.17786869e-01, 4.20681387e-01, 4.61531729e-01],\n",
       "       [9.72173691e-01, 1.65982824e-02, 1.12280035e-02],\n",
       "       [3.14998999e-03, 5.60916737e-02, 9.40758288e-01],\n",
       "       [4.79009956e-01, 4.86062229e-01, 3.49277370e-02],\n",
       "       [2.14771003e-01, 2.83413529e-02, 7.56887615e-01],\n",
       "       [3.61666948e-01, 5.05093455e-01, 1.33239552e-01],\n",
       "       [2.22499579e-01, 7.52107978e-01, 2.53923777e-02],\n",
       "       [8.22417997e-03, 3.40070091e-02, 9.57768857e-01],\n",
       "       [2.71851122e-01, 1.24357514e-01, 6.03791296e-01],\n",
       "       [1.14935927e-01, 7.34193623e-01, 1.50870427e-01],\n",
       "       [1.98106822e-02, 1.14999488e-01, 8.65189850e-01],\n",
       "       [3.36849317e-03, 2.92618386e-02, 9.67369676e-01],\n",
       "       [4.09296015e-03, 3.20244908e-01, 6.75662160e-01],\n",
       "       [2.69446359e-03, 1.49576329e-02, 9.82347965e-01],\n",
       "       [7.90535569e-01, 1.52383819e-01, 5.70806153e-02],\n",
       "       [1.82784640e-03, 1.47362292e-01, 8.50809813e-01],\n",
       "       [7.04284430e-01, 1.81511804e-01, 1.14203788e-01],\n",
       "       [1.19331386e-02, 1.05144298e-02, 9.77552414e-01],\n",
       "       [4.00587916e-03, 9.99520533e-04, 9.94994521e-01],\n",
       "       [3.28432322e-02, 4.80444670e-01, 4.86712009e-01],\n",
       "       [7.78242052e-02, 6.60106540e-01, 2.62069285e-01],\n",
       "       [5.71802557e-01, 3.64098072e-01, 6.40993714e-02],\n",
       "       [1.21733516e-01, 6.04671001e-01, 2.73595512e-01],\n",
       "       [1.49721109e-05, 3.82290296e-02, 9.61755991e-01],\n",
       "       [2.07468052e-03, 5.38383145e-03, 9.92541432e-01],\n",
       "       [9.55889940e-01, 1.66008677e-02, 2.75092293e-02],\n",
       "       [1.65945590e-01, 5.36749996e-02, 7.80379415e-01],\n",
       "       [2.85863608e-01, 2.69096702e-01, 4.45039719e-01],\n",
       "       [8.20383132e-01, 8.80494192e-02, 9.15674493e-02],\n",
       "       [1.82182267e-02, 6.90146983e-02, 9.12767112e-01],\n",
       "       [1.25630021e-01, 7.95488477e-01, 7.88815767e-02],\n",
       "       [4.30072695e-01, 5.05417883e-01, 6.45093694e-02],\n",
       "       [2.67369479e-01, 3.83140355e-01, 3.49490225e-01],\n",
       "       [9.94722247e-01, 3.29101994e-03, 1.98666961e-03],\n",
       "       [9.94230390e-01, 5.73217822e-03, 3.74352021e-05],\n",
       "       [9.15032804e-01, 5.45264073e-02, 3.04407217e-02],\n",
       "       [1.01622693e-01, 2.11585999e-01, 6.86791301e-01],\n",
       "       [2.28624135e-01, 2.14498103e-01, 5.56877792e-01],\n",
       "       [9.27156687e-01, 7.86900613e-03, 6.49743229e-02],\n",
       "       [3.70780285e-03, 2.03434424e-03, 9.94257808e-01],\n",
       "       [1.40538039e-02, 1.03634512e-02, 9.75582778e-01],\n",
       "       [1.48108095e-01, 1.29969358e-01, 7.21922576e-01],\n",
       "       [8.21967423e-01, 1.46578789e-01, 3.14538814e-02],\n",
       "       [2.98044048e-02, 9.17741179e-01, 5.24544381e-02],\n",
       "       [9.53545094e-01, 1.98904313e-02, 2.65644621e-02],\n",
       "       [7.46530369e-02, 1.17624151e-02, 9.13584530e-01],\n",
       "       [6.35415137e-01, 1.15419272e-02, 3.53042930e-01],\n",
       "       [4.39447025e-03, 6.13302514e-02, 9.34275270e-01],\n",
       "       [1.88006349e-02, 8.66860032e-01, 1.14339262e-01],\n",
       "       [4.48513836e-01, 5.95803671e-02, 4.91905838e-01],\n",
       "       [9.74131167e-01, 6.51347218e-03, 1.93552934e-02],\n",
       "       [2.56921142e-01, 8.00030604e-02, 6.63075745e-01],\n",
       "       [7.72945106e-01, 2.20786139e-01, 6.26872946e-03],\n",
       "       [1.33970473e-02, 7.15052802e-03, 9.79452372e-01],\n",
       "       [6.58897877e-01, 3.54773439e-02, 3.05624753e-01],\n",
       "       [5.23069687e-02, 2.60416474e-02, 9.21651363e-01],\n",
       "       [2.33310804e-01, 3.83624613e-01, 3.83064598e-01],\n",
       "       [9.27745104e-01, 3.13933217e-03, 6.91155195e-02],\n",
       "       [6.85245275e-01, 2.20976382e-01, 9.37783048e-02],\n",
       "       [9.89486337e-01, 2.47001927e-03, 8.04363005e-03],\n",
       "       [3.02745581e-01, 6.86331451e-01, 1.09229479e-02],\n",
       "       [9.78196144e-01, 7.86178093e-03, 1.39421523e-02],\n",
       "       [9.85812306e-01, 5.90428663e-03, 8.28337297e-03],\n",
       "       [2.83931382e-02, 3.16684902e-01, 6.54921949e-01],\n",
       "       [6.12483491e-05, 8.09843652e-04, 9.99128878e-01],\n",
       "       [5.44323325e-01, 9.83418711e-03, 4.45842534e-01],\n",
       "       [5.79478801e-04, 4.92847919e-01, 5.06572664e-01],\n",
       "       [2.02483009e-03, 1.19113233e-02, 9.86063838e-01],\n",
       "       [2.66093249e-03, 3.56898382e-02, 9.61649299e-01],\n",
       "       [3.90322477e-01, 7.64790326e-02, 5.33198535e-01],\n",
       "       [9.71429646e-01, 1.65054612e-02, 1.20649133e-02],\n",
       "       [2.24518418e-01, 1.69588998e-01, 6.05892539e-01],\n",
       "       [4.45937634e-01, 3.84994626e-01, 1.69067740e-01],\n",
       "       [9.38170254e-01, 5.83876297e-03, 5.59910089e-02],\n",
       "       [8.36947188e-02, 4.93855000e-01, 4.22450364e-01],\n",
       "       [2.68919915e-01, 1.06173240e-01, 6.24906838e-01],\n",
       "       [9.60195437e-03, 1.90599146e-03, 9.88492012e-01],\n",
       "       [9.57887292e-01, 5.23402309e-03, 3.68787684e-02],\n",
       "       [3.37889738e-04, 3.00167352e-02, 9.69645381e-01],\n",
       "       [7.65998382e-04, 4.33785990e-02, 9.55855370e-01],\n",
       "       [7.76643157e-01, 6.27305210e-02, 1.60626322e-01],\n",
       "       [5.38449824e-01, 2.58917868e-01, 2.02632323e-01],\n",
       "       [9.56819534e-01, 2.02290062e-02, 2.29514688e-02],\n",
       "       [4.60207433e-04, 4.73723281e-03, 9.94802594e-01],\n",
       "       [9.73784804e-01, 1.78287569e-02, 8.38634744e-03],\n",
       "       [8.66425633e-02, 5.78679377e-03, 9.07570601e-01],\n",
       "       [1.61713187e-03, 5.98604791e-03, 9.92396772e-01],\n",
       "       [7.02838600e-02, 4.56259549e-01, 4.73456591e-01],\n",
       "       [1.34382557e-04, 1.47909240e-03, 9.98386502e-01],\n",
       "       [1.52194538e-04, 1.00863129e-02, 9.89761531e-01],\n",
       "       [2.75305100e-03, 2.58290861e-02, 9.71417844e-01],\n",
       "       [9.44032729e-01, 5.30478060e-02, 2.91940803e-03],\n",
       "       [4.64986384e-01, 6.02269396e-02, 4.74786729e-01],\n",
       "       [8.64771903e-01, 1.20293992e-02, 1.23198718e-01],\n",
       "       [9.20010209e-01, 2.98929717e-02, 5.00968024e-02],\n",
       "       [3.46806437e-01, 4.25103396e-01, 2.28090182e-01],\n",
       "       [1.57594845e-01, 6.72865987e-01, 1.69539154e-01],\n",
       "       [1.24335192e-01, 1.76847041e-01, 6.98817790e-01],\n",
       "       [9.26661611e-01, 1.53477686e-02, 5.79906330e-02],\n",
       "       [4.84491978e-03, 5.30815534e-02, 9.42073524e-01],\n",
       "       [1.23470800e-03, 1.31771481e-02, 9.85588193e-01],\n",
       "       [9.55138266e-01, 4.10996266e-02, 3.76208802e-03],\n",
       "       [2.94991583e-03, 3.97676043e-03, 9.93073404e-01],\n",
       "       [1.95337255e-02, 5.29591599e-03, 9.75170434e-01],\n",
       "       [3.77497733e-01, 5.03719270e-01, 1.18782938e-01],\n",
       "       [8.36262763e-01, 1.35369644e-01, 2.83675883e-02],\n",
       "       [6.81512535e-01, 1.05037615e-01, 2.13449880e-01],\n",
       "       [4.82777096e-02, 1.14128537e-01, 8.37593794e-01],\n",
       "       [5.94740450e-01, 2.72443201e-02, 3.78015250e-01],\n",
       "       [1.28674263e-04, 7.68396258e-02, 9.23031688e-01],\n",
       "       [3.88144106e-01, 8.67129639e-02, 5.25142848e-01],\n",
       "       [6.24299586e-01, 8.82235020e-02, 2.87476957e-01],\n",
       "       [6.61356654e-03, 4.36277539e-01, 5.57108879e-01],\n",
       "       [8.44162609e-03, 1.77461535e-01, 8.14096868e-01],\n",
       "       [9.69889224e-01, 1.56555604e-02, 1.44551238e-02],\n",
       "       [1.21889524e-02, 1.87539849e-02, 9.69057083e-01],\n",
       "       [7.36057341e-01, 2.63887912e-01, 5.46667980e-05],\n",
       "       [3.82722974e-01, 3.53329659e-01, 2.63947397e-01],\n",
       "       [5.07932007e-01, 4.90354985e-01, 1.71296229e-03],\n",
       "       [7.50628233e-01, 9.82638635e-03, 2.39545479e-01],\n",
       "       [1.45224389e-02, 7.32870758e-01, 2.52606809e-01],\n",
       "       [8.95123720e-01, 8.17231014e-02, 2.31531654e-02],\n",
       "       [9.92421210e-01, 7.10338866e-03, 4.75344452e-04],\n",
       "       [2.93870494e-06, 8.07788339e-04, 9.99189317e-01],\n",
       "       [6.57409787e-01, 1.02368509e-02, 3.32353383e-01],\n",
       "       [9.77355957e-01, 1.52253720e-03, 2.11215299e-02],\n",
       "       [5.93485660e-04, 8.40077177e-03, 9.91005778e-01],\n",
       "       [9.71288145e-01, 6.62683183e-03, 2.20849942e-02],\n",
       "       [9.73862588e-01, 1.92085579e-02, 6.92879502e-03],\n",
       "       [8.95775497e-01, 7.52035528e-02, 2.90209372e-02],\n",
       "       [1.86480081e-03, 3.58371739e-03, 9.94551480e-01],\n",
       "       [1.79451704e-02, 8.58230352e-01, 1.23824365e-01],\n",
       "       [8.75371099e-02, 9.85785946e-02, 8.13884318e-01],\n",
       "       [5.26982248e-02, 9.37963054e-02, 8.53505492e-01],\n",
       "       [5.40093541e-01, 2.75283549e-02, 4.32378083e-01],\n",
       "       [9.75954711e-01, 3.52559192e-03, 2.05196869e-02],\n",
       "       [1.28528464e-03, 2.04383973e-02, 9.78276312e-01],\n",
       "       [4.11847495e-02, 6.78678334e-01, 2.80136943e-01],\n",
       "       [7.10950885e-03, 1.80997457e-02, 9.74790812e-01],\n",
       "       [9.89319384e-01, 5.14044194e-03, 5.54017350e-03],\n",
       "       [1.80518795e-02, 2.50111252e-01, 7.31836915e-01],\n",
       "       [1.45503441e-02, 7.72966594e-02, 9.08152938e-01],\n",
       "       [1.41999078e-06, 2.81954330e-04, 9.99716580e-01],\n",
       "       [5.87176755e-02, 7.51366973e-01, 1.89915374e-01],\n",
       "       [2.36474410e-01, 6.10485435e-01, 1.53040111e-01],\n",
       "       [7.71363854e-01, 4.00687307e-02, 1.88567385e-01],\n",
       "       [5.27641329e-04, 4.79285978e-02, 9.51543748e-01],\n",
       "       [3.27177979e-02, 6.35886192e-01, 3.31396013e-01],\n",
       "       [1.18400818e-02, 8.61331671e-02, 9.02026772e-01],\n",
       "       [4.08479720e-02, 2.35105440e-01, 7.24046588e-01],\n",
       "       [9.00664866e-01, 9.28191021e-02, 6.51604636e-03],\n",
       "       [9.73171651e-01, 7.89332297e-03, 1.89350806e-02],\n",
       "       [7.72385538e-01, 1.45120174e-01, 8.24943036e-02],\n",
       "       [4.82818812e-01, 2.30367228e-01, 2.86813974e-01],\n",
       "       [9.10825491e-01, 1.10980403e-02, 7.80764222e-02],\n",
       "       [5.11280715e-01, 4.06753898e-01, 8.19653645e-02],\n",
       "       [4.40816611e-01, 4.91173923e-01, 6.80095404e-02],\n",
       "       [2.95639969e-03, 6.45219982e-02, 9.32521582e-01],\n",
       "       [7.59302437e-01, 2.32497528e-01, 8.20004381e-03],\n",
       "       [4.19031113e-01, 3.57856989e-01, 2.23111883e-01],\n",
       "       [3.67199630e-02, 1.87175423e-02, 9.44562435e-01],\n",
       "       [1.73895940e-01, 8.17875803e-01, 8.22816230e-03],\n",
       "       [5.89925200e-02, 4.75966074e-02, 8.93410861e-01],\n",
       "       [1.03398098e-03, 2.11986657e-02, 9.77767289e-01],\n",
       "       [6.50442004e-01, 2.64135092e-01, 8.54229480e-02],\n",
       "       [2.23278943e-02, 8.16026032e-01, 1.61646053e-01],\n",
       "       [2.71377648e-05, 5.81771368e-03, 9.94155228e-01],\n",
       "       [4.82804924e-01, 3.25434834e-01, 1.91760212e-01],\n",
       "       [8.98090184e-01, 4.01648767e-02, 6.17448539e-02],\n",
       "       [1.70730017e-02, 8.76075983e-01, 1.06850922e-01],\n",
       "       [9.20139968e-01, 7.59047866e-02, 3.95528227e-03],\n",
       "       [1.02132425e-01, 8.35139528e-02, 8.14353645e-01],\n",
       "       [1.36033729e-01, 2.01900512e-01, 6.62065804e-01],\n",
       "       [3.22122164e-02, 2.73738429e-02, 9.40413952e-01],\n",
       "       [9.91666138e-01, 5.16797230e-03, 3.16589070e-03],\n",
       "       [3.54947336e-03, 8.09154846e-03, 9.88358974e-01],\n",
       "       [5.93788207e-01, 8.68342072e-02, 3.19377631e-01],\n",
       "       [9.90410447e-01, 6.31368253e-03, 3.27582494e-03],\n",
       "       [8.68214786e-01, 6.08062521e-02, 7.09789172e-02],\n",
       "       [6.70629919e-01, 1.73640743e-01, 1.55729294e-01],\n",
       "       [1.65078149e-03, 1.12556666e-01, 8.85792553e-01],\n",
       "       [1.66075006e-01, 3.23274672e-01, 5.10650337e-01],\n",
       "       [3.05909634e-04, 2.33903993e-02, 9.76303637e-01],\n",
       "       [4.28375334e-01, 5.62535584e-01, 9.08912905e-03],\n",
       "       [1.01583998e-03, 2.75032241e-02, 9.71480966e-01],\n",
       "       [1.72114242e-02, 2.11750101e-02, 9.61613536e-01],\n",
       "       [1.52921364e-01, 3.83752696e-02, 8.08703363e-01],\n",
       "       [5.02385259e-01, 3.06207895e-01, 1.91406891e-01],\n",
       "       [6.53614223e-01, 3.18660662e-02, 3.14519644e-01],\n",
       "       [8.79905745e-02, 1.20893955e-01, 7.91115463e-01],\n",
       "       [9.83705640e-01, 9.80222784e-03, 6.49215980e-03],\n",
       "       [1.14034279e-04, 3.80408741e-03, 9.96081889e-01],\n",
       "       [1.33001190e-02, 1.09088421e-02, 9.75791037e-01],\n",
       "       [9.23946857e-01, 4.34171781e-02, 3.26359235e-02],\n",
       "       [2.20050327e-02, 2.40783188e-02, 9.53916728e-01],\n",
       "       [9.79880393e-01, 5.39412629e-03, 1.47255296e-02],\n",
       "       [2.72712767e-01, 7.16849789e-02, 6.55602276e-01],\n",
       "       [4.48898338e-02, 3.11958849e-01, 6.43151343e-01],\n",
       "       [6.27429634e-02, 4.88853693e-01, 4.48403269e-01],\n",
       "       [7.36559510e-01, 3.33901821e-03, 2.60101438e-01],\n",
       "       [1.81956440e-01, 3.90271753e-01, 4.27771866e-01],\n",
       "       [6.36220798e-02, 1.16612628e-01, 8.19765270e-01],\n",
       "       [7.11329877e-01, 1.26813576e-01, 1.61856487e-01],\n",
       "       [1.38975377e-03, 1.64564755e-02, 9.82153773e-01],\n",
       "       [5.52461565e-01, 1.78905427e-01, 2.68633068e-01],\n",
       "       [2.66411938e-02, 1.80058349e-02, 9.55353022e-01],\n",
       "       [6.54577196e-01, 3.21129829e-01, 2.42929701e-02],\n",
       "       [3.57323214e-02, 4.36246255e-03, 9.59905207e-01],\n",
       "       [7.52030313e-01, 8.90560970e-02, 1.58913568e-01],\n",
       "       [7.18741736e-04, 5.10888398e-02, 9.48192418e-01],\n",
       "       [7.12349862e-02, 6.86909795e-01, 2.41855294e-01],\n",
       "       [8.74958634e-01, 1.19482152e-01, 5.55929495e-03],\n",
       "       [5.83780408e-02, 1.83154970e-01, 7.58466959e-01],\n",
       "       [2.05161735e-01, 2.90474087e-01, 5.04364192e-01],\n",
       "       [3.83262902e-01, 4.12476689e-01, 2.04260409e-01],\n",
       "       [4.49251026e-01, 5.33443213e-01, 1.73057634e-02],\n",
       "       [3.55600409e-04, 4.50195372e-02, 9.54624832e-01],\n",
       "       [5.00660658e-01, 4.52551872e-01, 4.67874222e-02],\n",
       "       [1.22115590e-01, 1.78456247e-01, 6.99428141e-01],\n",
       "       [8.89135117e-04, 1.77876756e-01, 8.21234107e-01],\n",
       "       [9.11017973e-03, 7.86457304e-03, 9.83025312e-01],\n",
       "       [9.69036520e-01, 2.76563540e-02, 3.30721540e-03],\n",
       "       [1.62924826e-01, 5.07235706e-01, 3.29839468e-01],\n",
       "       [7.25227594e-02, 8.92533660e-01, 3.49435285e-02],\n",
       "       [9.56075907e-01, 3.41555253e-02, 9.76864807e-03],\n",
       "       [4.45816249e-01, 2.90017575e-01, 2.64166147e-01],\n",
       "       [2.97256261e-02, 5.52702881e-02, 9.15004075e-01],\n",
       "       [8.27105165e-01, 1.52352289e-03, 1.71371341e-01],\n",
       "       [9.89819586e-01, 1.70558738e-03, 8.47480912e-03],\n",
       "       [1.06177322e-04, 2.06653737e-02, 9.79228497e-01],\n",
       "       [2.13468652e-02, 7.89322983e-03, 9.70759869e-01],\n",
       "       [8.37059692e-03, 1.02684677e-01, 8.88944745e-01],\n",
       "       [3.60485762e-01, 1.38097331e-01, 5.01416922e-01],\n",
       "       [8.17821383e-01, 1.62952632e-01, 1.92260072e-02],\n",
       "       [7.92493206e-03, 3.96586880e-02, 9.52416360e-01],\n",
       "       [1.56263247e-01, 7.33254433e-01, 1.10482365e-01],\n",
       "       [5.42795435e-02, 8.60232338e-02, 8.59697223e-01],\n",
       "       [5.71599901e-01, 3.55085403e-01, 7.33147413e-02],\n",
       "       [9.50245976e-01, 8.43244512e-03, 4.13216241e-02],\n",
       "       [7.04732898e-04, 1.18510090e-01, 8.80785227e-01],\n",
       "       [9.03537497e-02, 8.60931277e-01, 4.87149097e-02],\n",
       "       [2.60545224e-01, 7.09074557e-01, 3.03802360e-02],\n",
       "       [4.21495251e-02, 9.16792572e-01, 4.10579257e-02],\n",
       "       [6.39743346e-04, 6.56500533e-02, 9.33710277e-01],\n",
       "       [2.51150429e-02, 2.98711509e-01, 6.76173389e-01],\n",
       "       [1.76395297e-01, 7.64904201e-01, 5.87004907e-02],\n",
       "       [9.31774441e-04, 8.09802208e-03, 9.90970135e-01],\n",
       "       [1.06166847e-01, 2.86260635e-01, 6.07572496e-01],\n",
       "       [4.58311886e-01, 2.04363927e-01, 3.37324202e-01],\n",
       "       [8.42678244e-04, 7.79322907e-03, 9.91364121e-01],\n",
       "       [9.77303237e-02, 2.19172120e-01, 6.83097601e-01],\n",
       "       [7.82762051e-01, 1.63918100e-02, 2.00846121e-01],\n",
       "       [1.83768012e-02, 4.29115165e-03, 9.77332056e-01],\n",
       "       [9.95877504e-01, 1.24696479e-03, 2.87543936e-03],\n",
       "       [9.66917276e-01, 2.13396400e-02, 1.17429700e-02],\n",
       "       [2.16730669e-01, 6.36335552e-01, 1.46933734e-01],\n",
       "       [9.46089447e-01, 5.57602430e-03, 4.83345985e-02],\n",
       "       [1.52406422e-03, 2.33124848e-02, 9.75163519e-01],\n",
       "       [9.87010837e-01, 6.29017781e-03, 6.69905590e-03],\n",
       "       [6.67920887e-01, 1.24750197e-01, 2.07328916e-01],\n",
       "       [3.39223864e-03, 5.05490527e-02, 9.46058691e-01],\n",
       "       [2.39002094e-01, 7.60202765e-01, 7.95120082e-04],\n",
       "       [8.80305707e-01, 8.98080245e-02, 2.98863240e-02],\n",
       "       [5.18414855e-01, 2.09817782e-01, 2.71767288e-01],\n",
       "       [8.77100706e-01, 9.38928500e-03, 1.13510042e-01],\n",
       "       [1.58009395e-01, 8.32540393e-01, 9.45018511e-03],\n",
       "       [8.26694816e-03, 7.93251302e-03, 9.83800471e-01],\n",
       "       [2.24534288e-01, 5.97610652e-01, 1.77855089e-01],\n",
       "       [8.39019716e-01, 2.64064800e-02, 1.34573832e-01],\n",
       "       [4.13561344e-01, 5.72561324e-01, 1.38773350e-02],\n",
       "       [6.47345364e-01, 2.65262336e-01, 8.73922929e-02],\n",
       "       [4.99328434e-01, 2.92754024e-02, 4.71396178e-01],\n",
       "       [3.17086354e-02, 8.29267055e-02, 8.85364652e-01],\n",
       "       [1.09278038e-02, 8.42311047e-03, 9.80649114e-01],\n",
       "       [4.09706444e-01, 4.73942667e-01, 1.16350889e-01],\n",
       "       [9.46704997e-04, 1.23718730e-03, 9.97816086e-01],\n",
       "       [2.78670450e-05, 9.84584630e-01, 1.53875677e-02],\n",
       "       [4.98018533e-01, 4.17751223e-01, 8.42303336e-02],\n",
       "       [5.30645857e-03, 6.79673493e-01, 3.15020025e-01],\n",
       "       [7.39752967e-03, 1.24870189e-01, 8.67732227e-01],\n",
       "       [7.14787722e-01, 2.44450852e-01, 4.07613851e-02],\n",
       "       [8.59549761e-01, 5.43612288e-03, 1.35014117e-01],\n",
       "       [6.86190501e-02, 8.06542099e-01, 1.24838799e-01],\n",
       "       [2.04400226e-01, 2.96503484e-01, 4.99096364e-01],\n",
       "       [5.37250519e-01, 1.91392183e-01, 2.71357328e-01],\n",
       "       [8.44952404e-01, 1.48171514e-01, 6.87607005e-03],\n",
       "       [9.71067250e-01, 2.00221837e-02, 8.91047809e-03],\n",
       "       [6.40375763e-02, 1.08841872e-02, 9.25078273e-01],\n",
       "       [1.32180855e-03, 1.23612327e-03, 9.97442007e-01],\n",
       "       [4.35636938e-01, 1.21871665e-01, 4.42491412e-01],\n",
       "       [4.21741791e-02, 9.35482502e-01, 2.23433226e-02],\n",
       "       [1.00596003e-01, 6.19574971e-02, 8.37446511e-01],\n",
       "       [3.11086141e-03, 6.69809803e-02, 9.29908216e-01],\n",
       "       [8.63109171e-01, 3.21791731e-02, 1.04711719e-01],\n",
       "       [9.92101252e-01, 4.03420720e-03, 3.86447459e-03],\n",
       "       [6.21008873e-01, 9.82227772e-02, 2.80768335e-01],\n",
       "       [8.75713468e-01, 1.06311373e-01, 1.79752000e-02],\n",
       "       [9.41026032e-01, 8.84555560e-03, 5.01283929e-02],\n",
       "       [9.46913064e-01, 7.77501147e-03, 4.53119017e-02],\n",
       "       [1.26603529e-01, 7.06858560e-02, 8.02710652e-01],\n",
       "       [2.57543307e-02, 9.62541938e-01, 1.17037492e-02],\n",
       "       [2.09708419e-02, 5.32115817e-01, 4.46913272e-01],\n",
       "       [4.19088034e-03, 3.94091122e-02, 9.56399977e-01]], dtype=float32)"
      ]
     },
     "execution_count": 36,
     "metadata": {},
     "output_type": "execute_result"
    }
   ],
   "source": [
    "pred_prob"
   ]
  },
  {
   "cell_type": "code",
   "execution_count": 37,
   "metadata": {},
   "outputs": [],
   "source": [
    "n_classes = 3"
   ]
  },
  {
   "cell_type": "code",
   "execution_count": 38,
   "metadata": {},
   "outputs": [],
   "source": [
    "#Multiclass ROC curve\n",
    "from scipy import interp\n",
    "from sklearn.metrics import roc_auc_score"
   ]
  },
  {
   "cell_type": "code",
   "execution_count": 39,
   "metadata": {},
   "outputs": [],
   "source": [
    "from sklearn.metrics import roc_curve, auc"
   ]
  },
  {
   "cell_type": "code",
   "execution_count": 40,
   "metadata": {},
   "outputs": [],
   "source": [
    "# Compute ROC curve and ROC area for each class\n",
    "fpr = dict()\n",
    "tpr = dict()\n",
    "roc_auc = dict()\n",
    "for i in range(3):\n",
    "    fpr[i], tpr[i], _ = roc_curve(Y_test[:, i], pred_prob[:, i])\n",
    "    roc_auc[i] = auc(fpr[i], tpr[i])"
   ]
  },
  {
   "cell_type": "code",
   "execution_count": 41,
   "metadata": {},
   "outputs": [
    {
     "data": {
      "text/plain": [
       "{0: 0.9277990634312473, 1: 0.8214370971592264, 2: 0.9482600732600732}"
      ]
     },
     "execution_count": 41,
     "metadata": {},
     "output_type": "execute_result"
    }
   ],
   "source": [
    "roc_auc"
   ]
  },
  {
   "cell_type": "code",
   "execution_count": 42,
   "metadata": {},
   "outputs": [],
   "source": [
    "# Compute micro-average ROC curve and ROC area\n",
    "fpr[\"micro\"], tpr[\"micro\"], _ = roc_curve(Y_test.ravel(), pred_prob.ravel())\n",
    "roc_auc[\"micro\"] = auc(fpr[\"micro\"], tpr[\"micro\"])"
   ]
  },
  {
   "cell_type": "code",
   "execution_count": 43,
   "metadata": {},
   "outputs": [
    {
     "data": {
      "text/plain": [
       "{0: 0.9277990634312473,\n",
       " 1: 0.8214370971592264,\n",
       " 2: 0.9482600732600732,\n",
       " 'micro': 0.8870014535963245}"
      ]
     },
     "execution_count": 43,
     "metadata": {},
     "output_type": "execute_result"
    }
   ],
   "source": [
    "roc_auc"
   ]
  },
  {
   "cell_type": "code",
   "execution_count": 44,
   "metadata": {},
   "outputs": [],
   "source": [
    "#compute macro-average ROC curve and ROC area\n",
    "# First aggregate all false positive rates\n",
    "all_fpr = np.unique(np.concatenate([fpr[i] for i in range(n_classes)]))\n",
    "\n",
    "# Then interpolate all ROC curves at this points\n",
    "mean_tpr = np.zeros_like(all_fpr)\n",
    "for i in range(n_classes):\n",
    "    mean_tpr += np.interp(all_fpr, fpr[i], tpr[i])\n",
    "\n",
    "# Finally average it and compute AUC\n",
    "mean_tpr /= n_classes\n",
    "\n",
    "fpr[\"macro\"] = all_fpr\n",
    "tpr[\"macro\"] = mean_tpr\n",
    "roc_auc[\"macro\"] = auc(fpr[\"macro\"], tpr[\"macro\"])"
   ]
  },
  {
   "cell_type": "code",
   "execution_count": 45,
   "metadata": {},
   "outputs": [
    {
     "data": {
      "text/plain": [
       "{0: 0.9277990634312473,\n",
       " 1: 0.8214370971592264,\n",
       " 2: 0.9482600732600732,\n",
       " 'micro': 0.8870014535963245,\n",
       " 'macro': 0.9017227681055541}"
      ]
     },
     "execution_count": 45,
     "metadata": {},
     "output_type": "execute_result"
    }
   ],
   "source": [
    "roc_auc"
   ]
  },
  {
   "cell_type": "code",
   "execution_count": 46,
   "metadata": {},
   "outputs": [
    {
     "data": {
      "image/png": "[encoded data removed]",
      "text/plain": [
       "<Figure size 432x288 with 1 Axes>"
      ]
     },
     "metadata": {
      "needs_background": "light"
     },
     "output_type": "display_data"
    },
    {
     "data": {
      "text/plain": [
       "<Figure size 432x288 with 0 Axes>"
      ]
     },
     "metadata": {},
     "output_type": "display_data"
    }
   ],
   "source": [
    "from itertools import cycle\n",
    "# Plot all ROC curves\n",
    "lw = 2\n",
    "plt.figure()\n",
    "plt.plot(fpr[\"micro\"], tpr[\"micro\"],\n",
    "         label='micro-average ROC curve (area = {0:0.2f})'\n",
    "               ''.format(roc_auc[\"micro\"]),\n",
    "         color='deeppink', linestyle=':', linewidth=4)\n",
    "\n",
    "plt.plot(fpr[\"macro\"], tpr[\"macro\"],\n",
    "         label='macro-average ROC curve (area = {0:0.2f})'\n",
    "               ''.format(roc_auc[\"macro\"]),\n",
    "         color='navy', linestyle=':', linewidth=4)\n",
    "\n",
    "colors = cycle(['aqua', 'darkorange', 'cornflowerblue'])\n",
    "for i, color in zip(range(n_classes), colors):\n",
    "    plt.plot(fpr[i], tpr[i], color=color, lw=lw,\n",
    "             label='ROC curve of class {0} (area = {1:0.2f})'\n",
    "             ''.format(i, roc_auc[i]))\n",
    "\n",
    "plt.plot([0, 1], [0, 1], 'k--', lw=lw)\n",
    "plt.xlim([0.0, 1.0])\n",
    "plt.ylim([0.0, 1.05])\n",
    "plt.xlabel('False Positive Rate')\n",
    "plt.ylabel('True Positive Rate')\n",
    "plt.title('Receiver operating characteristic to multi-class')\n",
    "plt.legend(loc=\"lower right\")\n",
    "plt.show()\n",
    "plt.savefig('roc-vgg16.png')"
   ]
  },
  {
   "cell_type": "code",
   "execution_count": 47,
   "metadata": {},
   "outputs": [],
   "source": [
    "y_pred= np.argmax(pred_prob,axis=1)"
   ]
  },
  {
   "cell_type": "code",
   "execution_count": 48,
   "metadata": {},
   "outputs": [
    {
     "data": {
      "text/plain": [
       "array([0, 0, 1, 1, 2, 0, 2, 1, 2, 1, 1, 2, 2, 1, 2, 2, 2, 2, 0, 2, 0, 2,\n",
       "       2, 2, 1, 0, 1, 2, 2, 0, 2, 2, 0, 2, 1, 1, 1, 0, 0, 0, 2, 2, 0, 2,\n",
       "       2, 2, 0, 1, 0, 2, 0, 2, 1, 2, 0, 2, 0, 2, 0, 2, 1, 0, 0, 0, 1, 0,\n",
       "       0, 2, 2, 0, 2, 2, 2, 2, 0, 2, 0, 0, 1, 2, 2, 0, 2, 2, 0, 0, 0, 2,\n",
       "       0, 2, 2, 2, 2, 2, 2, 0, 2, 0, 0, 1, 1, 2, 0, 2, 2, 0, 2, 2, 1, 0,\n",
       "       0, 2, 0, 2, 2, 0, 2, 2, 0, 2, 0, 0, 0, 0, 1, 0, 0, 2, 0, 0, 2, 0,\n",
       "       0, 0, 2, 1, 2, 2, 0, 0, 2, 1, 2, 0, 2, 2, 2, 1, 1, 0, 2, 1, 2, 2,\n",
       "       0, 0, 0, 0, 0, 0, 1, 2, 0, 0, 2, 1, 2, 2, 0, 1, 2, 0, 0, 1, 0, 2,\n",
       "       2, 2, 0, 2, 0, 0, 0, 0, 2, 2, 2, 1, 2, 2, 2, 0, 0, 2, 0, 2, 2, 0,\n",
       "       2, 0, 2, 2, 1, 0, 2, 2, 0, 2, 0, 2, 0, 2, 0, 2, 1, 0, 2, 2, 1, 1,\n",
       "       2, 0, 2, 2, 2, 0, 1, 1, 0, 0, 2, 0, 0, 2, 2, 2, 2, 0, 2, 1, 2, 0,\n",
       "       0, 2, 1, 1, 1, 2, 2, 1, 2, 2, 0, 2, 2, 0, 2, 0, 0, 1, 0, 2, 0, 0,\n",
       "       2, 1, 0, 0, 0, 1, 2, 1, 0, 1, 0, 0, 2, 2, 1, 2, 1, 0, 1, 2, 0, 0,\n",
       "       1, 2, 0, 0, 0, 2, 2, 2, 1, 2, 2, 0, 0, 0, 0, 0, 0, 2, 1, 1, 2],\n",
       "      dtype=int64)"
      ]
     },
     "execution_count": 48,
     "metadata": {},
     "output_type": "execute_result"
    }
   ],
   "source": [
    "y_pred"
   ]
  },
  {
   "cell_type": "code",
   "execution_count": 49,
   "metadata": {},
   "outputs": [],
   "source": [
    "y_test = np.argmax(Y_test, axis=1)"
   ]
  },
  {
   "cell_type": "code",
   "execution_count": 50,
   "metadata": {},
   "outputs": [
    {
     "data": {
      "text/plain": [
       "array([0, 0, 0, 1, 1, 0, 2, 1, 0, 1, 1, 2, 0, 1, 2, 2, 2, 2, 0, 2, 0, 2,\n",
       "       2, 1, 1, 1, 0, 2, 2, 0, 1, 1, 0, 1, 1, 1, 0, 0, 0, 0, 1, 1, 0, 2,\n",
       "       2, 0, 0, 0, 0, 2, 0, 2, 1, 0, 0, 0, 0, 2, 0, 2, 1, 0, 0, 0, 0, 0,\n",
       "       0, 1, 2, 0, 1, 2, 2, 0, 0, 2, 0, 0, 0, 1, 2, 0, 2, 2, 0, 1, 0, 2,\n",
       "       0, 0, 2, 1, 2, 2, 2, 0, 0, 0, 0, 0, 1, 0, 0, 2, 2, 0, 2, 2, 0, 0,\n",
       "       1, 0, 0, 2, 1, 0, 2, 2, 0, 2, 1, 1, 0, 0, 1, 0, 0, 2, 0, 0, 2, 0,\n",
       "       0, 0, 2, 1, 2, 0, 0, 0, 2, 1, 2, 0, 2, 1, 2, 2, 0, 0, 1, 1, 1, 1,\n",
       "       0, 0, 1, 0, 0, 0, 0, 2, 0, 1, 2, 1, 2, 2, 1, 1, 2, 1, 0, 1, 0, 0,\n",
       "       1, 2, 0, 2, 0, 0, 0, 1, 2, 2, 2, 0, 2, 2, 0, 0, 0, 1, 0, 1, 2, 0,\n",
       "       2, 0, 0, 1, 1, 0, 0, 2, 0, 2, 0, 2, 0, 2, 1, 1, 1, 0, 0, 0, 1, 0,\n",
       "       2, 0, 1, 2, 2, 0, 0, 1, 0, 0, 2, 0, 0, 2, 1, 2, 0, 0, 2, 0, 2, 0,\n",
       "       0, 1, 1, 0, 0, 2, 1, 1, 2, 2, 0, 2, 1, 0, 0, 0, 0, 0, 0, 2, 0, 0,\n",
       "       2, 1, 0, 2, 0, 0, 1, 1, 0, 0, 0, 0, 2, 2, 0, 2, 2, 1, 2, 2, 1, 0,\n",
       "       1, 2, 0, 1, 0, 2, 2, 1, 1, 0, 2, 0, 0, 0, 0, 0, 0, 0, 1, 2, 2],\n",
       "      dtype=int64)"
      ]
     },
     "execution_count": 50,
     "metadata": {},
     "output_type": "execute_result"
    }
   ],
   "source": [
    "y_test "
   ]
  },
  {
   "cell_type": "code",
   "execution_count": 51,
   "metadata": {},
   "outputs": [],
   "source": [
    "from sklearn.metrics import accuracy_score\n",
    "from sklearn.metrics import precision_score\n",
    "from sklearn.metrics import recall_score\n",
    "from sklearn.metrics import f1_score\n",
    "from sklearn.metrics import cohen_kappa_score\n",
    "from sklearn.metrics import roc_auc_score\n",
    "from sklearn.metrics import confusion_matrix"
   ]
  },
  {
   "cell_type": "code",
   "execution_count": 52,
   "metadata": {},
   "outputs": [
    {
     "name": "stdout",
     "output_type": "stream",
     "text": [
      "Accuracy: 0.713355\n"
     ]
    }
   ],
   "source": [
    "# accuracy: (tp + tn) / (p + n)\n",
    "accuracy = accuracy_score(y_test, y_pred)\n",
    "print('Accuracy: %f' % accuracy)\n",
    "# precision tp / (tp + fp)"
   ]
  },
  {
   "cell_type": "code",
   "execution_count": 53,
   "metadata": {},
   "outputs": [],
   "source": [
    "# precision tp / (tp + fp)\n",
    "precision = precision_score(y_test, y_pred,average=None)\n",
    "#print('Precision: %f' % precision)"
   ]
  },
  {
   "cell_type": "code",
   "execution_count": 54,
   "metadata": {},
   "outputs": [
    {
     "data": {
      "text/plain": [
       "array([0.87394958, 0.54716981, 0.63703704])"
      ]
     },
     "execution_count": 54,
     "metadata": {},
     "output_type": "execute_result"
    }
   ],
   "source": [
    "precision"
   ]
  },
  {
   "cell_type": "code",
   "execution_count": 55,
   "metadata": {},
   "outputs": [],
   "source": [
    "# recall: tp / (tp + fn)\n",
    "recall = recall_score(y_test, y_pred, average = None)\n",
    "#print('Recall: %f' % recall)"
   ]
  },
  {
   "cell_type": "code",
   "execution_count": 56,
   "metadata": {},
   "outputs": [
    {
     "data": {
      "text/plain": [
       "array([0.71724138, 0.4084507 , 0.94505495])"
      ]
     },
     "execution_count": 56,
     "metadata": {},
     "output_type": "execute_result"
    }
   ],
   "source": [
    "recall"
   ]
  },
  {
   "cell_type": "code",
   "execution_count": 57,
   "metadata": {},
   "outputs": [],
   "source": [
    "# f1: 2 tp / (2 tp + fp + fn)\n",
    "f1 = f1_score(y_test, y_pred, average = None)\n",
    "#print('F1 score: %f' % f1)"
   ]
  },
  {
   "cell_type": "code",
   "execution_count": 58,
   "metadata": {},
   "outputs": [
    {
     "data": {
      "text/plain": [
       "array([0.78787879, 0.46774194, 0.76106195])"
      ]
     },
     "execution_count": 58,
     "metadata": {},
     "output_type": "execute_result"
    }
   ],
   "source": [
    "f1"
   ]
  },
  {
   "cell_type": "code",
   "execution_count": 59,
   "metadata": {},
   "outputs": [
    {
     "name": "stdout",
     "output_type": "stream",
     "text": [
      "[[104  20  21]\n",
      " [ 14  29  28]\n",
      " [  1   4  86]]\n"
     ]
    }
   ],
   "source": [
    "# confusion matrix\n",
    "matrix = confusion_matrix(y_test, y_pred)\n",
    "print(matrix)"
   ]
  },
  {
   "cell_type": "code",
   "execution_count": 48,
   "metadata": {},
   "outputs": [],
   "source": [
    "import pickle"
   ]
  },
  {
   "cell_type": "code",
   "execution_count": 49,
   "metadata": {},
   "outputs": [],
   "source": [
    "# save:\n",
    "#f = open('history-efficientnet-image-size-224-with-augmentation.pckl', 'wb')\n",
    "#pickle.dump(history.history, f)\n",
    "#f.close()"
   ]
  },
  {
   "cell_type": "code",
   "execution_count": 43,
   "metadata": {},
   "outputs": [],
   "source": [
    "# retrieve:    \n",
    "#f = open('history.pckl', 'rb')\n",
    "#history2 = pickle.load(f)\n",
    "#f.close()"
   ]
  },
  {
   "cell_type": "code",
   "execution_count": 44,
   "metadata": {},
   "outputs": [
    {
     "data": {
      "text/plain": [
       "False"
      ]
     },
     "execution_count": 44,
     "metadata": {},
     "output_type": "execute_result"
    }
   ],
   "source": [
    "#history == history2"
   ]
  },
  {
   "cell_type": "code",
   "execution_count": 45,
   "metadata": {},
   "outputs": [
    {
     "data": {
      "text/plain": [
       "True"
      ]
     },
     "execution_count": 45,
     "metadata": {},
     "output_type": "execute_result"
    }
   ],
   "source": [
    "#history.history == history2"
   ]
  },
  {
   "cell_type": "code",
   "execution_count": 46,
   "metadata": {},
   "outputs": [
    {
     "data": {
      "text/plain": [
       "[0.45955750346183777,\n",
       " 0.6238664984703064,\n",
       " 0.6851650476455688,\n",
       " 0.7319550514221191,\n",
       " 0.7461008429527283,\n",
       " 0.7627856135368347,\n",
       " 0.7733043432235718,\n",
       " 0.7947043776512146,\n",
       " 0.8012332320213318,\n",
       " 0.807399332523346,\n",
       " 0.8113892078399658,\n",
       " 0.815741777420044,\n",
       " 0.8258976936340332,\n",
       " 0.8233587145805359,\n",
       " 0.8251723051071167,\n",
       " 0.8371418118476868,\n",
       " 0.8338773846626282,\n",
       " 0.8349655270576477,\n",
       " 0.8487486243247986,\n",
       " 0.8472977876663208]"
      ]
     },
     "execution_count": 46,
     "metadata": {},
     "output_type": "execute_result"
    }
   ],
   "source": [
    "#history2['accuracy']"
   ]
  },
  {
   "cell_type": "code",
   "execution_count": null,
   "metadata": {},
   "outputs": [],
   "source": []
  }
 ],
 "metadata": {
  "kernelspec": {
   "display_name": "Python 3",
   "language": "python",
   "name": "python3"
  },
  "language_info": {
   "codemirror_mode": {
    "name": "ipython",
    "version": 3
   },
   "file_extension": ".py",
   "mimetype": "text/x-python",
   "name": "python",
   "nbconvert_exporter": "python",
   "pygments_lexer": "ipython3",
   "version": "3.8.3"
  }
 },
 "nbformat": 4,
 "nbformat_minor": 4
}
