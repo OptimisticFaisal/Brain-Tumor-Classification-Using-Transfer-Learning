{
 "cells": [
  {
   "cell_type": "code",
   "execution_count": 1,
   "metadata": {},
   "outputs": [],
   "source": [
    "import os\n",
    "import zipfile\n",
    "import numpy as np\n",
    "import pandas as pd\n",
    "import matplotlib.pyplot as plt\n",
    "import pickle\n",
    "import h5py\n",
    "import cv2"
   ]
  },
  {
   "cell_type": "code",
   "execution_count": 2,
   "metadata": {},
   "outputs": [],
   "source": [
    "import tensorflow as tf"
   ]
  },
  {
   "cell_type": "code",
   "execution_count": 3,
   "metadata": {},
   "outputs": [
    {
     "data": {
      "text/plain": [
       "'2.3.1'"
      ]
     },
     "execution_count": 3,
     "metadata": {},
     "output_type": "execute_result"
    }
   ],
   "source": [
    "tf.__version__"
   ]
  },
  {
   "cell_type": "code",
   "execution_count": 4,
   "metadata": {},
   "outputs": [],
   "source": [
    "from imutils import paths\n",
    "IMG_PATH = 'new dataset'\n",
    "images_path = list(paths.list_images(IMG_PATH))\n",
    "import os\n",
    "import cv2\n",
    "import numpy as np"
   ]
  },
  {
   "cell_type": "code",
   "execution_count": 5,
   "metadata": {},
   "outputs": [],
   "source": [
    "def load(path):\n",
    "    data = []\n",
    "    labels = []\n",
    "    # loop over the input image\n",
    "    for (i, imgpath) in enumerate(path):\n",
    "        gray_img = cv2.imread(imgpath)\n",
    "        image = cv2.cvtColor(gray_img, cv2.COLOR_BGR2RGB)\n",
    "        image = cv2.resize(image, (224, 224))\n",
    "        image = np.array(image)\n",
    "        label = imgpath.split(os.path.sep)[-2]\n",
    "        data.append(image)\n",
    "        labels.append(label)\n",
    "    # return a tuple of data and label\n",
    "    return data, labels"
   ]
  },
  {
   "cell_type": "code",
   "execution_count": 6,
   "metadata": {},
   "outputs": [],
   "source": [
    "image_list, label_list = load(images_path)"
   ]
  },
  {
   "cell_type": "code",
   "execution_count": 7,
   "metadata": {},
   "outputs": [
    {
     "data": {
      "text/plain": [
       "(224, 224, 3)"
      ]
     },
     "execution_count": 7,
     "metadata": {},
     "output_type": "execute_result"
    }
   ],
   "source": [
    "image_list[0].shape"
   ]
  },
  {
   "cell_type": "code",
   "execution_count": 8,
   "metadata": {},
   "outputs": [],
   "source": [
    "label_list_numerical = []\n",
    "for i in label_list:\n",
    "    if i == 'glioma':\n",
    "        label_list_numerical.append(2)\n",
    "    elif i == 'meningioma':\n",
    "        label_list_numerical.append(1)\n",
    "    elif i == 'pituitary':\n",
    "        label_list_numerical.append(3)"
   ]
  },
  {
   "cell_type": "code",
   "execution_count": 9,
   "metadata": {},
   "outputs": [],
   "source": [
    "from sklearn.preprocessing import LabelBinarizer\n",
    "lb = LabelBinarizer()\n",
    "label_list = lb.fit_transform(label_list)"
   ]
  },
  {
   "cell_type": "code",
   "execution_count": 10,
   "metadata": {},
   "outputs": [
    {
     "data": {
      "text/plain": [
       "array([1, 0, 0])"
      ]
     },
     "execution_count": 10,
     "metadata": {},
     "output_type": "execute_result"
    }
   ],
   "source": [
    "label_list[0]"
   ]
  },
  {
   "cell_type": "code",
   "execution_count": 11,
   "metadata": {},
   "outputs": [],
   "source": [
    "from sklearn.model_selection import train_test_split\n",
    "X_train, X_test, Y_train,Y_test = train_test_split(\n",
    "    image_list, \n",
    "    label_list,\n",
    "    test_size = 0.1,\n",
    "    random_state = 42)"
   ]
  },
  {
   "cell_type": "code",
   "execution_count": 12,
   "metadata": {},
   "outputs": [
    {
     "name": "stdout",
     "output_type": "stream",
     "text": [
      "2757\n",
      "2757\n"
     ]
    }
   ],
   "source": [
    "print(len(X_train))\n",
    "print(len(Y_train))"
   ]
  },
  {
   "cell_type": "code",
   "execution_count": 13,
   "metadata": {},
   "outputs": [],
   "source": [
    "import tensorflow as tf\n",
    "#process and batch the test data\n",
    "test_batch = tf.data.Dataset.from_tensor_slices((X_test, Y_test)).batch(16)"
   ]
  },
  {
   "cell_type": "code",
   "execution_count": 14,
   "metadata": {},
   "outputs": [],
   "source": [
    "tf.config.run_functions_eagerly(True)"
   ]
  },
  {
   "cell_type": "code",
   "execution_count": 15,
   "metadata": {},
   "outputs": [],
   "source": [
    "#process and batch the train data\n",
    "train_batch = tf.data.Dataset.from_tensor_slices((X_train, Y_train)).batch(16)"
   ]
  },
  {
   "cell_type": "code",
   "execution_count": 16,
   "metadata": {},
   "outputs": [],
   "source": [
    "#Use buffered prefetching to load images from disk without having I/O become blocking.\n",
    "AUTOTUNE = tf.data.experimental.AUTOTUNE\n",
    "\n",
    "train_dataset = train_batch.prefetch(buffer_size=AUTOTUNE)\n",
    "test_dataset = test_batch.prefetch(buffer_size=AUTOTUNE)"
   ]
  },
  {
   "cell_type": "code",
   "execution_count": 17,
   "metadata": {},
   "outputs": [],
   "source": [
    "preprocess_input = tf.keras.applications.efficientnet.preprocess_input"
   ]
  },
  {
   "cell_type": "code",
   "execution_count": 18,
   "metadata": {},
   "outputs": [],
   "source": [
    "from tensorflow.keras.layers.experimental import preprocessing\n",
    "from tensorflow.keras.models import Sequential\n",
    "img_augmentation = Sequential(\n",
    "    [\n",
    "        preprocessing.RandomRotation(factor=0.15),\n",
    "        preprocessing.RandomTranslation(height_factor=0.1, width_factor=0.1),\n",
    "        preprocessing.RandomFlip(),\n",
    "        preprocessing.RandomContrast(factor=0.1),\n",
    "    ],\n",
    "    name=\"img_augmentation\",\n",
    ")"
   ]
  },
  {
   "cell_type": "code",
   "execution_count": 19,
   "metadata": {},
   "outputs": [],
   "source": [
    "#IMG_SHAPE = image_list[0].shape\n",
    "base_model = tf.keras.applications.EfficientNetB0(input_shape=(224,224,3),\n",
    "                                               include_top=False,\n",
    "                                               weights='imagenet')"
   ]
  },
  {
   "cell_type": "code",
   "execution_count": 20,
   "metadata": {},
   "outputs": [
    {
     "name": "stdout",
     "output_type": "stream",
     "text": [
      "Model: \"efficientnetb0\"\n",
      "__________________________________________________________________________________________________\n",
      "Layer (type)                    Output Shape         Param #     Connected to                     \n",
      "==================================================================================================\n",
      "input_1 (InputLayer)            [(None, 224, 224, 3) 0                                            \n",
      "__________________________________________________________________________________________________\n",
      "rescaling (Rescaling)           (None, 224, 224, 3)  0           input_1[0][0]                    \n",
      "__________________________________________________________________________________________________\n",
      "normalization (Normalization)   (None, 224, 224, 3)  7           rescaling[0][0]                  \n",
      "__________________________________________________________________________________________________\n",
      "stem_conv_pad (ZeroPadding2D)   (None, 225, 225, 3)  0           normalization[0][0]              \n",
      "__________________________________________________________________________________________________\n",
      "stem_conv (Conv2D)              (None, 112, 112, 32) 864         stem_conv_pad[0][0]              \n",
      "__________________________________________________________________________________________________\n",
      "stem_bn (BatchNormalization)    (None, 112, 112, 32) 128         stem_conv[0][0]                  \n",
      "__________________________________________________________________________________________________\n",
      "stem_activation (Activation)    (None, 112, 112, 32) 0           stem_bn[0][0]                    \n",
      "__________________________________________________________________________________________________\n",
      "block1a_dwconv (DepthwiseConv2D (None, 112, 112, 32) 288         stem_activation[0][0]            \n",
      "__________________________________________________________________________________________________\n",
      "block1a_bn (BatchNormalization) (None, 112, 112, 32) 128         block1a_dwconv[0][0]             \n",
      "__________________________________________________________________________________________________\n",
      "block1a_activation (Activation) (None, 112, 112, 32) 0           block1a_bn[0][0]                 \n",
      "__________________________________________________________________________________________________\n",
      "block1a_se_squeeze (GlobalAvera (None, 32)           0           block1a_activation[0][0]         \n",
      "__________________________________________________________________________________________________\n",
      "block1a_se_reshape (Reshape)    (None, 1, 1, 32)     0           block1a_se_squeeze[0][0]         \n",
      "__________________________________________________________________________________________________\n",
      "block1a_se_reduce (Conv2D)      (None, 1, 1, 8)      264         block1a_se_reshape[0][0]         \n",
      "__________________________________________________________________________________________________\n",
      "block1a_se_expand (Conv2D)      (None, 1, 1, 32)     288         block1a_se_reduce[0][0]          \n",
      "__________________________________________________________________________________________________\n",
      "block1a_se_excite (Multiply)    (None, 112, 112, 32) 0           block1a_activation[0][0]         \n",
      "                                                                 block1a_se_expand[0][0]          \n",
      "__________________________________________________________________________________________________\n",
      "block1a_project_conv (Conv2D)   (None, 112, 112, 16) 512         block1a_se_excite[0][0]          \n",
      "__________________________________________________________________________________________________\n",
      "block1a_project_bn (BatchNormal (None, 112, 112, 16) 64          block1a_project_conv[0][0]       \n",
      "__________________________________________________________________________________________________\n",
      "block2a_expand_conv (Conv2D)    (None, 112, 112, 96) 1536        block1a_project_bn[0][0]         \n",
      "__________________________________________________________________________________________________\n",
      "block2a_expand_bn (BatchNormali (None, 112, 112, 96) 384         block2a_expand_conv[0][0]        \n",
      "__________________________________________________________________________________________________\n",
      "block2a_expand_activation (Acti (None, 112, 112, 96) 0           block2a_expand_bn[0][0]          \n",
      "__________________________________________________________________________________________________\n",
      "block2a_dwconv_pad (ZeroPadding (None, 113, 113, 96) 0           block2a_expand_activation[0][0]  \n",
      "__________________________________________________________________________________________________\n",
      "block2a_dwconv (DepthwiseConv2D (None, 56, 56, 96)   864         block2a_dwconv_pad[0][0]         \n",
      "__________________________________________________________________________________________________\n",
      "block2a_bn (BatchNormalization) (None, 56, 56, 96)   384         block2a_dwconv[0][0]             \n",
      "__________________________________________________________________________________________________\n",
      "block2a_activation (Activation) (None, 56, 56, 96)   0           block2a_bn[0][0]                 \n",
      "__________________________________________________________________________________________________\n",
      "block2a_se_squeeze (GlobalAvera (None, 96)           0           block2a_activation[0][0]         \n",
      "__________________________________________________________________________________________________\n",
      "block2a_se_reshape (Reshape)    (None, 1, 1, 96)     0           block2a_se_squeeze[0][0]         \n",
      "__________________________________________________________________________________________________\n",
      "block2a_se_reduce (Conv2D)      (None, 1, 1, 4)      388         block2a_se_reshape[0][0]         \n",
      "__________________________________________________________________________________________________\n",
      "block2a_se_expand (Conv2D)      (None, 1, 1, 96)     480         block2a_se_reduce[0][0]          \n",
      "__________________________________________________________________________________________________\n",
      "block2a_se_excite (Multiply)    (None, 56, 56, 96)   0           block2a_activation[0][0]         \n",
      "                                                                 block2a_se_expand[0][0]          \n",
      "__________________________________________________________________________________________________\n",
      "block2a_project_conv (Conv2D)   (None, 56, 56, 24)   2304        block2a_se_excite[0][0]          \n",
      "__________________________________________________________________________________________________\n",
      "block2a_project_bn (BatchNormal (None, 56, 56, 24)   96          block2a_project_conv[0][0]       \n",
      "__________________________________________________________________________________________________\n",
      "block2b_expand_conv (Conv2D)    (None, 56, 56, 144)  3456        block2a_project_bn[0][0]         \n",
      "__________________________________________________________________________________________________\n",
      "block2b_expand_bn (BatchNormali (None, 56, 56, 144)  576         block2b_expand_conv[0][0]        \n",
      "__________________________________________________________________________________________________\n",
      "block2b_expand_activation (Acti (None, 56, 56, 144)  0           block2b_expand_bn[0][0]          \n",
      "__________________________________________________________________________________________________\n",
      "block2b_dwconv (DepthwiseConv2D (None, 56, 56, 144)  1296        block2b_expand_activation[0][0]  \n",
      "__________________________________________________________________________________________________\n",
      "block2b_bn (BatchNormalization) (None, 56, 56, 144)  576         block2b_dwconv[0][0]             \n",
      "__________________________________________________________________________________________________\n",
      "block2b_activation (Activation) (None, 56, 56, 144)  0           block2b_bn[0][0]                 \n",
      "__________________________________________________________________________________________________\n",
      "block2b_se_squeeze (GlobalAvera (None, 144)          0           block2b_activation[0][0]         \n",
      "__________________________________________________________________________________________________\n",
      "block2b_se_reshape (Reshape)    (None, 1, 1, 144)    0           block2b_se_squeeze[0][0]         \n",
      "__________________________________________________________________________________________________\n",
      "block2b_se_reduce (Conv2D)      (None, 1, 1, 6)      870         block2b_se_reshape[0][0]         \n",
      "__________________________________________________________________________________________________\n",
      "block2b_se_expand (Conv2D)      (None, 1, 1, 144)    1008        block2b_se_reduce[0][0]          \n",
      "__________________________________________________________________________________________________\n",
      "block2b_se_excite (Multiply)    (None, 56, 56, 144)  0           block2b_activation[0][0]         \n",
      "                                                                 block2b_se_expand[0][0]          \n",
      "__________________________________________________________________________________________________\n",
      "block2b_project_conv (Conv2D)   (None, 56, 56, 24)   3456        block2b_se_excite[0][0]          \n",
      "__________________________________________________________________________________________________\n",
      "block2b_project_bn (BatchNormal (None, 56, 56, 24)   96          block2b_project_conv[0][0]       \n",
      "__________________________________________________________________________________________________\n",
      "block2b_drop (Dropout)          (None, 56, 56, 24)   0           block2b_project_bn[0][0]         \n",
      "__________________________________________________________________________________________________\n",
      "block2b_add (Add)               (None, 56, 56, 24)   0           block2b_drop[0][0]               \n",
      "                                                                 block2a_project_bn[0][0]         \n",
      "__________________________________________________________________________________________________\n",
      "block3a_expand_conv (Conv2D)    (None, 56, 56, 144)  3456        block2b_add[0][0]                \n",
      "__________________________________________________________________________________________________\n",
      "block3a_expand_bn (BatchNormali (None, 56, 56, 144)  576         block3a_expand_conv[0][0]        \n",
      "__________________________________________________________________________________________________\n",
      "block3a_expand_activation (Acti (None, 56, 56, 144)  0           block3a_expand_bn[0][0]          \n",
      "__________________________________________________________________________________________________\n",
      "block3a_dwconv_pad (ZeroPadding (None, 59, 59, 144)  0           block3a_expand_activation[0][0]  \n",
      "__________________________________________________________________________________________________\n",
      "block3a_dwconv (DepthwiseConv2D (None, 28, 28, 144)  3600        block3a_dwconv_pad[0][0]         \n",
      "__________________________________________________________________________________________________\n",
      "block3a_bn (BatchNormalization) (None, 28, 28, 144)  576         block3a_dwconv[0][0]             \n",
      "__________________________________________________________________________________________________\n",
      "block3a_activation (Activation) (None, 28, 28, 144)  0           block3a_bn[0][0]                 \n",
      "__________________________________________________________________________________________________\n",
      "block3a_se_squeeze (GlobalAvera (None, 144)          0           block3a_activation[0][0]         \n",
      "__________________________________________________________________________________________________\n",
      "block3a_se_reshape (Reshape)    (None, 1, 1, 144)    0           block3a_se_squeeze[0][0]         \n",
      "__________________________________________________________________________________________________\n",
      "block3a_se_reduce (Conv2D)      (None, 1, 1, 6)      870         block3a_se_reshape[0][0]         \n",
      "__________________________________________________________________________________________________\n",
      "block3a_se_expand (Conv2D)      (None, 1, 1, 144)    1008        block3a_se_reduce[0][0]          \n",
      "__________________________________________________________________________________________________\n",
      "block3a_se_excite (Multiply)    (None, 28, 28, 144)  0           block3a_activation[0][0]         \n",
      "                                                                 block3a_se_expand[0][0]          \n",
      "__________________________________________________________________________________________________\n",
      "block3a_project_conv (Conv2D)   (None, 28, 28, 40)   5760        block3a_se_excite[0][0]          \n",
      "__________________________________________________________________________________________________\n",
      "block3a_project_bn (BatchNormal (None, 28, 28, 40)   160         block3a_project_conv[0][0]       \n",
      "__________________________________________________________________________________________________\n",
      "block3b_expand_conv (Conv2D)    (None, 28, 28, 240)  9600        block3a_project_bn[0][0]         \n",
      "__________________________________________________________________________________________________\n",
      "block3b_expand_bn (BatchNormali (None, 28, 28, 240)  960         block3b_expand_conv[0][0]        \n",
      "__________________________________________________________________________________________________\n",
      "block3b_expand_activation (Acti (None, 28, 28, 240)  0           block3b_expand_bn[0][0]          \n",
      "__________________________________________________________________________________________________\n",
      "block3b_dwconv (DepthwiseConv2D (None, 28, 28, 240)  6000        block3b_expand_activation[0][0]  \n",
      "__________________________________________________________________________________________________\n",
      "block3b_bn (BatchNormalization) (None, 28, 28, 240)  960         block3b_dwconv[0][0]             \n",
      "__________________________________________________________________________________________________\n",
      "block3b_activation (Activation) (None, 28, 28, 240)  0           block3b_bn[0][0]                 \n",
      "__________________________________________________________________________________________________\n",
      "block3b_se_squeeze (GlobalAvera (None, 240)          0           block3b_activation[0][0]         \n",
      "__________________________________________________________________________________________________\n",
      "block3b_se_reshape (Reshape)    (None, 1, 1, 240)    0           block3b_se_squeeze[0][0]         \n",
      "__________________________________________________________________________________________________\n",
      "block3b_se_reduce (Conv2D)      (None, 1, 1, 10)     2410        block3b_se_reshape[0][0]         \n",
      "__________________________________________________________________________________________________\n",
      "block3b_se_expand (Conv2D)      (None, 1, 1, 240)    2640        block3b_se_reduce[0][0]          \n",
      "__________________________________________________________________________________________________\n",
      "block3b_se_excite (Multiply)    (None, 28, 28, 240)  0           block3b_activation[0][0]         \n",
      "                                                                 block3b_se_expand[0][0]          \n",
      "__________________________________________________________________________________________________\n",
      "block3b_project_conv (Conv2D)   (None, 28, 28, 40)   9600        block3b_se_excite[0][0]          \n",
      "__________________________________________________________________________________________________\n",
      "block3b_project_bn (BatchNormal (None, 28, 28, 40)   160         block3b_project_conv[0][0]       \n",
      "__________________________________________________________________________________________________\n",
      "block3b_drop (Dropout)          (None, 28, 28, 40)   0           block3b_project_bn[0][0]         \n",
      "__________________________________________________________________________________________________\n",
      "block3b_add (Add)               (None, 28, 28, 40)   0           block3b_drop[0][0]               \n",
      "                                                                 block3a_project_bn[0][0]         \n",
      "__________________________________________________________________________________________________\n",
      "block4a_expand_conv (Conv2D)    (None, 28, 28, 240)  9600        block3b_add[0][0]                \n",
      "__________________________________________________________________________________________________\n",
      "block4a_expand_bn (BatchNormali (None, 28, 28, 240)  960         block4a_expand_conv[0][0]        \n",
      "__________________________________________________________________________________________________\n",
      "block4a_expand_activation (Acti (None, 28, 28, 240)  0           block4a_expand_bn[0][0]          \n",
      "__________________________________________________________________________________________________\n",
      "block4a_dwconv_pad (ZeroPadding (None, 29, 29, 240)  0           block4a_expand_activation[0][0]  \n",
      "__________________________________________________________________________________________________\n",
      "block4a_dwconv (DepthwiseConv2D (None, 14, 14, 240)  2160        block4a_dwconv_pad[0][0]         \n",
      "__________________________________________________________________________________________________\n",
      "block4a_bn (BatchNormalization) (None, 14, 14, 240)  960         block4a_dwconv[0][0]             \n",
      "__________________________________________________________________________________________________\n",
      "block4a_activation (Activation) (None, 14, 14, 240)  0           block4a_bn[0][0]                 \n",
      "__________________________________________________________________________________________________\n",
      "block4a_se_squeeze (GlobalAvera (None, 240)          0           block4a_activation[0][0]         \n",
      "__________________________________________________________________________________________________\n",
      "block4a_se_reshape (Reshape)    (None, 1, 1, 240)    0           block4a_se_squeeze[0][0]         \n",
      "__________________________________________________________________________________________________\n",
      "block4a_se_reduce (Conv2D)      (None, 1, 1, 10)     2410        block4a_se_reshape[0][0]         \n",
      "__________________________________________________________________________________________________\n",
      "block4a_se_expand (Conv2D)      (None, 1, 1, 240)    2640        block4a_se_reduce[0][0]          \n",
      "__________________________________________________________________________________________________\n",
      "block4a_se_excite (Multiply)    (None, 14, 14, 240)  0           block4a_activation[0][0]         \n",
      "                                                                 block4a_se_expand[0][0]          \n",
      "__________________________________________________________________________________________________\n",
      "block4a_project_conv (Conv2D)   (None, 14, 14, 80)   19200       block4a_se_excite[0][0]          \n",
      "__________________________________________________________________________________________________\n",
      "block4a_project_bn (BatchNormal (None, 14, 14, 80)   320         block4a_project_conv[0][0]       \n",
      "__________________________________________________________________________________________________\n",
      "block4b_expand_conv (Conv2D)    (None, 14, 14, 480)  38400       block4a_project_bn[0][0]         \n",
      "__________________________________________________________________________________________________\n",
      "block4b_expand_bn (BatchNormali (None, 14, 14, 480)  1920        block4b_expand_conv[0][0]        \n",
      "__________________________________________________________________________________________________\n",
      "block4b_expand_activation (Acti (None, 14, 14, 480)  0           block4b_expand_bn[0][0]          \n",
      "__________________________________________________________________________________________________\n",
      "block4b_dwconv (DepthwiseConv2D (None, 14, 14, 480)  4320        block4b_expand_activation[0][0]  \n",
      "__________________________________________________________________________________________________\n",
      "block4b_bn (BatchNormalization) (None, 14, 14, 480)  1920        block4b_dwconv[0][0]             \n",
      "__________________________________________________________________________________________________\n",
      "block4b_activation (Activation) (None, 14, 14, 480)  0           block4b_bn[0][0]                 \n",
      "__________________________________________________________________________________________________\n",
      "block4b_se_squeeze (GlobalAvera (None, 480)          0           block4b_activation[0][0]         \n",
      "__________________________________________________________________________________________________\n",
      "block4b_se_reshape (Reshape)    (None, 1, 1, 480)    0           block4b_se_squeeze[0][0]         \n",
      "__________________________________________________________________________________________________\n",
      "block4b_se_reduce (Conv2D)      (None, 1, 1, 20)     9620        block4b_se_reshape[0][0]         \n",
      "__________________________________________________________________________________________________\n",
      "block4b_se_expand (Conv2D)      (None, 1, 1, 480)    10080       block4b_se_reduce[0][0]          \n",
      "__________________________________________________________________________________________________\n",
      "block4b_se_excite (Multiply)    (None, 14, 14, 480)  0           block4b_activation[0][0]         \n",
      "                                                                 block4b_se_expand[0][0]          \n",
      "__________________________________________________________________________________________________\n",
      "block4b_project_conv (Conv2D)   (None, 14, 14, 80)   38400       block4b_se_excite[0][0]          \n",
      "__________________________________________________________________________________________________\n",
      "block4b_project_bn (BatchNormal (None, 14, 14, 80)   320         block4b_project_conv[0][0]       \n",
      "__________________________________________________________________________________________________\n",
      "block4b_drop (Dropout)          (None, 14, 14, 80)   0           block4b_project_bn[0][0]         \n",
      "__________________________________________________________________________________________________\n",
      "block4b_add (Add)               (None, 14, 14, 80)   0           block4b_drop[0][0]               \n",
      "                                                                 block4a_project_bn[0][0]         \n",
      "__________________________________________________________________________________________________\n",
      "block4c_expand_conv (Conv2D)    (None, 14, 14, 480)  38400       block4b_add[0][0]                \n",
      "__________________________________________________________________________________________________\n",
      "block4c_expand_bn (BatchNormali (None, 14, 14, 480)  1920        block4c_expand_conv[0][0]        \n",
      "__________________________________________________________________________________________________\n",
      "block4c_expand_activation (Acti (None, 14, 14, 480)  0           block4c_expand_bn[0][0]          \n",
      "__________________________________________________________________________________________________\n",
      "block4c_dwconv (DepthwiseConv2D (None, 14, 14, 480)  4320        block4c_expand_activation[0][0]  \n",
      "__________________________________________________________________________________________________\n",
      "block4c_bn (BatchNormalization) (None, 14, 14, 480)  1920        block4c_dwconv[0][0]             \n",
      "__________________________________________________________________________________________________\n",
      "block4c_activation (Activation) (None, 14, 14, 480)  0           block4c_bn[0][0]                 \n",
      "__________________________________________________________________________________________________\n",
      "block4c_se_squeeze (GlobalAvera (None, 480)          0           block4c_activation[0][0]         \n",
      "__________________________________________________________________________________________________\n",
      "block4c_se_reshape (Reshape)    (None, 1, 1, 480)    0           block4c_se_squeeze[0][0]         \n",
      "__________________________________________________________________________________________________\n",
      "block4c_se_reduce (Conv2D)      (None, 1, 1, 20)     9620        block4c_se_reshape[0][0]         \n",
      "__________________________________________________________________________________________________\n",
      "block4c_se_expand (Conv2D)      (None, 1, 1, 480)    10080       block4c_se_reduce[0][0]          \n",
      "__________________________________________________________________________________________________\n",
      "block4c_se_excite (Multiply)    (None, 14, 14, 480)  0           block4c_activation[0][0]         \n",
      "                                                                 block4c_se_expand[0][0]          \n",
      "__________________________________________________________________________________________________\n",
      "block4c_project_conv (Conv2D)   (None, 14, 14, 80)   38400       block4c_se_excite[0][0]          \n",
      "__________________________________________________________________________________________________\n",
      "block4c_project_bn (BatchNormal (None, 14, 14, 80)   320         block4c_project_conv[0][0]       \n",
      "__________________________________________________________________________________________________\n",
      "block4c_drop (Dropout)          (None, 14, 14, 80)   0           block4c_project_bn[0][0]         \n",
      "__________________________________________________________________________________________________\n",
      "block4c_add (Add)               (None, 14, 14, 80)   0           block4c_drop[0][0]               \n",
      "                                                                 block4b_add[0][0]                \n",
      "__________________________________________________________________________________________________\n",
      "block5a_expand_conv (Conv2D)    (None, 14, 14, 480)  38400       block4c_add[0][0]                \n",
      "__________________________________________________________________________________________________\n",
      "block5a_expand_bn (BatchNormali (None, 14, 14, 480)  1920        block5a_expand_conv[0][0]        \n",
      "__________________________________________________________________________________________________\n",
      "block5a_expand_activation (Acti (None, 14, 14, 480)  0           block5a_expand_bn[0][0]          \n",
      "__________________________________________________________________________________________________\n",
      "block5a_dwconv (DepthwiseConv2D (None, 14, 14, 480)  12000       block5a_expand_activation[0][0]  \n",
      "__________________________________________________________________________________________________\n",
      "block5a_bn (BatchNormalization) (None, 14, 14, 480)  1920        block5a_dwconv[0][0]             \n",
      "__________________________________________________________________________________________________\n",
      "block5a_activation (Activation) (None, 14, 14, 480)  0           block5a_bn[0][0]                 \n",
      "__________________________________________________________________________________________________\n",
      "block5a_se_squeeze (GlobalAvera (None, 480)          0           block5a_activation[0][0]         \n",
      "__________________________________________________________________________________________________\n",
      "block5a_se_reshape (Reshape)    (None, 1, 1, 480)    0           block5a_se_squeeze[0][0]         \n",
      "__________________________________________________________________________________________________\n",
      "block5a_se_reduce (Conv2D)      (None, 1, 1, 20)     9620        block5a_se_reshape[0][0]         \n",
      "__________________________________________________________________________________________________\n",
      "block5a_se_expand (Conv2D)      (None, 1, 1, 480)    10080       block5a_se_reduce[0][0]          \n",
      "__________________________________________________________________________________________________\n",
      "block5a_se_excite (Multiply)    (None, 14, 14, 480)  0           block5a_activation[0][0]         \n",
      "                                                                 block5a_se_expand[0][0]          \n",
      "__________________________________________________________________________________________________\n",
      "block5a_project_conv (Conv2D)   (None, 14, 14, 112)  53760       block5a_se_excite[0][0]          \n",
      "__________________________________________________________________________________________________\n",
      "block5a_project_bn (BatchNormal (None, 14, 14, 112)  448         block5a_project_conv[0][0]       \n",
      "__________________________________________________________________________________________________\n",
      "block5b_expand_conv (Conv2D)    (None, 14, 14, 672)  75264       block5a_project_bn[0][0]         \n",
      "__________________________________________________________________________________________________\n",
      "block5b_expand_bn (BatchNormali (None, 14, 14, 672)  2688        block5b_expand_conv[0][0]        \n",
      "__________________________________________________________________________________________________\n",
      "block5b_expand_activation (Acti (None, 14, 14, 672)  0           block5b_expand_bn[0][0]          \n",
      "__________________________________________________________________________________________________\n",
      "block5b_dwconv (DepthwiseConv2D (None, 14, 14, 672)  16800       block5b_expand_activation[0][0]  \n",
      "__________________________________________________________________________________________________\n",
      "block5b_bn (BatchNormalization) (None, 14, 14, 672)  2688        block5b_dwconv[0][0]             \n",
      "__________________________________________________________________________________________________\n",
      "block5b_activation (Activation) (None, 14, 14, 672)  0           block5b_bn[0][0]                 \n",
      "__________________________________________________________________________________________________\n",
      "block5b_se_squeeze (GlobalAvera (None, 672)          0           block5b_activation[0][0]         \n",
      "__________________________________________________________________________________________________\n",
      "block5b_se_reshape (Reshape)    (None, 1, 1, 672)    0           block5b_se_squeeze[0][0]         \n",
      "__________________________________________________________________________________________________\n",
      "block5b_se_reduce (Conv2D)      (None, 1, 1, 28)     18844       block5b_se_reshape[0][0]         \n",
      "__________________________________________________________________________________________________\n",
      "block5b_se_expand (Conv2D)      (None, 1, 1, 672)    19488       block5b_se_reduce[0][0]          \n",
      "__________________________________________________________________________________________________\n",
      "block5b_se_excite (Multiply)    (None, 14, 14, 672)  0           block5b_activation[0][0]         \n",
      "                                                                 block5b_se_expand[0][0]          \n",
      "__________________________________________________________________________________________________\n",
      "block5b_project_conv (Conv2D)   (None, 14, 14, 112)  75264       block5b_se_excite[0][0]          \n",
      "__________________________________________________________________________________________________\n",
      "block5b_project_bn (BatchNormal (None, 14, 14, 112)  448         block5b_project_conv[0][0]       \n",
      "__________________________________________________________________________________________________\n",
      "block5b_drop (Dropout)          (None, 14, 14, 112)  0           block5b_project_bn[0][0]         \n",
      "__________________________________________________________________________________________________\n",
      "block5b_add (Add)               (None, 14, 14, 112)  0           block5b_drop[0][0]               \n",
      "                                                                 block5a_project_bn[0][0]         \n",
      "__________________________________________________________________________________________________\n",
      "block5c_expand_conv (Conv2D)    (None, 14, 14, 672)  75264       block5b_add[0][0]                \n",
      "__________________________________________________________________________________________________\n",
      "block5c_expand_bn (BatchNormali (None, 14, 14, 672)  2688        block5c_expand_conv[0][0]        \n",
      "__________________________________________________________________________________________________\n",
      "block5c_expand_activation (Acti (None, 14, 14, 672)  0           block5c_expand_bn[0][0]          \n",
      "__________________________________________________________________________________________________\n",
      "block5c_dwconv (DepthwiseConv2D (None, 14, 14, 672)  16800       block5c_expand_activation[0][0]  \n",
      "__________________________________________________________________________________________________\n",
      "block5c_bn (BatchNormalization) (None, 14, 14, 672)  2688        block5c_dwconv[0][0]             \n",
      "__________________________________________________________________________________________________\n",
      "block5c_activation (Activation) (None, 14, 14, 672)  0           block5c_bn[0][0]                 \n",
      "__________________________________________________________________________________________________\n",
      "block5c_se_squeeze (GlobalAvera (None, 672)          0           block5c_activation[0][0]         \n",
      "__________________________________________________________________________________________________\n",
      "block5c_se_reshape (Reshape)    (None, 1, 1, 672)    0           block5c_se_squeeze[0][0]         \n",
      "__________________________________________________________________________________________________\n",
      "block5c_se_reduce (Conv2D)      (None, 1, 1, 28)     18844       block5c_se_reshape[0][0]         \n",
      "__________________________________________________________________________________________________\n",
      "block5c_se_expand (Conv2D)      (None, 1, 1, 672)    19488       block5c_se_reduce[0][0]          \n",
      "__________________________________________________________________________________________________\n",
      "block5c_se_excite (Multiply)    (None, 14, 14, 672)  0           block5c_activation[0][0]         \n",
      "                                                                 block5c_se_expand[0][0]          \n",
      "__________________________________________________________________________________________________\n",
      "block5c_project_conv (Conv2D)   (None, 14, 14, 112)  75264       block5c_se_excite[0][0]          \n",
      "__________________________________________________________________________________________________\n",
      "block5c_project_bn (BatchNormal (None, 14, 14, 112)  448         block5c_project_conv[0][0]       \n",
      "__________________________________________________________________________________________________\n",
      "block5c_drop (Dropout)          (None, 14, 14, 112)  0           block5c_project_bn[0][0]         \n",
      "__________________________________________________________________________________________________\n",
      "block5c_add (Add)               (None, 14, 14, 112)  0           block5c_drop[0][0]               \n",
      "                                                                 block5b_add[0][0]                \n",
      "__________________________________________________________________________________________________\n",
      "block6a_expand_conv (Conv2D)    (None, 14, 14, 672)  75264       block5c_add[0][0]                \n",
      "__________________________________________________________________________________________________\n",
      "block6a_expand_bn (BatchNormali (None, 14, 14, 672)  2688        block6a_expand_conv[0][0]        \n",
      "__________________________________________________________________________________________________\n",
      "block6a_expand_activation (Acti (None, 14, 14, 672)  0           block6a_expand_bn[0][0]          \n",
      "__________________________________________________________________________________________________\n",
      "block6a_dwconv_pad (ZeroPadding (None, 17, 17, 672)  0           block6a_expand_activation[0][0]  \n",
      "__________________________________________________________________________________________________\n",
      "block6a_dwconv (DepthwiseConv2D (None, 7, 7, 672)    16800       block6a_dwconv_pad[0][0]         \n",
      "__________________________________________________________________________________________________\n",
      "block6a_bn (BatchNormalization) (None, 7, 7, 672)    2688        block6a_dwconv[0][0]             \n",
      "__________________________________________________________________________________________________\n",
      "block6a_activation (Activation) (None, 7, 7, 672)    0           block6a_bn[0][0]                 \n",
      "__________________________________________________________________________________________________\n",
      "block6a_se_squeeze (GlobalAvera (None, 672)          0           block6a_activation[0][0]         \n",
      "__________________________________________________________________________________________________\n",
      "block6a_se_reshape (Reshape)    (None, 1, 1, 672)    0           block6a_se_squeeze[0][0]         \n",
      "__________________________________________________________________________________________________\n",
      "block6a_se_reduce (Conv2D)      (None, 1, 1, 28)     18844       block6a_se_reshape[0][0]         \n",
      "__________________________________________________________________________________________________\n",
      "block6a_se_expand (Conv2D)      (None, 1, 1, 672)    19488       block6a_se_reduce[0][0]          \n",
      "__________________________________________________________________________________________________\n",
      "block6a_se_excite (Multiply)    (None, 7, 7, 672)    0           block6a_activation[0][0]         \n",
      "                                                                 block6a_se_expand[0][0]          \n",
      "__________________________________________________________________________________________________\n",
      "block6a_project_conv (Conv2D)   (None, 7, 7, 192)    129024      block6a_se_excite[0][0]          \n",
      "__________________________________________________________________________________________________\n",
      "block6a_project_bn (BatchNormal (None, 7, 7, 192)    768         block6a_project_conv[0][0]       \n",
      "__________________________________________________________________________________________________\n",
      "block6b_expand_conv (Conv2D)    (None, 7, 7, 1152)   221184      block6a_project_bn[0][0]         \n",
      "__________________________________________________________________________________________________\n",
      "block6b_expand_bn (BatchNormali (None, 7, 7, 1152)   4608        block6b_expand_conv[0][0]        \n",
      "__________________________________________________________________________________________________\n",
      "block6b_expand_activation (Acti (None, 7, 7, 1152)   0           block6b_expand_bn[0][0]          \n",
      "__________________________________________________________________________________________________\n",
      "block6b_dwconv (DepthwiseConv2D (None, 7, 7, 1152)   28800       block6b_expand_activation[0][0]  \n",
      "__________________________________________________________________________________________________\n",
      "block6b_bn (BatchNormalization) (None, 7, 7, 1152)   4608        block6b_dwconv[0][0]             \n",
      "__________________________________________________________________________________________________\n",
      "block6b_activation (Activation) (None, 7, 7, 1152)   0           block6b_bn[0][0]                 \n",
      "__________________________________________________________________________________________________\n",
      "block6b_se_squeeze (GlobalAvera (None, 1152)         0           block6b_activation[0][0]         \n",
      "__________________________________________________________________________________________________\n",
      "block6b_se_reshape (Reshape)    (None, 1, 1, 1152)   0           block6b_se_squeeze[0][0]         \n",
      "__________________________________________________________________________________________________\n",
      "block6b_se_reduce (Conv2D)      (None, 1, 1, 48)     55344       block6b_se_reshape[0][0]         \n",
      "__________________________________________________________________________________________________\n",
      "block6b_se_expand (Conv2D)      (None, 1, 1, 1152)   56448       block6b_se_reduce[0][0]          \n",
      "__________________________________________________________________________________________________\n",
      "block6b_se_excite (Multiply)    (None, 7, 7, 1152)   0           block6b_activation[0][0]         \n",
      "                                                                 block6b_se_expand[0][0]          \n",
      "__________________________________________________________________________________________________\n",
      "block6b_project_conv (Conv2D)   (None, 7, 7, 192)    221184      block6b_se_excite[0][0]          \n",
      "__________________________________________________________________________________________________\n",
      "block6b_project_bn (BatchNormal (None, 7, 7, 192)    768         block6b_project_conv[0][0]       \n",
      "__________________________________________________________________________________________________\n",
      "block6b_drop (Dropout)          (None, 7, 7, 192)    0           block6b_project_bn[0][0]         \n",
      "__________________________________________________________________________________________________\n",
      "block6b_add (Add)               (None, 7, 7, 192)    0           block6b_drop[0][0]               \n",
      "                                                                 block6a_project_bn[0][0]         \n",
      "__________________________________________________________________________________________________\n",
      "block6c_expand_conv (Conv2D)    (None, 7, 7, 1152)   221184      block6b_add[0][0]                \n",
      "__________________________________________________________________________________________________\n",
      "block6c_expand_bn (BatchNormali (None, 7, 7, 1152)   4608        block6c_expand_conv[0][0]        \n",
      "__________________________________________________________________________________________________\n",
      "block6c_expand_activation (Acti (None, 7, 7, 1152)   0           block6c_expand_bn[0][0]          \n",
      "__________________________________________________________________________________________________\n",
      "block6c_dwconv (DepthwiseConv2D (None, 7, 7, 1152)   28800       block6c_expand_activation[0][0]  \n",
      "__________________________________________________________________________________________________\n",
      "block6c_bn (BatchNormalization) (None, 7, 7, 1152)   4608        block6c_dwconv[0][0]             \n",
      "__________________________________________________________________________________________________\n",
      "block6c_activation (Activation) (None, 7, 7, 1152)   0           block6c_bn[0][0]                 \n",
      "__________________________________________________________________________________________________\n",
      "block6c_se_squeeze (GlobalAvera (None, 1152)         0           block6c_activation[0][0]         \n",
      "__________________________________________________________________________________________________\n",
      "block6c_se_reshape (Reshape)    (None, 1, 1, 1152)   0           block6c_se_squeeze[0][0]         \n",
      "__________________________________________________________________________________________________\n",
      "block6c_se_reduce (Conv2D)      (None, 1, 1, 48)     55344       block6c_se_reshape[0][0]         \n",
      "__________________________________________________________________________________________________\n",
      "block6c_se_expand (Conv2D)      (None, 1, 1, 1152)   56448       block6c_se_reduce[0][0]          \n",
      "__________________________________________________________________________________________________\n",
      "block6c_se_excite (Multiply)    (None, 7, 7, 1152)   0           block6c_activation[0][0]         \n",
      "                                                                 block6c_se_expand[0][0]          \n",
      "__________________________________________________________________________________________________\n",
      "block6c_project_conv (Conv2D)   (None, 7, 7, 192)    221184      block6c_se_excite[0][0]          \n",
      "__________________________________________________________________________________________________\n",
      "block6c_project_bn (BatchNormal (None, 7, 7, 192)    768         block6c_project_conv[0][0]       \n",
      "__________________________________________________________________________________________________\n",
      "block6c_drop (Dropout)          (None, 7, 7, 192)    0           block6c_project_bn[0][0]         \n",
      "__________________________________________________________________________________________________\n",
      "block6c_add (Add)               (None, 7, 7, 192)    0           block6c_drop[0][0]               \n",
      "                                                                 block6b_add[0][0]                \n",
      "__________________________________________________________________________________________________\n",
      "block6d_expand_conv (Conv2D)    (None, 7, 7, 1152)   221184      block6c_add[0][0]                \n",
      "__________________________________________________________________________________________________\n",
      "block6d_expand_bn (BatchNormali (None, 7, 7, 1152)   4608        block6d_expand_conv[0][0]        \n",
      "__________________________________________________________________________________________________\n",
      "block6d_expand_activation (Acti (None, 7, 7, 1152)   0           block6d_expand_bn[0][0]          \n",
      "__________________________________________________________________________________________________\n",
      "block6d_dwconv (DepthwiseConv2D (None, 7, 7, 1152)   28800       block6d_expand_activation[0][0]  \n",
      "__________________________________________________________________________________________________\n",
      "block6d_bn (BatchNormalization) (None, 7, 7, 1152)   4608        block6d_dwconv[0][0]             \n",
      "__________________________________________________________________________________________________\n",
      "block6d_activation (Activation) (None, 7, 7, 1152)   0           block6d_bn[0][0]                 \n",
      "__________________________________________________________________________________________________\n",
      "block6d_se_squeeze (GlobalAvera (None, 1152)         0           block6d_activation[0][0]         \n",
      "__________________________________________________________________________________________________\n",
      "block6d_se_reshape (Reshape)    (None, 1, 1, 1152)   0           block6d_se_squeeze[0][0]         \n",
      "__________________________________________________________________________________________________\n",
      "block6d_se_reduce (Conv2D)      (None, 1, 1, 48)     55344       block6d_se_reshape[0][0]         \n",
      "__________________________________________________________________________________________________\n",
      "block6d_se_expand (Conv2D)      (None, 1, 1, 1152)   56448       block6d_se_reduce[0][0]          \n",
      "__________________________________________________________________________________________________\n",
      "block6d_se_excite (Multiply)    (None, 7, 7, 1152)   0           block6d_activation[0][0]         \n",
      "                                                                 block6d_se_expand[0][0]          \n",
      "__________________________________________________________________________________________________\n",
      "block6d_project_conv (Conv2D)   (None, 7, 7, 192)    221184      block6d_se_excite[0][0]          \n",
      "__________________________________________________________________________________________________\n",
      "block6d_project_bn (BatchNormal (None, 7, 7, 192)    768         block6d_project_conv[0][0]       \n",
      "__________________________________________________________________________________________________\n",
      "block6d_drop (Dropout)          (None, 7, 7, 192)    0           block6d_project_bn[0][0]         \n",
      "__________________________________________________________________________________________________\n",
      "block6d_add (Add)               (None, 7, 7, 192)    0           block6d_drop[0][0]               \n",
      "                                                                 block6c_add[0][0]                \n",
      "__________________________________________________________________________________________________\n",
      "block7a_expand_conv (Conv2D)    (None, 7, 7, 1152)   221184      block6d_add[0][0]                \n",
      "__________________________________________________________________________________________________\n",
      "block7a_expand_bn (BatchNormali (None, 7, 7, 1152)   4608        block7a_expand_conv[0][0]        \n",
      "__________________________________________________________________________________________________\n",
      "block7a_expand_activation (Acti (None, 7, 7, 1152)   0           block7a_expand_bn[0][0]          \n",
      "__________________________________________________________________________________________________\n",
      "block7a_dwconv (DepthwiseConv2D (None, 7, 7, 1152)   10368       block7a_expand_activation[0][0]  \n",
      "__________________________________________________________________________________________________\n",
      "block7a_bn (BatchNormalization) (None, 7, 7, 1152)   4608        block7a_dwconv[0][0]             \n",
      "__________________________________________________________________________________________________\n",
      "block7a_activation (Activation) (None, 7, 7, 1152)   0           block7a_bn[0][0]                 \n",
      "__________________________________________________________________________________________________\n",
      "block7a_se_squeeze (GlobalAvera (None, 1152)         0           block7a_activation[0][0]         \n",
      "__________________________________________________________________________________________________\n",
      "block7a_se_reshape (Reshape)    (None, 1, 1, 1152)   0           block7a_se_squeeze[0][0]         \n",
      "__________________________________________________________________________________________________\n",
      "block7a_se_reduce (Conv2D)      (None, 1, 1, 48)     55344       block7a_se_reshape[0][0]         \n",
      "__________________________________________________________________________________________________\n",
      "block7a_se_expand (Conv2D)      (None, 1, 1, 1152)   56448       block7a_se_reduce[0][0]          \n",
      "__________________________________________________________________________________________________\n",
      "block7a_se_excite (Multiply)    (None, 7, 7, 1152)   0           block7a_activation[0][0]         \n",
      "                                                                 block7a_se_expand[0][0]          \n",
      "__________________________________________________________________________________________________\n",
      "block7a_project_conv (Conv2D)   (None, 7, 7, 320)    368640      block7a_se_excite[0][0]          \n",
      "__________________________________________________________________________________________________\n",
      "block7a_project_bn (BatchNormal (None, 7, 7, 320)    1280        block7a_project_conv[0][0]       \n",
      "__________________________________________________________________________________________________\n",
      "top_conv (Conv2D)               (None, 7, 7, 1280)   409600      block7a_project_bn[0][0]         \n",
      "__________________________________________________________________________________________________\n",
      "top_bn (BatchNormalization)     (None, 7, 7, 1280)   5120        top_conv[0][0]                   \n",
      "__________________________________________________________________________________________________\n",
      "top_activation (Activation)     (None, 7, 7, 1280)   0           top_bn[0][0]                     \n",
      "==================================================================================================\n",
      "Total params: 4,049,571\n",
      "Trainable params: 0\n",
      "Non-trainable params: 4,049,571\n",
      "__________________________________________________________________________________________________\n"
     ]
    }
   ],
   "source": [
    "base_model.trainable = False\n",
    "base_model.summary()"
   ]
  },
  {
   "cell_type": "code",
   "execution_count": 21,
   "metadata": {},
   "outputs": [],
   "source": [
    "global_average_layer = tf.keras.layers.GlobalAveragePooling2D()"
   ]
  },
  {
   "cell_type": "code",
   "execution_count": 22,
   "metadata": {},
   "outputs": [],
   "source": [
    "prediction_layer = tf.keras.layers.Dense(3, activation='softmax')"
   ]
  },
  {
   "cell_type": "code",
   "execution_count": 23,
   "metadata": {},
   "outputs": [
    {
     "data": {
      "text/plain": [
       "{'name': 'dense',\n",
       " 'trainable': True,\n",
       " 'dtype': 'float32',\n",
       " 'units': 3,\n",
       " 'activation': 'softmax',\n",
       " 'use_bias': True,\n",
       " 'kernel_initializer': {'class_name': 'GlorotUniform',\n",
       "  'config': {'seed': None}},\n",
       " 'bias_initializer': {'class_name': 'Zeros', 'config': {}},\n",
       " 'kernel_regularizer': None,\n",
       " 'bias_regularizer': None,\n",
       " 'activity_regularizer': None,\n",
       " 'kernel_constraint': None,\n",
       " 'bias_constraint': None}"
      ]
     },
     "execution_count": 23,
     "metadata": {},
     "output_type": "execute_result"
    }
   ],
   "source": [
    "prediction_layer.get_config()"
   ]
  },
  {
   "cell_type": "code",
   "execution_count": 24,
   "metadata": {},
   "outputs": [],
   "source": [
    "inputs = tf.keras.Input(shape=(224,224, 3))\n",
    "x = preprocess_input(inputs)\n",
    "x = img_augmentation(x)\n",
    "x = base_model(x, training=False)\n",
    "x = global_average_layer(x)\n",
    "x = tf.keras.layers.BatchNormalization()(x)\n",
    "x = tf.keras.layers.Dropout(0.2)(x)\n",
    "outputs = prediction_layer(x)\n",
    "model = tf.keras.Model(inputs, outputs)"
   ]
  },
  {
   "cell_type": "code",
   "execution_count": 25,
   "metadata": {},
   "outputs": [],
   "source": [
    "base_learning_rate = 0.0001\n",
    "model.compile(optimizer=tf.keras.optimizers.Adam(lr=base_learning_rate),\n",
    "              loss=tf.keras.losses.categorical_crossentropy,\n",
    "              metrics=['accuracy'])"
   ]
  },
  {
   "cell_type": "code",
   "execution_count": 26,
   "metadata": {},
   "outputs": [
    {
     "name": "stdout",
     "output_type": "stream",
     "text": [
      "Model: \"functional_1\"\n",
      "_________________________________________________________________\n",
      "Layer (type)                 Output Shape              Param #   \n",
      "=================================================================\n",
      "input_2 (InputLayer)         [(None, 224, 224, 3)]     0         \n",
      "_________________________________________________________________\n",
      "img_augmentation (Sequential (None, 224, 224, 3)       0         \n",
      "_________________________________________________________________\n",
      "efficientnetb0 (Functional)  (None, 7, 7, 1280)        4049571   \n",
      "_________________________________________________________________\n",
      "global_average_pooling2d (Gl (None, 1280)              0         \n",
      "_________________________________________________________________\n",
      "batch_normalization (BatchNo (None, 1280)              5120      \n",
      "_________________________________________________________________\n",
      "dropout (Dropout)            (None, 1280)              0         \n",
      "_________________________________________________________________\n",
      "dense (Dense)                (None, 3)                 3843      \n",
      "=================================================================\n",
      "Total params: 4,058,534\n",
      "Trainable params: 6,403\n",
      "Non-trainable params: 4,052,131\n",
      "_________________________________________________________________\n"
     ]
    }
   ],
   "source": [
    "model.summary()"
   ]
  },
  {
   "cell_type": "code",
   "execution_count": 27,
   "metadata": {},
   "outputs": [],
   "source": [
    "initial_epochs = 20"
   ]
  },
  {
   "cell_type": "code",
   "execution_count": 28,
   "metadata": {},
   "outputs": [
    {
     "name": "stdout",
     "output_type": "stream",
     "text": [
      "[name: \"/device:CPU:0\"\n",
      "device_type: \"CPU\"\n",
      "memory_limit: 268435456\n",
      "locality {\n",
      "}\n",
      "incarnation: 7839360782175310804\n",
      ", name: \"/device:XLA_CPU:0\"\n",
      "device_type: \"XLA_CPU\"\n",
      "memory_limit: 17179869184\n",
      "locality {\n",
      "}\n",
      "incarnation: 17291156556624972406\n",
      "physical_device_desc: \"device: XLA_CPU device\"\n",
      ", name: \"/device:XLA_GPU:0\"\n",
      "device_type: \"XLA_GPU\"\n",
      "memory_limit: 17179869184\n",
      "locality {\n",
      "}\n",
      "incarnation: 5480622700120758512\n",
      "physical_device_desc: \"device: XLA_GPU device\"\n",
      "]\n"
     ]
    }
   ],
   "source": [
    "from tensorflow.python.client import device_lib\n",
    "print(device_lib.list_local_devices())"
   ]
  },
  {
   "cell_type": "code",
   "execution_count": 29,
   "metadata": {},
   "outputs": [
    {
     "name": "stdout",
     "output_type": "stream",
     "text": [
      "Epoch 1/20\n",
      "173/173 [==============================] - 695s 4s/step - loss: 1.0276 - accuracy: 0.5658 - val_loss: 0.8010 - val_accuracy: 0.6547\n",
      "Epoch 2/20\n",
      "173/173 [==============================] - 690s 4s/step - loss: 0.7837 - accuracy: 0.6707 - val_loss: 0.6580 - val_accuracy: 0.7459\n",
      "Epoch 3/20\n",
      "173/173 [==============================] - 691s 4s/step - loss: 0.6799 - accuracy: 0.7247 - val_loss: 0.6246 - val_accuracy: 0.7655\n",
      "Epoch 4/20\n",
      "173/173 [==============================] - 693s 4s/step - loss: 0.6140 - accuracy: 0.7508 - val_loss: 0.6192 - val_accuracy: 0.7752\n",
      "Epoch 5/20\n",
      "173/173 [==============================] - 699s 4s/step - loss: 0.5828 - accuracy: 0.7523 - val_loss: 0.5904 - val_accuracy: 0.7915\n",
      "Epoch 6/20\n",
      "173/173 [==============================] - 709s 4s/step - loss: 0.5297 - accuracy: 0.7824 - val_loss: 0.5738 - val_accuracy: 0.7948\n",
      "Epoch 7/20\n",
      "173/173 [==============================] - 710s 4s/step - loss: 0.5185 - accuracy: 0.7904 - val_loss: 0.5524 - val_accuracy: 0.8078\n",
      "Epoch 8/20\n",
      "173/173 [==============================] - 701s 4s/step - loss: 0.4854 - accuracy: 0.8067 - val_loss: 0.5377 - val_accuracy: 0.8046\n",
      "Epoch 9/20\n",
      "173/173 [==============================] - 704s 4s/step - loss: 0.4757 - accuracy: 0.8041 - val_loss: 0.5340 - val_accuracy: 0.8208\n",
      "Epoch 10/20\n",
      "173/173 [==============================] - 709s 4s/step - loss: 0.4838 - accuracy: 0.7980 - val_loss: 0.5206 - val_accuracy: 0.8176\n",
      "Epoch 11/20\n",
      "173/173 [==============================] - 706s 4s/step - loss: 0.4581 - accuracy: 0.8186 - val_loss: 0.4963 - val_accuracy: 0.8339\n",
      "Epoch 12/20\n",
      "173/173 [==============================] - 703s 4s/step - loss: 0.4438 - accuracy: 0.8143 - val_loss: 0.4902 - val_accuracy: 0.8436\n",
      "Epoch 13/20\n",
      "173/173 [==============================] - 704s 4s/step - loss: 0.4356 - accuracy: 0.8208 - val_loss: 0.4892 - val_accuracy: 0.8371\n",
      "Epoch 14/20\n",
      "173/173 [==============================] - 704s 4s/step - loss: 0.4268 - accuracy: 0.8255 - val_loss: 0.4924 - val_accuracy: 0.8371\n",
      "Epoch 15/20\n",
      "173/173 [==============================] - 735s 4s/step - loss: 0.4284 - accuracy: 0.8310 - val_loss: 0.4778 - val_accuracy: 0.8534\n",
      "Epoch 16/20\n",
      "173/173 [==============================] - 721s 4s/step - loss: 0.4093 - accuracy: 0.8386 - val_loss: 0.4820 - val_accuracy: 0.8534\n",
      "Epoch 17/20\n",
      "173/173 [==============================] - 771s 4s/step - loss: 0.4151 - accuracy: 0.8255 - val_loss: 0.4726 - val_accuracy: 0.8599\n",
      "Epoch 18/20\n",
      "173/173 [==============================] - 737s 4s/step - loss: 0.4073 - accuracy: 0.8321 - val_loss: 0.4716 - val_accuracy: 0.8567\n",
      "Epoch 19/20\n",
      "173/173 [==============================] - 713s 4s/step - loss: 0.3920 - accuracy: 0.8375 - val_loss: 0.4628 - val_accuracy: 0.8534\n",
      "Epoch 20/20\n",
      "173/173 [==============================] - 707s 4s/step - loss: 0.3861 - accuracy: 0.8451 - val_loss: 0.4559 - val_accuracy: 0.8567\n"
     ]
    }
   ],
   "source": [
    "history = model.fit(train_dataset, epochs=initial_epochs,validation_data=test_dataset)"
   ]
  },
  {
   "cell_type": "code",
   "execution_count": 30,
   "metadata": {},
   "outputs": [
    {
     "data": {
      "text/plain": [
       "<tensorflow.python.keras.callbacks.History at 0x27644103580>"
      ]
     },
     "execution_count": 30,
     "metadata": {},
     "output_type": "execute_result"
    }
   ],
   "source": [
    "history"
   ]
  },
  {
   "cell_type": "code",
   "execution_count": 31,
   "metadata": {},
   "outputs": [
    {
     "name": "stdout",
     "output_type": "stream",
     "text": [
      "[0.5658324360847473, 0.6706565022468567, 0.7247007489204407, 0.7508161067962646, 0.7522669434547424, 0.7823721170425415, 0.7903518080711365, 0.8066739439964294, 0.8041349053382874, 0.7979688048362732, 0.8186434507369995, 0.8142908811569214, 0.8208197355270386, 0.825534999370575, 0.8309757113456726, 0.8385926485061646, 0.825534999370575, 0.8320638537406921, 0.837504506111145, 0.8451215028762817]\n"
     ]
    }
   ],
   "source": [
    "acc = history.history['accuracy']\n",
    "print(acc)"
   ]
  },
  {
   "cell_type": "code",
   "execution_count": 36,
   "metadata": {},
   "outputs": [
    {
     "data": {
      "image/png": "[encoded data removed]",
      "text/plain": [
       "<Figure size 576x576 with 2 Axes>"
      ]
     },
     "metadata": {
      "needs_background": "light"
     },
     "output_type": "display_data"
    },
    {
     "data": {
      "text/plain": [
       "<Figure size 432x288 with 0 Axes>"
      ]
     },
     "metadata": {},
     "output_type": "display_data"
    }
   ],
   "source": [
    "acc = history.history['accuracy']\n",
    "val_acc = history.history['val_accuracy']\n",
    "loss = history.history['loss']\n",
    "val_loss = history.history['val_loss']\n",
    "\n",
    "\n",
    "plt.figure(figsize=(8, 8))\n",
    "plt.subplot(2, 1, 1)\n",
    "plt.plot(acc)\n",
    "plt.plot(history.history['val_accuracy'])\n",
    "#plt.plot(val_acc, label='Validation Accuracy')\n",
    "plt.legend(['train', 'validation'], loc='lower right')\n",
    "plt.ylabel('Accuracy')\n",
    "plt.ylim([min(plt.ylim()),1])\n",
    "plt.title('Training and Validation Accuracy')\n",
    "\n",
    "plt.subplot(2, 1, 2)\n",
    "plt.plot(loss)\n",
    "plt.plot(history.history['val_loss'])\n",
    "#plt.plot(val_loss, label='Validation Loss')\n",
    "plt.legend(['train', 'validation'],loc='upper right')\n",
    "plt.ylabel('Cross Entropy')\n",
    "plt.ylim([0,1.0])\n",
    "plt.title('Training and Validation Loss')\n",
    "plt.xlabel('epoch')\n",
    "plt.show()\n",
    "plt.savefig('accuracy-loss-efficientnet.png')"
   ]
  },
  {
   "cell_type": "code",
   "execution_count": 37,
   "metadata": {},
   "outputs": [
    {
     "data": {
      "image/png": "[encoded data removed]",
      "text/plain": [
       "<Figure size 432x288 with 1 Axes>"
      ]
     },
     "metadata": {
      "needs_background": "light"
     },
     "output_type": "display_data"
    },
    {
     "data": {
      "text/plain": [
       "<Figure size 432x288 with 0 Axes>"
      ]
     },
     "metadata": {},
     "output_type": "display_data"
    }
   ],
   "source": [
    "from matplotlib import pyplot as plt\n",
    "#plot training and validation accuracy\n",
    "plt.plot(history.history['accuracy'])\n",
    "plt.plot(history.history['val_accuracy'])\n",
    "plt.title('model accuracy')\n",
    "plt.ylabel('accuracy')\n",
    "plt.xlabel('epoch')\n",
    "plt.legend(['train', 'validation'], loc='upper left')\n",
    "plt.show()\n",
    "plt.savefig('accuracy_curve_efficient.png')"
   ]
  },
  {
   "cell_type": "code",
   "execution_count": 38,
   "metadata": {},
   "outputs": [
    {
     "data": {
      "image/png": "[encoded data removed]",
      "text/plain": [
       "<Figure size 432x288 with 1 Axes>"
      ]
     },
     "metadata": {
      "needs_background": "light"
     },
     "output_type": "display_data"
    },
    {
     "data": {
      "text/plain": [
       "<Figure size 432x288 with 0 Axes>"
      ]
     },
     "metadata": {},
     "output_type": "display_data"
    }
   ],
   "source": [
    "#plot training and validation loss\n",
    "plt.plot(history.history['loss'])\n",
    "plt.plot(history.history['val_loss'])\n",
    "plt.title('model loss')\n",
    "plt.ylabel('loss')\n",
    "plt.xlabel('epoch')\n",
    "plt.legend(['train', 'validation'], loc='upper left')\n",
    "plt.show()\n",
    "plt.savefig('loss_curve_efficientnet.png')"
   ]
  },
  {
   "cell_type": "code",
   "execution_count": 39,
   "metadata": {},
   "outputs": [
    {
     "name": "stdout",
     "output_type": "stream",
     "text": [
      "20/20 [==============================] - 17s 861ms/step - loss: 0.4559 - accuracy: 0.8567\n",
      "Test accuracy : 0.8566775321960449\n"
     ]
    }
   ],
   "source": [
    "loss, accuracy = model.evaluate(test_dataset)\n",
    "print('Test accuracy :', accuracy)"
   ]
  },
  {
   "cell_type": "code",
   "execution_count": 108,
   "metadata": {},
   "outputs": [],
   "source": [
    "#test_dataset = test_batch.prefetch(buffer_size=AUTOTUNE)"
   ]
  },
  {
   "cell_type": "code",
   "execution_count": 40,
   "metadata": {},
   "outputs": [
    {
     "data": {
      "text/plain": [
       "0.4559463858604431"
      ]
     },
     "execution_count": 40,
     "metadata": {},
     "output_type": "execute_result"
    }
   ],
   "source": [
    "loss"
   ]
  },
  {
   "cell_type": "code",
   "execution_count": 38,
   "metadata": {},
   "outputs": [],
   "source": [
    "#import tensorflow as tf"
   ]
  },
  {
   "cell_type": "code",
   "execution_count": 46,
   "metadata": {},
   "outputs": [],
   "source": [
    "#model.save(\"model-efficientnet-image-size-224-with-augmentation.h5\")"
   ]
  },
  {
   "cell_type": "code",
   "execution_count": 18,
   "metadata": {},
   "outputs": [
    {
     "name": "stdout",
     "output_type": "stream",
     "text": [
      "WARNING:tensorflow:Model was constructed with shape (None, 32, 32, 3) for input Tensor(\"input_1:0\", shape=(None, 32, 32, 3), dtype=float32), but it was called on an input with incompatible shape (None, 160, 160, 3).\n",
      "Model: \"functional_1\"\n",
      "_________________________________________________________________\n",
      "Layer (type)                 Output Shape              Param #   \n",
      "=================================================================\n",
      "input_2 (InputLayer)         [(None, 160, 160, 3)]     0         \n",
      "_________________________________________________________________\n",
      "efficientnetb0 (Functional)  (None, 1, 1, 1280)        4049571   \n",
      "_________________________________________________________________\n",
      "global_average_pooling2d (Gl (None, 1280)              0         \n",
      "_________________________________________________________________\n",
      "dropout (Dropout)            (None, 1280)              0         \n",
      "_________________________________________________________________\n",
      "dense (Dense)                (None, 3)                 3843      \n",
      "=================================================================\n",
      "Total params: 4,053,414\n",
      "Trainable params: 3,843\n",
      "Non-trainable params: 4,049,571\n",
      "_________________________________________________________________\n"
     ]
    }
   ],
   "source": [
    "# load model\n",
    "#model = load_model('model-efficient-net.h5')\n",
    "# summarize model.\n",
    "#model.summary()"
   ]
  },
  {
   "cell_type": "code",
   "execution_count": 29,
   "metadata": {},
   "outputs": [],
   "source": [
    "#from tensorflow.keras.models import load_model"
   ]
  },
  {
   "cell_type": "code",
   "execution_count": 31,
   "metadata": {},
   "outputs": [
    {
     "name": "stdout",
     "output_type": "stream",
     "text": [
      "Model: \"functional_3\"\n",
      "_________________________________________________________________\n",
      "Layer (type)                 Output Shape              Param #   \n",
      "=================================================================\n",
      "input_3 (InputLayer)         [(None, 224, 224, 3)]     0         \n",
      "_________________________________________________________________\n",
      "img_augmentation (Sequential (None, 224, 224, 3)       0         \n",
      "_________________________________________________________________\n",
      "efficientnetb0 (Functional)  (None, 7, 7, 1280)        4049571   \n",
      "_________________________________________________________________\n",
      "global_average_pooling2d (Gl (None, 1280)              0         \n",
      "_________________________________________________________________\n",
      "batch_normalization_1 (Batch (None, 1280)              5120      \n",
      "_________________________________________________________________\n",
      "dropout_1 (Dropout)          (None, 1280)              0         \n",
      "_________________________________________________________________\n",
      "dense (Dense)                (None, 3)                 3843      \n",
      "=================================================================\n",
      "Total params: 4,058,534\n",
      "Trainable params: 6,403\n",
      "Non-trainable params: 4,052,131\n",
      "_________________________________________________________________\n"
     ]
    }
   ],
   "source": [
    "# load model\n",
    "#model = load_model('model-efficientnet-image-size-224-with-augmentation.h5')\n",
    "# summarize model.\n",
    "#model.summary()"
   ]
  },
  {
   "cell_type": "code",
   "execution_count": 41,
   "metadata": {},
   "outputs": [],
   "source": [
    "pred_prob = model.predict(test_dataset)"
   ]
  },
  {
   "cell_type": "code",
   "execution_count": 42,
   "metadata": {},
   "outputs": [
    {
     "data": {
      "text/plain": [
       "array([[5.69340825e-01, 4.01917517e-01, 2.87416726e-02],\n",
       "       [3.51385176e-01, 6.48565054e-01, 4.97728433e-05],\n",
       "       [8.63045081e-02, 7.16650426e-01, 1.97045147e-01],\n",
       "       [3.52585502e-02, 7.18950391e-01, 2.45791003e-01],\n",
       "       [3.67789790e-02, 8.32637012e-01, 1.30583957e-01],\n",
       "       [9.57916498e-01, 6.73174765e-03, 3.53517495e-02],\n",
       "       [3.45784385e-04, 2.37272098e-03, 9.97281432e-01],\n",
       "       [1.15724273e-01, 8.36978495e-01, 4.72972691e-02],\n",
       "       [7.36404479e-01, 1.63911586e-03, 2.61956364e-01],\n",
       "       [1.33071944e-01, 8.64502668e-01, 2.42544198e-03],\n",
       "       [2.59284556e-01, 7.11161673e-01, 2.95537077e-02],\n",
       "       [3.03552486e-02, 1.71821844e-02, 9.52462554e-01],\n",
       "       [9.02736902e-01, 1.17915617e-02, 8.54715332e-02],\n",
       "       [3.43937567e-03, 9.95427608e-01, 1.13305484e-03],\n",
       "       [8.37197527e-03, 4.42151800e-02, 9.47412789e-01],\n",
       "       [4.07082734e-05, 1.02097716e-03, 9.98938262e-01],\n",
       "       [2.99920142e-03, 1.34690320e-02, 9.83531713e-01],\n",
       "       [1.88217510e-03, 8.46514478e-03, 9.89652693e-01],\n",
       "       [3.39882672e-02, 9.65720892e-01, 2.90762924e-04],\n",
       "       [3.21481522e-04, 2.06501759e-03, 9.97613549e-01],\n",
       "       [9.91924584e-01, 5.95244067e-03, 2.12305505e-03],\n",
       "       [4.67772111e-02, 1.46571258e-02, 9.38565671e-01],\n",
       "       [1.87641084e-02, 1.12161273e-03, 9.80114281e-01],\n",
       "       [3.46243493e-02, 7.76248991e-01, 1.89126611e-01],\n",
       "       [4.51245019e-03, 9.55274880e-01, 4.02127020e-02],\n",
       "       [4.35326761e-03, 9.95326996e-01, 3.19745101e-04],\n",
       "       [1.22593075e-01, 8.16070020e-01, 6.13369271e-02],\n",
       "       [1.07020271e-04, 4.08750988e-04, 9.99484181e-01],\n",
       "       [1.55887479e-04, 5.89227304e-04, 9.99254882e-01],\n",
       "       [9.98638809e-01, 6.71417278e-04, 6.89769164e-04],\n",
       "       [1.04786828e-03, 3.93707007e-02, 9.59581435e-01],\n",
       "       [4.76554073e-02, 7.41111517e-01, 2.11233079e-01],\n",
       "       [9.93654609e-01, 3.43474466e-03, 2.91059352e-03],\n",
       "       [7.12533116e-01, 2.05701783e-01, 8.17651823e-02],\n",
       "       [8.09979588e-02, 9.17303681e-01, 1.69842772e-03],\n",
       "       [2.76156306e-01, 7.20531046e-01, 3.31263174e-03],\n",
       "       [8.24422657e-01, 1.70418352e-01, 5.15897665e-03],\n",
       "       [9.97283459e-01, 1.79558690e-03, 9.20907594e-04],\n",
       "       [9.93426442e-01, 3.39478906e-03, 3.17877461e-03],\n",
       "       [9.82373238e-01, 2.91296770e-03, 1.47137549e-02],\n",
       "       [3.74320149e-01, 5.52201390e-01, 7.34785274e-02],\n",
       "       [2.43578237e-02, 4.86855447e-01, 4.88786697e-01],\n",
       "       [8.47906947e-01, 8.15720391e-03, 1.43935844e-01],\n",
       "       [1.23756407e-02, 1.65770762e-02, 9.71047342e-01],\n",
       "       [1.11768102e-04, 3.64711523e-05, 9.99851704e-01],\n",
       "       [9.21282887e-01, 3.39906961e-02, 4.47263978e-02],\n",
       "       [9.94680703e-01, 2.88368762e-03, 2.43567582e-03],\n",
       "       [1.55784070e-01, 7.56957531e-01, 8.72583613e-02],\n",
       "       [9.95881557e-01, 1.47369647e-04, 3.97108262e-03],\n",
       "       [1.27060311e-02, 5.54889552e-02, 9.31805015e-01],\n",
       "       [1.93922833e-01, 9.58083384e-03, 7.96496272e-01],\n",
       "       [4.06038947e-04, 1.25139370e-03, 9.98342514e-01],\n",
       "       [4.45873648e-01, 5.01750052e-01, 5.23763038e-02],\n",
       "       [9.86128449e-01, 4.48323740e-03, 9.38832015e-03],\n",
       "       [9.95215297e-01, 9.01966123e-04, 3.88270034e-03],\n",
       "       [9.74059165e-01, 4.99582663e-03, 2.09450331e-02],\n",
       "       [9.12307084e-01, 8.69660676e-02, 7.26840401e-04],\n",
       "       [4.00110185e-02, 2.14868505e-03, 9.57840264e-01],\n",
       "       [9.75683451e-01, 8.62621423e-03, 1.56904366e-02],\n",
       "       [2.14355416e-03, 2.65104114e-03, 9.95205402e-01],\n",
       "       [3.95053089e-01, 1.99283183e-01, 4.05663669e-01],\n",
       "       [9.58551049e-01, 6.01907121e-03, 3.54298800e-02],\n",
       "       [7.20409989e-01, 2.77895242e-01, 1.69475819e-03],\n",
       "       [9.98078346e-01, 3.53333511e-04, 1.56830053e-03],\n",
       "       [7.02810943e-01, 2.96003520e-01, 1.18549250e-03],\n",
       "       [9.95028198e-01, 1.77007448e-03, 3.20165302e-03],\n",
       "       [9.91861820e-01, 4.25241608e-03, 3.88574041e-03],\n",
       "       [1.10366747e-01, 7.37507641e-01, 1.52125582e-01],\n",
       "       [5.31968586e-02, 5.29899448e-03, 9.41504121e-01],\n",
       "       [9.81219888e-01, 5.32210572e-03, 1.34578869e-02],\n",
       "       [1.91150121e-02, 9.21263695e-01, 5.96212447e-02],\n",
       "       [2.43976465e-04, 1.82466800e-04, 9.99573529e-01],\n",
       "       [1.08369999e-03, 3.07353839e-05, 9.98885572e-01],\n",
       "       [9.51366007e-01, 2.47873031e-02, 2.38467790e-02],\n",
       "       [9.76908326e-01, 1.42064234e-02, 8.88532959e-03],\n",
       "       [3.16966092e-03, 1.94785334e-02, 9.77351844e-01],\n",
       "       [7.03376949e-01, 2.22959533e-01, 7.36635178e-02],\n",
       "       [9.85315800e-01, 1.77238381e-03, 1.29119083e-02],\n",
       "       [8.22296917e-01, 1.69460043e-01, 8.24297033e-03],\n",
       "       [5.88979423e-01, 1.26072839e-01, 2.84947783e-01],\n",
       "       [2.56158150e-04, 5.14407526e-04, 9.99229431e-01],\n",
       "       [9.51275170e-01, 1.77157987e-02, 3.10090408e-02],\n",
       "       [8.50767465e-05, 1.31337743e-04, 9.99783576e-01],\n",
       "       [3.11582757e-04, 7.97056407e-03, 9.91717815e-01],\n",
       "       [9.90380704e-01, 4.76030307e-03, 4.85896226e-03],\n",
       "       [1.38683721e-01, 8.35697591e-01, 2.56187227e-02],\n",
       "       [9.89197195e-01, 8.16835556e-03, 2.63452134e-03],\n",
       "       [1.54710165e-03, 4.13188245e-03, 9.94320989e-01],\n",
       "       [9.63004529e-01, 3.83957149e-03, 3.31559740e-02],\n",
       "       [9.87477899e-01, 2.06680642e-03, 1.04553290e-02],\n",
       "       [6.05095760e-04, 1.47834036e-03, 9.97916520e-01],\n",
       "       [1.03470340e-01, 2.19043329e-01, 6.77486360e-01],\n",
       "       [2.39553838e-03, 6.33252040e-02, 9.34279323e-01],\n",
       "       [9.37054516e-04, 3.37315653e-03, 9.95689809e-01],\n",
       "       [1.34729707e-04, 9.40906684e-05, 9.99771178e-01],\n",
       "       [9.97144401e-01, 2.16155942e-03, 6.94116578e-04],\n",
       "       [8.97780120e-01, 6.91662431e-02, 3.30536142e-02],\n",
       "       [9.83267486e-01, 9.27268353e-04, 1.58052351e-02],\n",
       "       [9.42334712e-01, 2.81515419e-02, 2.95138415e-02],\n",
       "       [9.90129769e-01, 2.72400072e-03, 7.14623323e-03],\n",
       "       [5.15284061e-01, 4.69525188e-01, 1.51906703e-02],\n",
       "       [8.37424874e-01, 1.01505578e-01, 6.10695854e-02],\n",
       "       [8.26062143e-01, 6.46732524e-02, 1.09264575e-01],\n",
       "       [1.04420977e-02, 1.35755464e-01, 8.53802443e-01],\n",
       "       [6.34849654e-04, 1.30618527e-03, 9.98058975e-01],\n",
       "       [2.90164530e-01, 1.94689825e-01, 5.15145600e-01],\n",
       "       [1.04669970e-03, 3.33085831e-04, 9.98620272e-01],\n",
       "       [3.21901898e-04, 7.30562315e-04, 9.98947561e-01],\n",
       "       [8.04747701e-01, 1.94637880e-01, 6.14493038e-04],\n",
       "       [9.17894244e-01, 7.90517777e-02, 3.05399043e-03],\n",
       "       [8.23778391e-01, 1.62272796e-01, 1.39488028e-02],\n",
       "       [5.57684064e-01, 6.67004809e-02, 3.75615388e-01],\n",
       "       [9.29539204e-01, 4.13727909e-02, 2.90880185e-02],\n",
       "       [1.96237706e-05, 9.70772409e-04, 9.99009609e-01],\n",
       "       [1.37615696e-01, 1.94384962e-01, 6.67999268e-01],\n",
       "       [7.71027684e-01, 1.86352775e-01, 4.26195599e-02],\n",
       "       [5.53189784e-05, 6.25129833e-05, 9.99882102e-01],\n",
       "       [1.00317632e-03, 2.91132135e-04, 9.98705626e-01],\n",
       "       [9.81478810e-01, 5.39099006e-03, 1.31302048e-02],\n",
       "       [1.98587120e-04, 1.14381110e-04, 9.99687076e-01],\n",
       "       [9.40159321e-01, 5.95508963e-02, 2.89807416e-04],\n",
       "       [4.56323735e-02, 9.25885201e-01, 2.84823999e-02],\n",
       "       [9.60457385e-01, 3.73226888e-02, 2.21991213e-03],\n",
       "       [9.49038386e-01, 3.39131728e-02, 1.70484316e-02],\n",
       "       [5.19577898e-02, 8.75878692e-01, 7.21635073e-02],\n",
       "       [8.04572582e-01, 1.91998780e-01, 3.42869363e-03],\n",
       "       [9.82429385e-01, 1.68766677e-02, 6.93914481e-04],\n",
       "       [5.71443422e-07, 1.11266578e-04, 9.99888182e-01],\n",
       "       [5.33032477e-01, 3.42614725e-02, 4.32706118e-01],\n",
       "       [9.72364366e-01, 1.51966338e-03, 2.61159670e-02],\n",
       "       [4.58243519e-01, 6.06768113e-03, 5.35688877e-01],\n",
       "       [9.59748507e-01, 8.34485888e-03, 3.19065824e-02],\n",
       "       [9.86474097e-01, 1.87851919e-03, 1.16473353e-02],\n",
       "       [9.61306751e-01, 3.11178202e-03, 3.55814658e-02],\n",
       "       [1.42144375e-02, 6.91756839e-03, 9.78868008e-01],\n",
       "       [8.12242448e-01, 1.86149895e-01, 1.60761969e-03],\n",
       "       [5.98930521e-03, 5.93356183e-03, 9.88077164e-01],\n",
       "       [7.23176956e-01, 2.02091351e-01, 7.47317523e-02],\n",
       "       [7.98808873e-01, 4.03260300e-03, 1.97158590e-01],\n",
       "       [9.51099694e-01, 9.28800367e-03, 3.96123230e-02],\n",
       "       [1.17076692e-04, 7.41438271e-05, 9.99808848e-01],\n",
       "       [2.02896923e-01, 7.71319449e-01, 2.57835910e-02],\n",
       "       [6.54727628e-04, 5.70203738e-05, 9.99288261e-01],\n",
       "       [9.97746527e-01, 1.73761242e-03, 5.15801483e-04],\n",
       "       [4.85650636e-03, 1.40109360e-02, 9.81132567e-01],\n",
       "       [2.93022573e-01, 3.87360364e-01, 3.19617063e-01],\n",
       "       [1.88249978e-05, 4.79459093e-04, 9.99501705e-01],\n",
       "       [2.84967273e-02, 6.60832897e-02, 9.05419946e-01],\n",
       "       [5.81135869e-01, 3.99240255e-01, 1.96238682e-02],\n",
       "       [9.35829997e-01, 2.12138891e-02, 4.29561101e-02],\n",
       "       [4.65088058e-03, 1.73091199e-02, 9.78039980e-01],\n",
       "       [5.38392551e-02, 2.38722578e-01, 7.07438171e-01],\n",
       "       [5.16323256e-04, 9.13893891e-05, 9.99392271e-01],\n",
       "       [6.57291561e-02, 9.22539890e-01, 1.17309093e-02],\n",
       "       [8.65070701e-01, 1.33763477e-01, 1.16577675e-03],\n",
       "       [7.60038733e-01, 2.25098617e-02, 2.17451409e-01],\n",
       "       [1.75385736e-02, 4.78586912e-01, 5.03874540e-01],\n",
       "       [7.10242331e-01, 2.84600645e-01, 5.15712658e-03],\n",
       "       [9.72364485e-01, 1.66549496e-02, 1.09804533e-02],\n",
       "       [9.98582244e-01, 1.09986332e-03, 3.17967962e-04],\n",
       "       [9.61802423e-01, 1.87854227e-02, 1.94121487e-02],\n",
       "       [6.48302492e-04, 1.42697900e-05, 9.99337375e-01],\n",
       "       [9.71186280e-01, 2.50477102e-02, 3.76604777e-03],\n",
       "       [4.02409472e-02, 9.46777642e-01, 1.29813896e-02],\n",
       "       [1.98526913e-03, 1.33397132e-02, 9.84675050e-01],\n",
       "       [7.51775920e-01, 2.47722283e-01, 5.01752307e-04],\n",
       "       [4.15049773e-03, 5.24253631e-03, 9.90606904e-01],\n",
       "       [1.52123475e-03, 2.45232484e-03, 9.96026397e-01],\n",
       "       [5.88055491e-01, 3.26672137e-01, 8.52723792e-02],\n",
       "       [4.05511290e-01, 5.04212201e-01, 9.02765468e-02],\n",
       "       [4.07359585e-05, 8.03112562e-05, 9.99878883e-01],\n",
       "       [7.22274125e-01, 2.49729708e-01, 2.79961266e-02],\n",
       "       [6.87130511e-01, 2.90966094e-01, 2.19034646e-02],\n",
       "       [2.22189769e-01, 7.77171850e-01, 6.38312078e-04],\n",
       "       [9.22954619e-01, 7.68220425e-02, 2.23372801e-04],\n",
       "       [2.96444327e-01, 2.36561280e-02, 6.79899573e-01],\n",
       "       [3.95906061e-01, 4.67853993e-01, 1.36239901e-01],\n",
       "       [7.59584736e-03, 2.80887149e-02, 9.64315414e-01],\n",
       "       [9.92754757e-01, 2.72420282e-03, 4.52102860e-03],\n",
       "       [3.55476805e-05, 1.56194539e-04, 9.99808252e-01],\n",
       "       [9.76782501e-01, 1.73932873e-02, 5.82419988e-03],\n",
       "       [9.88737583e-01, 1.07453540e-02, 5.17091947e-04],\n",
       "       [7.53052294e-01, 9.08709839e-02, 1.56076729e-01],\n",
       "       [3.82243723e-01, 6.07783794e-01, 9.97248758e-03],\n",
       "       [3.23739732e-05, 1.15385628e-05, 9.99956131e-01],\n",
       "       [1.42618954e-01, 4.34931725e-01, 4.22449380e-01],\n",
       "       [3.23251064e-04, 4.34275542e-04, 9.99242544e-01],\n",
       "       [9.02888715e-01, 9.55480114e-02, 1.56325148e-03],\n",
       "       [2.96378101e-04, 6.38225756e-05, 9.99639750e-01],\n",
       "       [1.63901586e-03, 3.15615092e-03, 9.95204806e-01],\n",
       "       [9.73050594e-01, 6.04369584e-03, 2.09057145e-02],\n",
       "       [9.65439677e-01, 1.07929194e-02, 2.37673055e-02],\n",
       "       [7.88420320e-01, 5.29678073e-03, 2.06282839e-01],\n",
       "       [6.64804690e-03, 3.46485265e-02, 9.58703399e-01],\n",
       "       [9.73791182e-01, 2.26310138e-02, 3.57789779e-03],\n",
       "       [9.19977389e-03, 3.75627577e-01, 6.15172625e-01],\n",
       "       [4.19827141e-02, 2.75476952e-03, 9.55262482e-01],\n",
       "       [9.42208946e-01, 2.20126119e-02, 3.57784368e-02],\n",
       "       [5.71707205e-04, 1.49418265e-04, 9.99278843e-01],\n",
       "       [9.41484809e-01, 1.14119360e-02, 4.71032485e-02],\n",
       "       [9.73642528e-01, 6.75209472e-03, 1.96054354e-02],\n",
       "       [6.48440495e-02, 8.75571132e-01, 5.95848113e-02],\n",
       "       [5.26236854e-02, 9.19435918e-01, 2.79403869e-02],\n",
       "       [7.28086054e-01, 6.34692535e-02, 2.08444655e-01],\n",
       "       [7.67543495e-01, 2.23699510e-01, 8.75703245e-03],\n",
       "       [1.60835247e-04, 1.47867424e-04, 9.99691367e-01],\n",
       "       [9.33070719e-01, 4.44702357e-02, 2.24590711e-02],\n",
       "       [2.72851084e-05, 1.16559713e-04, 9.99856114e-01],\n",
       "       [9.81844425e-01, 2.88870046e-03, 1.52668990e-02],\n",
       "       [3.38732032e-04, 5.85386716e-03, 9.93807375e-01],\n",
       "       [8.70577753e-01, 1.25084430e-01, 4.33776714e-03],\n",
       "       [3.94859846e-04, 8.66854098e-04, 9.98738348e-01],\n",
       "       [9.64126468e-01, 1.78122371e-02, 1.80612486e-02],\n",
       "       [1.34064397e-03, 4.41339653e-04, 9.98218000e-01],\n",
       "       [7.93462396e-02, 9.16952908e-01, 3.70088685e-03],\n",
       "       [3.16211849e-01, 6.81520104e-01, 2.26806197e-03],\n",
       "       [9.10780013e-01, 2.52337810e-02, 6.39862344e-02],\n",
       "       [5.64618886e-01, 1.18292263e-02, 4.23551977e-01],\n",
       "       [2.04829082e-01, 7.92380571e-01, 2.79029016e-03],\n",
       "       [9.28494811e-01, 9.95390117e-03, 6.15512691e-02],\n",
       "       [1.10413945e-04, 7.39312265e-04, 9.99150276e-01],\n",
       "       [9.42401171e-01, 3.75538170e-02, 2.00450718e-02],\n",
       "       [2.49407906e-02, 9.02882874e-01, 7.21762925e-02],\n",
       "       [5.46032470e-03, 1.98950851e-03, 9.92550135e-01],\n",
       "       [1.75544247e-02, 5.65320253e-03, 9.76792395e-01],\n",
       "       [9.82490063e-01, 1.72947999e-02, 2.15136490e-04],\n",
       "       [6.56704962e-01, 3.33829910e-01, 9.46504995e-03],\n",
       "       [7.12908292e-03, 6.64263129e-01, 3.28607738e-01],\n",
       "       [9.94503021e-01, 4.52837266e-04, 5.04415110e-03],\n",
       "       [9.99745309e-01, 2.04043725e-04, 5.06270917e-05],\n",
       "       [2.74318008e-04, 1.63991272e-03, 9.98085737e-01],\n",
       "       [9.72865283e-01, 1.38819236e-02, 1.32527128e-02],\n",
       "       [9.95069742e-01, 6.83984195e-04, 4.24631080e-03],\n",
       "       [4.91046267e-05, 1.82370245e-02, 9.81713891e-01],\n",
       "       [2.49326869e-04, 8.98617029e-04, 9.98852015e-01],\n",
       "       [6.62498933e-04, 6.82304194e-03, 9.92514431e-01],\n",
       "       [6.85493827e-01, 2.70206481e-01, 4.42996845e-02],\n",
       "       [9.76849139e-01, 1.93100125e-02, 3.84090631e-03],\n",
       "       [6.69248911e-05, 2.08857760e-04, 9.99724209e-01],\n",
       "       [7.66803384e-01, 2.20529348e-01, 1.26672266e-02],\n",
       "       [2.17557396e-03, 2.09071208e-03, 9.95733678e-01],\n",
       "       [6.68643594e-01, 3.22768718e-01, 8.58773943e-03],\n",
       "       [8.68605793e-01, 3.73309664e-03, 1.27661124e-01],\n",
       "       [9.32216551e-03, 8.37930199e-03, 9.82298493e-01],\n",
       "       [1.42979085e-01, 8.16354692e-01, 4.06661592e-02],\n",
       "       [7.63299823e-01, 2.30860829e-01, 5.83937112e-03],\n",
       "       [4.23326679e-02, 9.52711344e-01, 4.95604333e-03],\n",
       "       [1.06920807e-05, 3.17341073e-05, 9.99957561e-01],\n",
       "       [5.64788319e-02, 9.33905482e-01, 9.61570255e-03],\n",
       "       [1.45600989e-01, 8.50737512e-01, 3.66155570e-03],\n",
       "       [3.13830024e-05, 1.02635109e-04, 9.99866009e-01],\n",
       "       [3.21392016e-03, 5.47885336e-03, 9.91307199e-01],\n",
       "       [7.17755020e-01, 2.74191648e-01, 8.05340335e-03],\n",
       "       [1.41678611e-02, 1.17926137e-03, 9.84652817e-01],\n",
       "       [2.99796969e-01, 6.56531870e-01, 4.36711647e-02],\n",
       "       [6.71236873e-01, 1.25015769e-02, 3.16261649e-01],\n",
       "       [6.06644213e-01, 2.06959486e-01, 1.86396345e-01],\n",
       "       [9.86720443e-01, 1.03270672e-02, 2.95239245e-03],\n",
       "       [9.95699644e-01, 1.28662703e-03, 3.01368372e-03],\n",
       "       [2.66479999e-01, 7.27267087e-01, 6.25280431e-03],\n",
       "       [9.23739552e-01, 7.27929249e-02, 3.46750370e-03],\n",
       "       [6.98249042e-03, 6.11924985e-03, 9.86898303e-01],\n",
       "       [9.93807137e-01, 4.73080948e-03, 1.46201637e-03],\n",
       "       [9.22063887e-01, 9.54242796e-03, 6.83936253e-02],\n",
       "       [1.71663091e-02, 3.62356449e-03, 9.79210079e-01],\n",
       "       [8.67489353e-02, 8.86779547e-01, 2.64715552e-02],\n",
       "       [9.75493371e-01, 1.75165664e-02, 6.99002016e-03],\n",
       "       [3.61811996e-01, 1.37012750e-01, 5.01175225e-01],\n",
       "       [9.84757304e-01, 3.92058818e-03, 1.13220736e-02],\n",
       "       [1.31701931e-01, 8.68107319e-01, 1.90774706e-04],\n",
       "       [1.84945599e-03, 4.86968737e-03, 9.93280828e-01],\n",
       "       [1.00347981e-01, 8.96622956e-01, 3.02901701e-03],\n",
       "       [8.97959828e-01, 7.43709952e-02, 2.76690889e-02],\n",
       "       [7.96213225e-02, 9.15760100e-01, 4.61858651e-03],\n",
       "       [8.04823160e-01, 1.88364014e-02, 1.76340535e-01],\n",
       "       [9.10844445e-01, 4.31430042e-02, 4.60124984e-02],\n",
       "       [2.86755115e-02, 3.02508008e-02, 9.41073716e-01],\n",
       "       [2.12261383e-03, 8.22775124e-04, 9.97054577e-01],\n",
       "       [2.74672396e-02, 9.62645233e-01, 9.88751557e-03],\n",
       "       [3.30697105e-04, 1.21907535e-04, 9.99547422e-01],\n",
       "       [8.00685585e-02, 8.19697559e-01, 1.00233905e-01],\n",
       "       [1.47355869e-01, 8.51354063e-01, 1.29007665e-03],\n",
       "       [4.86614332e-02, 3.94987673e-01, 5.56350827e-01],\n",
       "       [3.42783961e-03, 2.74521150e-02, 9.69120026e-01],\n",
       "       [6.50419056e-01, 3.17576140e-01, 3.20048630e-02],\n",
       "       [6.96831942e-01, 2.21608374e-02, 2.81007141e-01],\n",
       "       [2.98526436e-02, 9.69742358e-01, 4.04970488e-04],\n",
       "       [1.40396459e-03, 3.67214270e-02, 9.61874545e-01],\n",
       "       [7.33776093e-01, 2.64443010e-01, 1.78095733e-03],\n",
       "       [4.24745232e-01, 5.52293122e-01, 2.29615942e-02],\n",
       "       [9.78308976e-01, 3.85895185e-03, 1.78320277e-02],\n",
       "       [3.50068390e-01, 2.19220575e-02, 6.28009498e-01],\n",
       "       [5.74715771e-02, 2.81935278e-03, 9.39709067e-01],\n",
       "       [3.28293741e-01, 5.31108975e-01, 1.40597254e-01],\n",
       "       [3.35624307e-01, 6.64321959e-01, 5.37391970e-05],\n",
       "       [6.46803975e-01, 8.73089582e-02, 2.65887022e-01],\n",
       "       [1.60887139e-04, 7.81261944e-04, 9.99057829e-01],\n",
       "       [9.32577908e-01, 1.49794808e-02, 5.24425656e-02],\n",
       "       [9.74404454e-01, 2.39784159e-02, 1.61718996e-03],\n",
       "       [8.22732627e-01, 1.72771648e-01, 4.49581398e-03],\n",
       "       [9.98069704e-01, 1.65573682e-03, 2.74652324e-04],\n",
       "       [9.52869534e-01, 2.00669281e-02, 2.70634703e-02],\n",
       "       [9.26384926e-01, 2.19876654e-02, 5.16273864e-02],\n",
       "       [1.57840282e-01, 4.14110839e-01, 4.28048879e-01],\n",
       "       [2.14612126e-01, 7.44867325e-01, 4.05206233e-02],\n",
       "       [8.20341557e-02, 4.72135603e-01, 4.45830226e-01],\n",
       "       [6.39963628e-06, 1.35137570e-05, 9.99980092e-01]], dtype=float32)"
      ]
     },
     "execution_count": 42,
     "metadata": {},
     "output_type": "execute_result"
    }
   ],
   "source": [
    "pred_prob"
   ]
  },
  {
   "cell_type": "code",
   "execution_count": 43,
   "metadata": {},
   "outputs": [],
   "source": [
    "n_classes = 3"
   ]
  },
  {
   "cell_type": "code",
   "execution_count": 44,
   "metadata": {},
   "outputs": [],
   "source": [
    "#Multiclass ROC curve\n",
    "from scipy import interp\n",
    "from sklearn.metrics import roc_auc_score"
   ]
  },
  {
   "cell_type": "code",
   "execution_count": 45,
   "metadata": {},
   "outputs": [],
   "source": [
    "from sklearn.metrics import roc_curve, auc"
   ]
  },
  {
   "cell_type": "code",
   "execution_count": 46,
   "metadata": {},
   "outputs": [],
   "source": [
    "# Compute ROC curve and ROC area for each class\n",
    "fpr = dict()\n",
    "tpr = dict()\n",
    "roc_auc = dict()\n",
    "for i in range(3):\n",
    "    fpr[i], tpr[i], _ = roc_curve(Y_test[:, i], pred_prob[:, i])\n",
    "    roc_auc[i] = auc(fpr[i], tpr[i])"
   ]
  },
  {
   "cell_type": "code",
   "execution_count": 47,
   "metadata": {},
   "outputs": [
    {
     "data": {
      "text/plain": [
       "{0: 0.963984674329502, 1: 0.881236571974218, 2: 0.9795991045991046}"
      ]
     },
     "execution_count": 47,
     "metadata": {},
     "output_type": "execute_result"
    }
   ],
   "source": [
    "roc_auc"
   ]
  },
  {
   "cell_type": "code",
   "execution_count": 48,
   "metadata": {},
   "outputs": [],
   "source": [
    "# Compute micro-average ROC curve and ROC area\n",
    "fpr[\"micro\"], tpr[\"micro\"], _ = roc_curve(Y_test.ravel(), pred_prob.ravel())\n",
    "roc_auc[\"micro\"] = auc(fpr[\"micro\"], tpr[\"micro\"])"
   ]
  },
  {
   "cell_type": "code",
   "execution_count": 49,
   "metadata": {},
   "outputs": [
    {
     "data": {
      "text/plain": [
       "{0: 0.963984674329502,\n",
       " 1: 0.881236571974218,\n",
       " 2: 0.9795991045991046,\n",
       " 'micro': 0.9474371080860273}"
      ]
     },
     "execution_count": 49,
     "metadata": {},
     "output_type": "execute_result"
    }
   ],
   "source": [
    "roc_auc"
   ]
  },
  {
   "cell_type": "code",
   "execution_count": 50,
   "metadata": {},
   "outputs": [],
   "source": [
    "#compute macro-average ROC curve and ROC area\n",
    "# First aggregate all false positive rates\n",
    "all_fpr = np.unique(np.concatenate([fpr[i] for i in range(n_classes)]))\n",
    "\n",
    "# Then interpolate all ROC curves at this points\n",
    "mean_tpr = np.zeros_like(all_fpr)\n",
    "for i in range(n_classes):\n",
    "    mean_tpr += np.interp(all_fpr, fpr[i], tpr[i])\n",
    "\n",
    "# Finally average it and compute AUC\n",
    "mean_tpr /= n_classes\n",
    "\n",
    "fpr[\"macro\"] = all_fpr\n",
    "tpr[\"macro\"] = mean_tpr\n",
    "roc_auc[\"macro\"] = auc(fpr[\"macro\"], tpr[\"macro\"])"
   ]
  },
  {
   "cell_type": "code",
   "execution_count": 51,
   "metadata": {},
   "outputs": [
    {
     "data": {
      "text/plain": [
       "{0: 0.963984674329502,\n",
       " 1: 0.881236571974218,\n",
       " 2: 0.9795991045991046,\n",
       " 'micro': 0.9474371080860273,\n",
       " 'macro': 0.9442874638226747}"
      ]
     },
     "execution_count": 51,
     "metadata": {},
     "output_type": "execute_result"
    }
   ],
   "source": [
    "roc_auc"
   ]
  },
  {
   "cell_type": "code",
   "execution_count": 52,
   "metadata": {},
   "outputs": [
    {
     "data": {
      "image/png": "[encoded data removed]",
      "text/plain": [
       "<Figure size 432x288 with 1 Axes>"
      ]
     },
     "metadata": {
      "needs_background": "light"
     },
     "output_type": "display_data"
    },
    {
     "data": {
      "text/plain": [
       "<Figure size 432x288 with 0 Axes>"
      ]
     },
     "metadata": {},
     "output_type": "display_data"
    }
   ],
   "source": [
    "from itertools import cycle\n",
    "# Plot all ROC curves\n",
    "lw = 2\n",
    "plt.figure()\n",
    "plt.plot(fpr[\"micro\"], tpr[\"micro\"],\n",
    "         label='micro-average ROC curve (area = {0:0.2f})'\n",
    "               ''.format(roc_auc[\"micro\"]),\n",
    "         color='deeppink', linestyle=':', linewidth=4)\n",
    "\n",
    "plt.plot(fpr[\"macro\"], tpr[\"macro\"],\n",
    "         label='macro-average ROC curve (area = {0:0.2f})'\n",
    "               ''.format(roc_auc[\"macro\"]),\n",
    "         color='navy', linestyle=':', linewidth=4)\n",
    "\n",
    "colors = cycle(['aqua', 'darkorange', 'cornflowerblue'])\n",
    "for i, color in zip(range(n_classes), colors):\n",
    "    plt.plot(fpr[i], tpr[i], color=color, lw=lw,\n",
    "             label='ROC curve of class {0} (area = {1:0.2f})'\n",
    "             ''.format(i, roc_auc[i]))\n",
    "\n",
    "plt.plot([0, 1], [0, 1], 'k--', lw=lw)\n",
    "plt.xlim([0.0, 1.0])\n",
    "plt.ylim([0.0, 1.05])\n",
    "plt.xlabel('False Positive Rate')\n",
    "plt.ylabel('True Positive Rate')\n",
    "plt.title('Receiver operating characteristic to multi-class')\n",
    "plt.legend(loc=\"lower right\")\n",
    "plt.show()\n",
    "plt.savefig('roc-efficientnet.png')"
   ]
  },
  {
   "cell_type": "code",
   "execution_count": 53,
   "metadata": {},
   "outputs": [],
   "source": [
    "y_pred= np.argmax(pred_prob,axis=1)"
   ]
  },
  {
   "cell_type": "code",
   "execution_count": 54,
   "metadata": {},
   "outputs": [
    {
     "data": {
      "text/plain": [
       "array([0, 1, 1, 1, 1, 0, 2, 1, 0, 1, 1, 2, 0, 1, 2, 2, 2, 2, 1, 2, 0, 2,\n",
       "       2, 1, 1, 1, 1, 2, 2, 0, 2, 1, 0, 0, 1, 1, 0, 0, 0, 0, 1, 2, 0, 2,\n",
       "       2, 0, 0, 1, 0, 2, 2, 2, 1, 0, 0, 0, 0, 2, 0, 2, 2, 0, 0, 0, 0, 0,\n",
       "       0, 1, 2, 0, 1, 2, 2, 0, 0, 2, 0, 0, 0, 0, 2, 0, 2, 2, 0, 1, 0, 2,\n",
       "       0, 0, 2, 2, 2, 2, 2, 0, 0, 0, 0, 0, 0, 0, 0, 2, 2, 2, 2, 2, 0, 0,\n",
       "       0, 0, 0, 2, 2, 0, 2, 2, 0, 2, 0, 1, 0, 0, 1, 0, 0, 2, 0, 0, 2, 0,\n",
       "       0, 0, 2, 0, 2, 0, 0, 0, 2, 1, 2, 0, 2, 1, 2, 2, 0, 0, 2, 2, 2, 1,\n",
       "       0, 0, 2, 0, 0, 0, 0, 2, 0, 1, 2, 0, 2, 2, 0, 1, 2, 0, 0, 1, 0, 2,\n",
       "       1, 2, 0, 2, 0, 0, 0, 1, 2, 1, 2, 0, 2, 2, 0, 0, 0, 2, 0, 2, 2, 0,\n",
       "       2, 0, 0, 1, 1, 0, 0, 2, 0, 2, 0, 2, 0, 2, 0, 2, 1, 1, 0, 0, 1, 0,\n",
       "       2, 0, 1, 2, 2, 0, 0, 1, 0, 0, 2, 0, 0, 2, 2, 2, 0, 0, 2, 0, 2, 0,\n",
       "       0, 2, 1, 0, 1, 2, 1, 1, 2, 2, 0, 2, 1, 0, 0, 0, 0, 1, 0, 2, 0, 0,\n",
       "       2, 1, 0, 2, 0, 1, 2, 1, 0, 1, 0, 0, 2, 2, 1, 2, 1, 1, 2, 2, 0, 0,\n",
       "       1, 2, 0, 1, 0, 2, 2, 1, 1, 0, 2, 0, 0, 0, 0, 0, 0, 2, 1, 1, 2],\n",
       "      dtype=int64)"
      ]
     },
     "execution_count": 54,
     "metadata": {},
     "output_type": "execute_result"
    }
   ],
   "source": [
    "y_pred"
   ]
  },
  {
   "cell_type": "code",
   "execution_count": 55,
   "metadata": {},
   "outputs": [],
   "source": [
    "y_test = np.argmax(Y_test, axis=1)"
   ]
  },
  {
   "cell_type": "code",
   "execution_count": 56,
   "metadata": {},
   "outputs": [
    {
     "data": {
      "text/plain": [
       "array([0, 0, 0, 1, 1, 0, 2, 1, 0, 1, 1, 2, 0, 1, 2, 2, 2, 2, 0, 2, 0, 2,\n",
       "       2, 1, 1, 1, 0, 2, 2, 0, 1, 1, 0, 1, 1, 1, 0, 0, 0, 0, 1, 1, 0, 2,\n",
       "       2, 0, 0, 0, 0, 2, 0, 2, 1, 0, 0, 0, 0, 2, 0, 2, 1, 0, 0, 0, 0, 0,\n",
       "       0, 1, 2, 0, 1, 2, 2, 0, 0, 2, 0, 0, 0, 1, 2, 0, 2, 2, 0, 1, 0, 2,\n",
       "       0, 0, 2, 1, 2, 2, 2, 0, 0, 0, 0, 0, 1, 0, 0, 2, 2, 0, 2, 2, 0, 0,\n",
       "       1, 0, 0, 2, 1, 0, 2, 2, 0, 2, 1, 1, 0, 0, 1, 0, 0, 2, 0, 0, 2, 0,\n",
       "       0, 0, 2, 1, 2, 0, 0, 0, 2, 1, 2, 0, 2, 1, 2, 2, 0, 0, 1, 1, 1, 1,\n",
       "       0, 0, 1, 0, 0, 0, 0, 2, 0, 1, 2, 1, 2, 2, 1, 1, 2, 1, 0, 1, 0, 0,\n",
       "       1, 2, 0, 2, 0, 0, 0, 1, 2, 2, 2, 0, 2, 2, 0, 0, 0, 1, 0, 1, 2, 0,\n",
       "       2, 0, 0, 1, 1, 0, 0, 2, 0, 2, 0, 2, 0, 2, 1, 1, 1, 0, 0, 0, 1, 0,\n",
       "       2, 0, 1, 2, 2, 0, 0, 1, 0, 0, 2, 0, 0, 2, 1, 2, 0, 0, 2, 0, 2, 0,\n",
       "       0, 1, 1, 0, 0, 2, 1, 1, 2, 2, 0, 2, 1, 0, 0, 0, 0, 0, 0, 2, 0, 0,\n",
       "       2, 1, 0, 2, 0, 0, 1, 1, 0, 0, 0, 0, 2, 2, 0, 2, 2, 1, 2, 2, 1, 0,\n",
       "       1, 2, 0, 1, 0, 2, 2, 1, 1, 0, 2, 0, 0, 0, 0, 0, 0, 0, 1, 2, 2],\n",
       "      dtype=int64)"
      ]
     },
     "execution_count": 56,
     "metadata": {},
     "output_type": "execute_result"
    }
   ],
   "source": [
    "y_test "
   ]
  },
  {
   "cell_type": "code",
   "execution_count": 57,
   "metadata": {},
   "outputs": [],
   "source": [
    "from sklearn.metrics import accuracy_score\n",
    "from sklearn.metrics import precision_score\n",
    "from sklearn.metrics import recall_score\n",
    "from sklearn.metrics import f1_score\n",
    "from sklearn.metrics import cohen_kappa_score\n",
    "from sklearn.metrics import roc_auc_score\n",
    "from sklearn.metrics import confusion_matrix"
   ]
  },
  {
   "cell_type": "code",
   "execution_count": 58,
   "metadata": {},
   "outputs": [
    {
     "name": "stdout",
     "output_type": "stream",
     "text": [
      "Accuracy: 0.856678\n"
     ]
    }
   ],
   "source": [
    "# accuracy: (tp + tn) / (p + n)\n",
    "accuracy = accuracy_score(y_test, y_pred)\n",
    "print('Accuracy: %f' % accuracy)\n",
    "# precision tp / (tp + fp)"
   ]
  },
  {
   "cell_type": "code",
   "execution_count": 59,
   "metadata": {},
   "outputs": [],
   "source": [
    "# precision tp / (tp + fp)\n",
    "precision = precision_score(y_test, y_pred,average=None)\n",
    "#print('Precision: %f' % precision)"
   ]
  },
  {
   "cell_type": "code",
   "execution_count": 60,
   "metadata": {},
   "outputs": [
    {
     "data": {
      "text/plain": [
       "array([0.92198582, 0.76271186, 0.82242991])"
      ]
     },
     "execution_count": 60,
     "metadata": {},
     "output_type": "execute_result"
    }
   ],
   "source": [
    "precision"
   ]
  },
  {
   "cell_type": "code",
   "execution_count": 61,
   "metadata": {},
   "outputs": [],
   "source": [
    "# recall: tp / (tp + fn)\n",
    "recall = recall_score(y_test, y_pred, average = None)\n",
    "#print('Recall: %f' % recall)"
   ]
  },
  {
   "cell_type": "code",
   "execution_count": 62,
   "metadata": {},
   "outputs": [
    {
     "data": {
      "text/plain": [
       "array([0.89655172, 0.63380282, 0.96703297])"
      ]
     },
     "execution_count": 62,
     "metadata": {},
     "output_type": "execute_result"
    }
   ],
   "source": [
    "recall"
   ]
  },
  {
   "cell_type": "code",
   "execution_count": 63,
   "metadata": {},
   "outputs": [],
   "source": [
    "# f1: 2 tp / (2 tp + fp + fn)\n",
    "f1 = f1_score(y_test, y_pred, average = None)\n",
    "#print('F1 score: %f' % f1)"
   ]
  },
  {
   "cell_type": "code",
   "execution_count": 64,
   "metadata": {},
   "outputs": [
    {
     "data": {
      "text/plain": [
       "array([0.90909091, 0.69230769, 0.88888889])"
      ]
     },
     "execution_count": 64,
     "metadata": {},
     "output_type": "execute_result"
    }
   ],
   "source": [
    "f1"
   ]
  },
  {
   "cell_type": "code",
   "execution_count": 65,
   "metadata": {},
   "outputs": [
    {
     "name": "stdout",
     "output_type": "stream",
     "text": [
      "[[130  11   4]\n",
      " [ 11  45  15]\n",
      " [  0   3  88]]\n"
     ]
    }
   ],
   "source": [
    "# confusion matrix\n",
    "matrix = confusion_matrix(y_test, y_pred)\n",
    "print(matrix)"
   ]
  },
  {
   "cell_type": "code",
   "execution_count": 48,
   "metadata": {},
   "outputs": [],
   "source": [
    "#import pickle"
   ]
  },
  {
   "cell_type": "code",
   "execution_count": 49,
   "metadata": {},
   "outputs": [],
   "source": [
    "# save:\n",
    "#f = open('history-efficientnet-image-size-224-with-augmentation.pckl', 'wb')\n",
    "#pickle.dump(history.history, f)\n",
    "#f.close()"
   ]
  },
  {
   "cell_type": "code",
   "execution_count": 43,
   "metadata": {},
   "outputs": [],
   "source": [
    "# retrieve:    \n",
    "#f = open('history.pckl', 'rb')\n",
    "#history2 = pickle.load(f)\n",
    "#f.close()"
   ]
  },
  {
   "cell_type": "code",
   "execution_count": 44,
   "metadata": {},
   "outputs": [
    {
     "data": {
      "text/plain": [
       "False"
      ]
     },
     "execution_count": 44,
     "metadata": {},
     "output_type": "execute_result"
    }
   ],
   "source": [
    "#history == history2"
   ]
  },
  {
   "cell_type": "code",
   "execution_count": 45,
   "metadata": {},
   "outputs": [
    {
     "data": {
      "text/plain": [
       "True"
      ]
     },
     "execution_count": 45,
     "metadata": {},
     "output_type": "execute_result"
    }
   ],
   "source": [
    "#history.history == history2"
   ]
  },
  {
   "cell_type": "code",
   "execution_count": 46,
   "metadata": {},
   "outputs": [
    {
     "data": {
      "text/plain": [
       "[0.45955750346183777,\n",
       " 0.6238664984703064,\n",
       " 0.6851650476455688,\n",
       " 0.7319550514221191,\n",
       " 0.7461008429527283,\n",
       " 0.7627856135368347,\n",
       " 0.7733043432235718,\n",
       " 0.7947043776512146,\n",
       " 0.8012332320213318,\n",
       " 0.807399332523346,\n",
       " 0.8113892078399658,\n",
       " 0.815741777420044,\n",
       " 0.8258976936340332,\n",
       " 0.8233587145805359,\n",
       " 0.8251723051071167,\n",
       " 0.8371418118476868,\n",
       " 0.8338773846626282,\n",
       " 0.8349655270576477,\n",
       " 0.8487486243247986,\n",
       " 0.8472977876663208]"
      ]
     },
     "execution_count": 46,
     "metadata": {},
     "output_type": "execute_result"
    }
   ],
   "source": [
    "#history2['accuracy']"
   ]
  },
  {
   "cell_type": "code",
   "execution_count": null,
   "metadata": {},
   "outputs": [],
   "source": []
  }
 ],
 "metadata": {
  "kernelspec": {
   "display_name": "Python 3",
   "language": "python",
   "name": "python3"
  },
  "language_info": {
   "codemirror_mode": {
    "name": "ipython",
    "version": 3
   },
   "file_extension": ".py",
   "mimetype": "text/x-python",
   "name": "python",
   "nbconvert_exporter": "python",
   "pygments_lexer": "ipython3",
   "version": "3.8.3"
  }
 },
 "nbformat": 4,
 "nbformat_minor": 4
}
