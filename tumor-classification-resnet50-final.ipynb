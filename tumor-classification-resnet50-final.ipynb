{
  "nbformat": 4,
  "nbformat_minor": 0,
  "metadata": {
    "accelerator": "GPU",
    "colab": {
      "name": "Copy of resnet50.ipynb",
      "provenance": []
    },
    "kernelspec": {
      "display_name": "Python 3",
      "name": "python3"
    }
  },
  "cells": [
    {
      "cell_type": "code",
      "metadata": {
        "id": "OWhv8GFmwDGn"
      },
      "source": [
        "import os\r\n",
        "import zipfile\r\n",
        "import numpy as np\r\n",
        "import pandas as pd\r\n",
        "import matplotlib.pyplot as plt\r\n",
        "import pickle\r\n",
        "import h5py\r\n",
        "import cv2"
      ],
      "execution_count": null,
      "outputs": []
    },
    {
      "cell_type": "code",
      "metadata": {
        "colab": {
          "base_uri": "https://localhost:8080/"
        },
        "id": "S14uDcBYOotu",
        "outputId": "e66a2db2-0994-41fa-8a19-ba7a6b25cb10"
      },
      "source": [
        "import tensorflow as tf\r\n",
        "tf.__version__\r\n",
        "!ls \"/content/drive/My Drive\""
      ],
      "execution_count": null,
      "outputs": [
        {
          "output_type": "stream",
          "text": [
            " Classroom  'Colab Notebooks'   dataset  'new dataset'\n"
          ],
          "name": "stdout"
        }
      ]
    },
    {
      "cell_type": "code",
      "metadata": {
        "id": "os9bK9VEOuwn"
      },
      "source": [
        "from imutils import paths\r\n",
        "IMG_PATH = \"/content/drive/My Drive/dataset\"\r\n",
        "images_path = list(paths.list_images(IMG_PATH))\r\n",
        "import os\r\n",
        "import cv2\r\n",
        "import numpy as np"
      ],
      "execution_count": null,
      "outputs": []
    },
    {
      "cell_type": "code",
      "metadata": {
        "id": "WaUMk_LUmVnY"
      },
      "source": [
        "images_path"
      ],
      "execution_count": null,
      "outputs": []
    },
    {
      "cell_type": "code",
      "metadata": {
        "id": "Ra4QiOvAS0Z9"
      },
      "source": [
        "def load(path):\r\n",
        "    data = []\r\n",
        "    labels = []\r\n",
        "    # loop over the input image\r\n",
        "    for (i, imgpath) in enumerate(path):\r\n",
        "      #print(imgpath)\r\n",
        "      gray_img = cv2.imread(imgpath)\r\n",
        "      image = cv2.cvtColor(gray_img, cv2.COLOR_BGR2RGB)\r\n",
        "      image = cv2.resize(image, (224, 224))\r\n",
        "      image = np.array(image)\r\n",
        "      label = imgpath.split(os.path.sep)[-2]\r\n",
        "      data.append(image)\r\n",
        "      labels.append(label)\r\n",
        "    # return a tuple of data and label\r\n",
        "    return data, labels"
      ],
      "execution_count": null,
      "outputs": []
    },
    {
      "cell_type": "code",
      "metadata": {
        "colab": {
          "background_save": true
        },
        "id": "cX0SAjK9TAeU"
      },
      "source": [
        "image_list, label_list = load(images_path)"
      ],
      "execution_count": null,
      "outputs": []
    },
    {
      "cell_type": "code",
      "metadata": {
        "id": "z6BIowUDglcY"
      },
      "source": [
        "label_list"
      ],
      "execution_count": null,
      "outputs": []
    },
    {
      "cell_type": "code",
      "metadata": {
        "id": "gY3cX08pTBVT"
      },
      "source": [
        "label_list_numerical = []\r\n",
        "for i in label_list:\r\n",
        "    if i == 'glioma':\r\n",
        "        label_list_numerical.append(2)\r\n",
        "    elif i == 'meningioma':\r\n",
        "        label_list_numerical.append(1)\r\n",
        "    elif i == 'pituitary':\r\n",
        "        label_list_numerical.append(3)"
      ],
      "execution_count": null,
      "outputs": []
    },
    {
      "cell_type": "code",
      "metadata": {
        "id": "svJx2t_OuE4x"
      },
      "source": [
        "from sklearn.preprocessing import LabelBinarizer\r\n",
        "lb = LabelBinarizer()\r\n",
        "label_list = lb.fit_transform(label_list)"
      ],
      "execution_count": null,
      "outputs": []
    },
    {
      "cell_type": "code",
      "metadata": {
        "id": "L3KeMs_4uJNz"
      },
      "source": [
        "from sklearn.model_selection import train_test_split\r\n",
        "X_train, X_test, Y_train,Y_test = train_test_split(\r\n",
        "    image_list, \r\n",
        "    label_list,\r\n",
        "    test_size = 0.1,\r\n",
        "    random_state = 42)"
      ],
      "execution_count": null,
      "outputs": []
    },
    {
      "cell_type": "code",
      "metadata": {
        "id": "av5z4tD1uOYx"
      },
      "source": [
        "import tensorflow as tf\r\n",
        "#process and batch the test data\r\n",
        "test_batch = tf.data.Dataset.from_tensor_slices((X_test, Y_test)).batch(16)\r\n",
        "#process and batch the train data\r\n",
        "train_batch = tf.data.Dataset.from_tensor_slices((X_train, Y_train)).batch(16)"
      ],
      "execution_count": null,
      "outputs": []
    },
    {
      "cell_type": "code",
      "metadata": {
        "id": "B1VPbd0XuZtd"
      },
      "source": [
        "tf.config.run_functions_eagerly(True)"
      ],
      "execution_count": null,
      "outputs": []
    },
    {
      "cell_type": "code",
      "metadata": {
        "id": "OnaVqBvjufta"
      },
      "source": [
        "#Use buffered prefetching to load images from disk without having I/O become blocking.\r\n",
        "AUTOTUNE = tf.data.experimental.AUTOTUNE\r\n",
        "\r\n",
        "train_dataset = train_batch.prefetch(buffer_size=AUTOTUNE)\r\n",
        "test_dataset = test_batch.prefetch(buffer_size=AUTOTUNE)"
      ],
      "execution_count": null,
      "outputs": []
    },
    {
      "cell_type": "code",
      "metadata": {
        "id": "bmMxZyenumVK"
      },
      "source": [
        "preprocess_input = tf.keras.applications.resnet50.preprocess_input\r\n",
        "from tensorflow.keras.layers.experimental import preprocessing\r\n",
        "from tensorflow.keras.models import Sequential\r\n",
        "img_augmentation = Sequential(\r\n",
        "    [\r\n",
        "        preprocessing.RandomRotation(factor=0.15),\r\n",
        "        preprocessing.RandomTranslation(height_factor=0.1, width_factor=0.1),\r\n",
        "        preprocessing.RandomFlip(),\r\n",
        "        preprocessing.RandomContrast(factor=0.1),\r\n",
        "    ],\r\n",
        "    name=\"img_augmentation\",\r\n",
        ")"
      ],
      "execution_count": null,
      "outputs": []
    },
    {
      "cell_type": "code",
      "metadata": {
        "colab": {
          "base_uri": "https://localhost:8080/"
        },
        "id": "Uygh8Qa2vPSr",
        "outputId": "6d9ac7b2-d367-48b1-9c74-a980c6e623bc"
      },
      "source": [
        "#IMG_SHAPE = image_list[0].shape\r\n",
        "base_model = tf.keras.applications.ResNet50(input_shape=(224,224,3),\r\n",
        "                                               include_top=False,\r\n",
        "                                               weights='imagenet')"
      ],
      "execution_count": null,
      "outputs": [
        {
          "output_type": "stream",
          "text": [
            "Downloading data from https://storage.googleapis.com/tensorflow/keras-applications/resnet/resnet50_weights_tf_dim_ordering_tf_kernels_notop.h5\n",
            "94773248/94765736 [==============================] - 0s 0us/step\n"
          ],
          "name": "stdout"
        }
      ]
    },
    {
      "cell_type": "code",
      "metadata": {
        "id": "VFB-BpJNvUQ2"
      },
      "source": [
        "base_model.trainable = False\r\n",
        "base_model.summary()"
      ],
      "execution_count": null,
      "outputs": []
    },
    {
      "cell_type": "code",
      "metadata": {
        "colab": {
          "base_uri": "https://localhost:8080/"
        },
        "id": "j-eAPOblvY41",
        "outputId": "17782db2-d886-42aa-f063-8740e5cd7dfe"
      },
      "source": [
        "global_average_layer = tf.keras.layers.GlobalAveragePooling2D()\r\n",
        "prediction_layer = tf.keras.layers.Dense(3, activation='softmax')\r\n",
        "prediction_layer.get_config()"
      ],
      "execution_count": null,
      "outputs": [
        {
          "output_type": "execute_result",
          "data": {
            "text/plain": [
              "{'activation': 'softmax',\n",
              " 'activity_regularizer': None,\n",
              " 'bias_constraint': None,\n",
              " 'bias_initializer': {'class_name': 'Zeros', 'config': {}},\n",
              " 'bias_regularizer': None,\n",
              " 'dtype': 'float32',\n",
              " 'kernel_constraint': None,\n",
              " 'kernel_initializer': {'class_name': 'GlorotUniform',\n",
              "  'config': {'seed': None}},\n",
              " 'kernel_regularizer': None,\n",
              " 'name': 'dense',\n",
              " 'trainable': True,\n",
              " 'units': 3,\n",
              " 'use_bias': True}"
            ]
          },
          "metadata": {
            "tags": []
          },
          "execution_count": 18
        }
      ]
    },
    {
      "cell_type": "code",
      "metadata": {
        "id": "EVrxb9CHvmV_"
      },
      "source": [
        "inputs = tf.keras.Input(shape=(224,224, 3))\r\n",
        "x = preprocess_input(inputs)\r\n",
        "x = img_augmentation(x)\r\n",
        "x = base_model(x, training=False)\r\n",
        "x = global_average_layer(x)\r\n",
        "x = tf.keras.layers.BatchNormalization()(x)\r\n",
        "x = tf.keras.layers.Dropout(0.2)(x)\r\n",
        "outputs = prediction_layer(x)\r\n",
        "model = tf.keras.Model(inputs, outputs)"
      ],
      "execution_count": null,
      "outputs": []
    },
    {
      "cell_type": "code",
      "metadata": {
        "id": "sNXhrxyLvzDb"
      },
      "source": [
        "base_learning_rate = 0.0001\r\n",
        "initial_epochs = 20\r\n",
        "model.compile(optimizer=tf.keras.optimizers.Adam(lr=base_learning_rate),\r\n",
        "              loss=tf.keras.losses.categorical_crossentropy,\r\n",
        "              metrics=['accuracy'])"
      ],
      "execution_count": null,
      "outputs": []
    },
    {
      "cell_type": "code",
      "metadata": {
        "colab": {
          "base_uri": "https://localhost:8080/"
        },
        "id": "j7TwHXudv1Dv",
        "outputId": "d9b6389d-84b0-46e0-cc55-d2f7134c8024"
      },
      "source": [
        "from tensorflow.python.client import device_lib\r\n",
        "print(device_lib.list_local_devices())"
      ],
      "execution_count": null,
      "outputs": [
        {
          "output_type": "stream",
          "text": [
            "[name: \"/device:CPU:0\"\n",
            "device_type: \"CPU\"\n",
            "memory_limit: 268435456\n",
            "locality {\n",
            "}\n",
            "incarnation: 1815687684880254585\n",
            ", name: \"/device:GPU:0\"\n",
            "device_type: \"GPU\"\n",
            "memory_limit: 14638920512\n",
            "locality {\n",
            "  bus_id: 1\n",
            "  links {\n",
            "  }\n",
            "}\n",
            "incarnation: 10360021402325281373\n",
            "physical_device_desc: \"device: 0, name: Tesla T4, pci bus id: 0000:00:04.0, compute capability: 7.5\"\n",
            "]\n"
          ],
          "name": "stdout"
        }
      ]
    },
    {
      "cell_type": "code",
      "metadata": {
        "colab": {
          "base_uri": "https://localhost:8080/"
        },
        "id": "SwXFjDJQv_gi",
        "outputId": "c6d9dbee-dff2-4139-cf0a-de610ef37408"
      },
      "source": [
        "history = model.fit(train_dataset, epochs=initial_epochs,validation_data=test_dataset)"
      ],
      "execution_count": null,
      "outputs": [
        {
          "output_type": "stream",
          "text": [
            "Epoch 1/20\n",
            "165/165 [==============================] - 39s 194ms/step - loss: 1.2531 - accuracy: 0.4993 - val_loss: 0.6343 - val_accuracy: 0.7474\n",
            "Epoch 2/20\n",
            "165/165 [==============================] - 32s 196ms/step - loss: 0.6741 - accuracy: 0.7275 - val_loss: 0.5046 - val_accuracy: 0.7918\n",
            "Epoch 3/20\n",
            "165/165 [==============================] - 32s 196ms/step - loss: 0.5266 - accuracy: 0.7889 - val_loss: 0.4870 - val_accuracy: 0.8020\n",
            "Epoch 4/20\n",
            "165/165 [==============================] - 32s 195ms/step - loss: 0.4950 - accuracy: 0.8126 - val_loss: 0.4655 - val_accuracy: 0.8089\n",
            "Epoch 5/20\n",
            "165/165 [==============================] - 32s 196ms/step - loss: 0.4744 - accuracy: 0.8315 - val_loss: 0.4391 - val_accuracy: 0.8225\n",
            "Epoch 6/20\n",
            "165/165 [==============================] - 32s 196ms/step - loss: 0.4217 - accuracy: 0.8409 - val_loss: 0.4239 - val_accuracy: 0.8294\n",
            "Epoch 7/20\n",
            "165/165 [==============================] - 32s 195ms/step - loss: 0.4174 - accuracy: 0.8437 - val_loss: 0.3929 - val_accuracy: 0.8396\n",
            "Epoch 8/20\n",
            "165/165 [==============================] - 32s 195ms/step - loss: 0.4004 - accuracy: 0.8401 - val_loss: 0.3926 - val_accuracy: 0.8532\n",
            "Epoch 9/20\n",
            "165/165 [==============================] - 32s 196ms/step - loss: 0.3929 - accuracy: 0.8494 - val_loss: 0.3767 - val_accuracy: 0.8567\n",
            "Epoch 10/20\n",
            "165/165 [==============================] - 32s 196ms/step - loss: 0.3365 - accuracy: 0.8659 - val_loss: 0.3715 - val_accuracy: 0.8601\n",
            "Epoch 11/20\n",
            "165/165 [==============================] - 32s 195ms/step - loss: 0.3517 - accuracy: 0.8646 - val_loss: 0.3644 - val_accuracy: 0.8635\n",
            "Epoch 12/20\n",
            "165/165 [==============================] - 32s 195ms/step - loss: 0.3474 - accuracy: 0.8618 - val_loss: 0.3512 - val_accuracy: 0.8703\n",
            "Epoch 13/20\n",
            "165/165 [==============================] - 32s 195ms/step - loss: 0.3304 - accuracy: 0.8711 - val_loss: 0.3499 - val_accuracy: 0.8840\n",
            "Epoch 14/20\n",
            "165/165 [==============================] - 32s 195ms/step - loss: 0.3275 - accuracy: 0.8810 - val_loss: 0.3433 - val_accuracy: 0.8703\n",
            "Epoch 15/20\n",
            "165/165 [==============================] - 32s 195ms/step - loss: 0.3234 - accuracy: 0.8754 - val_loss: 0.3350 - val_accuracy: 0.8805\n",
            "Epoch 16/20\n",
            "165/165 [==============================] - 32s 195ms/step - loss: 0.2923 - accuracy: 0.8886 - val_loss: 0.3288 - val_accuracy: 0.8703\n",
            "Epoch 17/20\n",
            "165/165 [==============================] - 32s 194ms/step - loss: 0.3003 - accuracy: 0.8785 - val_loss: 0.3183 - val_accuracy: 0.8805\n",
            "Epoch 18/20\n",
            "165/165 [==============================] - 32s 195ms/step - loss: 0.2976 - accuracy: 0.8913 - val_loss: 0.3186 - val_accuracy: 0.8840\n",
            "Epoch 19/20\n",
            "165/165 [==============================] - 32s 195ms/step - loss: 0.2814 - accuracy: 0.8964 - val_loss: 0.3084 - val_accuracy: 0.8840\n",
            "Epoch 20/20\n",
            "165/165 [==============================] - 32s 194ms/step - loss: 0.2844 - accuracy: 0.8896 - val_loss: 0.3136 - val_accuracy: 0.8874\n"
          ],
          "name": "stdout"
        }
      ]
    },
    {
      "cell_type": "code",
      "metadata": {
        "colab": {
          "base_uri": "https://localhost:8080/",
          "height": 530
        },
        "id": "HbM_bcMzwJgj",
        "outputId": "93e6bc2f-548f-4685-e6e1-7cd3da45a085"
      },
      "source": [
        "acc = history.history['accuracy']\r\n",
        "val_acc = history.history['val_accuracy']\r\n",
        "loss = history.history['loss']\r\n",
        "val_loss = history.history['val_loss']\r\n",
        "\r\n",
        "plt.figure(figsize=(8, 8))\r\n",
        "plt.subplot(2, 1, 1)\r\n",
        "plt.plot(acc, label='Training Accuracy')\r\n",
        "plt.plot(val_acc, label ='Validation Accuracy')\r\n",
        "#plt.plot(val_acc, label='Validation Accuracy')\r\n",
        "plt.legend(loc='lower right')\r\n",
        "plt.ylabel('Accuracy')\r\n",
        "plt.ylim([min(plt.ylim()),1])\r\n",
        "plt.title('Training and Validation Accuracy')\r\n",
        "\r\n",
        "plt.subplot(2, 1, 2)\r\n",
        "plt.plot(loss, label='Training Loss')\r\n",
        "plt.plot(val_loss, label='Validation Loss')\r\n",
        "#plt.plot(val_loss, label='Validation Loss')\r\n",
        "plt.legend(loc='upper right')\r\n",
        "plt.ylabel('Cross Entropy')\r\n",
        "plt.ylim([0,1.0])\r\n",
        "plt.title('Training and Validation Loss')\r\n",
        "plt.xlabel('epoch')\r\n",
        "plt.show()\r\n",
        "plt.savefig('accuracy-loss-restnet.png')"
      ],
      "execution_count": null,
      "outputs": [
        {
          "output_type": "display_data",
          "data": {
            "image/png": "[encoded data removed]",
            "text/plain": [
              "<Figure size 576x576 with 2 Axes>"
            ]
          },
          "metadata": {
            "tags": [],
            "needs_background": "light"
          }
        },
        {
          "output_type": "display_data",
          "data": {
            "text/plain": [
              "<Figure size 432x288 with 0 Axes>"
            ]
          },
          "metadata": {
            "tags": []
          }
        }
      ]
    },
    {
      "cell_type": "code",
      "metadata": {
        "colab": {
          "base_uri": "https://localhost:8080/",
          "height": 312
        },
        "id": "4e_neebWypVV",
        "outputId": "9275e84a-963e-4723-fd50-4d0198be6e9f"
      },
      "source": [
        "from matplotlib import pyplot as plt\r\n",
        "#plot training and validation accuracy\r\n",
        "plt.plot(history.history['accuracy'])\r\n",
        "plt.plot(history.history['val_accuracy'])\r\n",
        "plt.title('model accuracy')\r\n",
        "plt.ylabel('accuracy')\r\n",
        "plt.xlabel('epoch')\r\n",
        "plt.legend(['train', 'val'], loc='upper left')\r\n",
        "plt.show()\r\n",
        "plt.savefig('accuracy_curve_restnet.png')"
      ],
      "execution_count": null,
      "outputs": [
        {
          "output_type": "display_data",
          "data": {
            "image/png": "[encoded data removed]",
            "text/plain": [
              "<Figure size 432x288 with 1 Axes>"
            ]
          },
          "metadata": {
            "tags": [],
            "needs_background": "light"
          }
        },
        {
          "output_type": "display_data",
          "data": {
            "text/plain": [
              "<Figure size 432x288 with 0 Axes>"
            ]
          },
          "metadata": {
            "tags": []
          }
        }
      ]
    },
    {
      "cell_type": "code",
      "metadata": {
        "colab": {
          "base_uri": "https://localhost:8080/",
          "height": 312
        },
        "id": "Ml772r29yw8D",
        "outputId": "b06e7edc-2a40-4858-9e4b-a2692e5ffd1b"
      },
      "source": [
        "#plot training and validation loss\r\n",
        "plt.plot(history.history['loss'])\r\n",
        "plt.plot(history.history['val_loss'])\r\n",
        "plt.title('model loss')\r\n",
        "plt.ylabel('loss')\r\n",
        "plt.xlabel('epoch')\r\n",
        "plt.legend(['train', 'val'], loc='upper left')\r\n",
        "plt.show()\r\n",
        "plt.savefig('loss_curve_restnet.png')"
      ],
      "execution_count": null,
      "outputs": [
        {
          "output_type": "display_data",
          "data": {
            "image/png": "[encoded data removed]",
            "text/plain": [
              "<Figure size 432x288 with 1 Axes>"
            ]
          },
          "metadata": {
            "tags": [],
            "needs_background": "light"
          }
        },
        {
          "output_type": "display_data",
          "data": {
            "text/plain": [
              "<Figure size 432x288 with 0 Axes>"
            ]
          },
          "metadata": {
            "tags": []
          }
        }
      ]
    },
    {
      "cell_type": "code",
      "metadata": {
        "id": "X6IWaPwUy__W"
      },
      "source": [
        "pred_prob = model.predict(test_dataset)\r\n",
        "n_classes = 3\r\n",
        "#Multiclass ROC curve\r\n",
        "from scipy import interp\r\n",
        "from sklearn.metrics import roc_auc_score\r\n",
        "from sklearn.metrics import roc_curve, auc"
      ],
      "execution_count": null,
      "outputs": []
    },
    {
      "cell_type": "code",
      "metadata": {
        "id": "_hJOb3eKzSxG"
      },
      "source": [
        "# Compute ROC curve and ROC area for each class\r\n",
        "fpr = dict()\r\n",
        "tpr = dict()\r\n",
        "roc_auc = dict()\r\n",
        "for i in range(3):\r\n",
        "    fpr[i], tpr[i], _ = roc_curve(Y_test[:, i], pred_prob[:, i])\r\n",
        "    roc_auc[i] = auc(fpr[i], tpr[i])"
      ],
      "execution_count": null,
      "outputs": []
    },
    {
      "cell_type": "code",
      "metadata": {
        "colab": {
          "base_uri": "https://localhost:8080/"
        },
        "id": "-VFknSpqzcNQ",
        "outputId": "5f7bab3f-e614-450e-d82d-c7dbe379f01b"
      },
      "source": [
        "roc_auc"
      ],
      "execution_count": null,
      "outputs": [
        {
          "output_type": "execute_result",
          "data": {
            "text/plain": [
              "{0: 0.9757142857142858, 1: 0.9421406727828746, 2: 0.9897311827956989}"
            ]
          },
          "metadata": {
            "tags": []
          },
          "execution_count": 29
        }
      ]
    },
    {
      "cell_type": "code",
      "metadata": {
        "id": "mtxQY94qzd43"
      },
      "source": [
        "# Compute micro-average ROC curve and ROC area\r\n",
        "fpr[\"micro\"], tpr[\"micro\"], _ = roc_curve(Y_test.ravel(), pred_prob.ravel())\r\n",
        "roc_auc[\"micro\"] = auc(fpr[\"micro\"], tpr[\"micro\"])"
      ],
      "execution_count": null,
      "outputs": []
    },
    {
      "cell_type": "code",
      "metadata": {
        "id": "mJfnEpdpzia2"
      },
      "source": [
        "#compute macro-average ROC curve and ROC area\r\n",
        "# First aggregate all false positive rates\r\n",
        "all_fpr = np.unique(np.concatenate([fpr[i] for i in range(n_classes)]))\r\n",
        "\r\n",
        "# Then interpolate all ROC curves at this points\r\n",
        "mean_tpr = np.zeros_like(all_fpr)\r\n",
        "for i in range(n_classes):\r\n",
        "    mean_tpr += np.interp(all_fpr, fpr[i], tpr[i])\r\n",
        "\r\n",
        "# Finally average it and compute AUC\r\n",
        "mean_tpr /= n_classes\r\n",
        "\r\n",
        "fpr[\"macro\"] = all_fpr\r\n",
        "tpr[\"macro\"] = mean_tpr\r\n",
        "roc_auc[\"macro\"] = auc(fpr[\"macro\"], tpr[\"macro\"])"
      ],
      "execution_count": null,
      "outputs": []
    },
    {
      "cell_type": "code",
      "metadata": {
        "colab": {
          "base_uri": "https://localhost:8080/",
          "height": 312
        },
        "id": "vjyF57JfznF1",
        "outputId": "3aad5be8-b1bd-4aa8-87df-baa02a7f3b24"
      },
      "source": [
        "from itertools import cycle\r\n",
        "# Plot all ROC curves\r\n",
        "lw = 2\r\n",
        "plt.figure()\r\n",
        "plt.plot(fpr[\"micro\"], tpr[\"micro\"],\r\n",
        "         label='micro-average ROC curve (area = {0:0.2f})'\r\n",
        "               ''.format(roc_auc[\"micro\"]),\r\n",
        "         color='deeppink', linestyle=':', linewidth=4)\r\n",
        "\r\n",
        "plt.plot(fpr[\"macro\"], tpr[\"macro\"],\r\n",
        "         label='macro-average ROC curve (area = {0:0.2f})'\r\n",
        "               ''.format(roc_auc[\"macro\"]),\r\n",
        "         color='navy', linestyle=':', linewidth=4)\r\n",
        "\r\n",
        "colors = cycle(['aqua', 'darkorange', 'cornflowerblue'])\r\n",
        "for i, color in zip(range(n_classes), colors):\r\n",
        "    plt.plot(fpr[i], tpr[i], color=color, lw=lw,\r\n",
        "             label='ROC curve of class {0} (area = {1:0.2f})'\r\n",
        "             ''.format(i, roc_auc[i]))\r\n",
        "\r\n",
        "plt.plot([0, 1], [0, 1], 'k--', lw=lw)\r\n",
        "plt.xlim([0.0, 1.0])\r\n",
        "plt.ylim([0.0, 1.05])\r\n",
        "plt.xlabel('False Positive Rate')\r\n",
        "plt.ylabel('True Positive Rate')\r\n",
        "plt.title('Some extension of Receiver operating characteristic to multi-class')\r\n",
        "plt.legend(loc=\"lower right\")\r\n",
        "plt.show()\r\n",
        "plt.savefig('roc-restnet.png')"
      ],
      "execution_count": null,
      "outputs": [
        {
          "output_type": "display_data",
          "data": {
            "image/png": "[encoded data removed]",
            "text/plain": [
              "<Figure size 432x288 with 1 Axes>"
            ]
          },
          "metadata": {
            "tags": [],
            "needs_background": "light"
          }
        },
        {
          "output_type": "display_data",
          "data": {
            "text/plain": [
              "<Figure size 432x288 with 0 Axes>"
            ]
          },
          "metadata": {
            "tags": []
          }
        }
      ]
    },
    {
      "cell_type": "code",
      "metadata": {
        "id": "sRuZ-UUCzyhf"
      },
      "source": [
        "y_pred= np.argmax(pred_prob,axis=1)"
      ],
      "execution_count": null,
      "outputs": []
    },
    {
      "cell_type": "code",
      "metadata": {
        "id": "_BNPYOR9z4lF"
      },
      "source": [
        "y_test = np.argmax(Y_test, axis=1)"
      ],
      "execution_count": null,
      "outputs": []
    },
    {
      "cell_type": "code",
      "metadata": {
        "id": "D9hggCjwz8oo"
      },
      "source": [
        "from sklearn.metrics import accuracy_score\r\n",
        "from sklearn.metrics import precision_score\r\n",
        "from sklearn.metrics import recall_score\r\n",
        "from sklearn.metrics import f1_score\r\n",
        "from sklearn.metrics import cohen_kappa_score\r\n",
        "from sklearn.metrics import roc_auc_score\r\n",
        "from sklearn.metrics import confusion_matrix"
      ],
      "execution_count": null,
      "outputs": []
    },
    {
      "cell_type": "code",
      "metadata": {
        "colab": {
          "base_uri": "https://localhost:8080/"
        },
        "id": "rXoXC90P0BUR",
        "outputId": "c67151d6-c247-4fec-e9a4-d55efed4657e"
      },
      "source": [
        "# accuracy: (tp + tn) / (p + n)\r\n",
        "accuracy = accuracy_score(y_test, y_pred)\r\n",
        "print('Accuracy: %f' % accuracy)\r\n",
        "# precision tp / (tp + fp)"
      ],
      "execution_count": null,
      "outputs": [
        {
          "output_type": "stream",
          "text": [
            "Accuracy: 0.887372\n"
          ],
          "name": "stdout"
        }
      ]
    },
    {
      "cell_type": "code",
      "metadata": {
        "colab": {
          "base_uri": "https://localhost:8080/"
        },
        "id": "43ljsb-T0FsT",
        "outputId": "47c7b73e-71f8-4f95-fe33-e801f5b6130b"
      },
      "source": [
        "# precision tp / (tp + fp)\r\n",
        "precision = precision_score(y_test, y_pred,average=None)\r\n",
        "#print('Precision: %f' % precision)\r\n",
        "precision"
      ],
      "execution_count": null,
      "outputs": [
        {
          "output_type": "execute_result",
          "data": {
            "text/plain": [
              "array([0.89393939, 0.8358209 , 0.91489362])"
            ]
          },
          "metadata": {
            "tags": []
          },
          "execution_count": 37
        }
      ]
    },
    {
      "cell_type": "code",
      "metadata": {
        "colab": {
          "base_uri": "https://localhost:8080/"
        },
        "id": "2CO4ny1E0NUg",
        "outputId": "43d8c7e7-1bac-4af2-807f-8fe3907eec85"
      },
      "source": [
        "# recall: tp / (tp + fn)\r\n",
        "recall = recall_score(y_test, y_pred, average = None)\r\n",
        "#print('Recall: %f' % recall)\r\n",
        "recall"
      ],
      "execution_count": null,
      "outputs": [
        {
          "output_type": "execute_result",
          "data": {
            "text/plain": [
              "array([0.944     , 0.74666667, 0.92473118])"
            ]
          },
          "metadata": {
            "tags": []
          },
          "execution_count": 38
        }
      ]
    },
    {
      "cell_type": "code",
      "metadata": {
        "colab": {
          "base_uri": "https://localhost:8080/"
        },
        "id": "C1o9iLrB0SRZ",
        "outputId": "8c44bb8a-545d-4cde-8610-4e4f8c4e1d4d"
      },
      "source": [
        "# f1: 2 tp / (2 tp + fp + fn)\r\n",
        "f1 = f1_score(y_test, y_pred, average = None)\r\n",
        "#print('F1 score: %f' % f1)\r\n",
        "f1"
      ],
      "execution_count": null,
      "outputs": [
        {
          "output_type": "execute_result",
          "data": {
            "text/plain": [
              "array([0.91828794, 0.78873239, 0.9197861 ])"
            ]
          },
          "metadata": {
            "tags": []
          },
          "execution_count": 39
        }
      ]
    },
    {
      "cell_type": "code",
      "metadata": {
        "colab": {
          "base_uri": "https://localhost:8080/"
        },
        "id": "uyB5D7FW0YW9",
        "outputId": "5ceaaaf4-5ae3-4f88-c433-25cdebd1a5cf"
      },
      "source": [
        "# confusion matrix\r\n",
        "matrix = confusion_matrix(y_test, y_pred)\r\n",
        "print(matrix)"
      ],
      "execution_count": null,
      "outputs": [
        {
          "output_type": "stream",
          "text": [
            "[[118   5   2]\n",
            " [ 13  56   6]\n",
            " [  1   6  86]]\n"
          ],
          "name": "stdout"
        }
      ]
    },
    {
      "cell_type": "code",
      "metadata": {
        "id": "Pq-hl_Vq0dla"
      },
      "source": [
        ""
      ],
      "execution_count": null,
      "outputs": []
    }
  ]
}